{
  "cells": [
    {
      "cell_type": "markdown",
      "metadata": {
        "id": "ufM9khrWaTmc"
      },
      "source": [
        "# Aula 2 - Importação"
      ]
    },
    {
      "cell_type": "code",
      "execution_count": 30,
      "metadata": {
        "id": "GI0hFJH-aJci"
      },
      "outputs": [],
      "source": [
        "import pandas as pd\n",
        "import plotly.express as px"
      ]
    },
    {
      "cell_type": "code",
      "execution_count": 31,
      "metadata": {
        "colab": {
          "base_uri": "https://localhost:8080/",
          "height": 614
        },
        "id": "c-P-nh7JcCH6",
        "outputId": "86b29929-ccfc-4cbe-b5b5-38dc5f67142a"
      },
      "outputs": [
        {
          "data": {
            "text/html": [
              "<div>\n",
              "<style scoped>\n",
              "    .dataframe tbody tr th:only-of-type {\n",
              "        vertical-align: middle;\n",
              "    }\n",
              "\n",
              "    .dataframe tbody tr th {\n",
              "        vertical-align: top;\n",
              "    }\n",
              "\n",
              "    .dataframe thead th {\n",
              "        text-align: right;\n",
              "    }\n",
              "</style>\n",
              "<table border=\"1\" class=\"dataframe\">\n",
              "  <thead>\n",
              "    <tr style=\"text-align: right;\">\n",
              "      <th></th>\n",
              "      <th>Ativo</th>\n",
              "      <th>Data</th>\n",
              "      <th>Último (R$)</th>\n",
              "      <th>Var. Dia (%)</th>\n",
              "      <th>Var. Sem. (%)</th>\n",
              "      <th>Var. Mês (%)</th>\n",
              "      <th>Var. Ano (%)</th>\n",
              "      <th>Var. 12M (%)</th>\n",
              "      <th>Val. Mín</th>\n",
              "      <th>Val. Máx</th>\n",
              "      <th>Volume</th>\n",
              "    </tr>\n",
              "  </thead>\n",
              "  <tbody>\n",
              "    <tr>\n",
              "      <th>0</th>\n",
              "      <td>USIM5</td>\n",
              "      <td>2024-01-26</td>\n",
              "      <td>9.50</td>\n",
              "      <td>5.20</td>\n",
              "      <td>11.76</td>\n",
              "      <td>2.26</td>\n",
              "      <td>2.26</td>\n",
              "      <td>15.97</td>\n",
              "      <td>9.18</td>\n",
              "      <td>9.56</td>\n",
              "      <td>319,16 M</td>\n",
              "    </tr>\n",
              "    <tr>\n",
              "      <th>1</th>\n",
              "      <td>CMIN3</td>\n",
              "      <td>2024-01-26</td>\n",
              "      <td>6.82</td>\n",
              "      <td>2.40</td>\n",
              "      <td>2.40</td>\n",
              "      <td>-12.11</td>\n",
              "      <td>-12.11</td>\n",
              "      <td>50.56</td>\n",
              "      <td>6.66</td>\n",
              "      <td>6.86</td>\n",
              "      <td>32,65 M</td>\n",
              "    </tr>\n",
              "    <tr>\n",
              "      <th>2</th>\n",
              "      <td>PETR3</td>\n",
              "      <td>2024-01-26</td>\n",
              "      <td>41.96</td>\n",
              "      <td>2.19</td>\n",
              "      <td>7.73</td>\n",
              "      <td>7.64</td>\n",
              "      <td>7.64</td>\n",
              "      <td>77.55</td>\n",
              "      <td>40.81</td>\n",
              "      <td>42.34</td>\n",
              "      <td>436,69 M</td>\n",
              "    </tr>\n",
              "    <tr>\n",
              "      <th>3</th>\n",
              "      <td>SUZB3</td>\n",
              "      <td>2024-01-26</td>\n",
              "      <td>52.91</td>\n",
              "      <td>2.04</td>\n",
              "      <td>2.14</td>\n",
              "      <td>-4.89</td>\n",
              "      <td>-4.89</td>\n",
              "      <td>18.85</td>\n",
              "      <td>51.89</td>\n",
              "      <td>53.17</td>\n",
              "      <td>162,55 M</td>\n",
              "    </tr>\n",
              "    <tr>\n",
              "      <th>4</th>\n",
              "      <td>CPFE3</td>\n",
              "      <td>2024-01-26</td>\n",
              "      <td>37.10</td>\n",
              "      <td>2.03</td>\n",
              "      <td>2.49</td>\n",
              "      <td>-3.66</td>\n",
              "      <td>-3.66</td>\n",
              "      <td>20.70</td>\n",
              "      <td>36.37</td>\n",
              "      <td>37.32</td>\n",
              "      <td>73,42 M</td>\n",
              "    </tr>\n",
              "    <tr>\n",
              "      <th>...</th>\n",
              "      <td>...</td>\n",
              "      <td>...</td>\n",
              "      <td>...</td>\n",
              "      <td>...</td>\n",
              "      <td>...</td>\n",
              "      <td>...</td>\n",
              "      <td>...</td>\n",
              "      <td>...</td>\n",
              "      <td>...</td>\n",
              "      <td>...</td>\n",
              "      <td>...</td>\n",
              "    </tr>\n",
              "    <tr>\n",
              "      <th>76</th>\n",
              "      <td>CRFB3</td>\n",
              "      <td>2024-01-26</td>\n",
              "      <td>10.71</td>\n",
              "      <td>-2.45</td>\n",
              "      <td>-9.47</td>\n",
              "      <td>-13.98</td>\n",
              "      <td>-13.98</td>\n",
              "      <td>-32.72</td>\n",
              "      <td>10.70</td>\n",
              "      <td>11.08</td>\n",
              "      <td>38,19 M</td>\n",
              "    </tr>\n",
              "    <tr>\n",
              "      <th>77</th>\n",
              "      <td>BHIA3</td>\n",
              "      <td>2024-01-26</td>\n",
              "      <td>8.70</td>\n",
              "      <td>-2.46</td>\n",
              "      <td>-6.95</td>\n",
              "      <td>-23.55</td>\n",
              "      <td>-23.55</td>\n",
              "      <td>-85.74</td>\n",
              "      <td>8.67</td>\n",
              "      <td>8.95</td>\n",
              "      <td>27,54 M</td>\n",
              "    </tr>\n",
              "    <tr>\n",
              "      <th>78</th>\n",
              "      <td>RENT3</td>\n",
              "      <td>2024-01-26</td>\n",
              "      <td>56.24</td>\n",
              "      <td>-3.63</td>\n",
              "      <td>-6.41</td>\n",
              "      <td>-11.57</td>\n",
              "      <td>-11.57</td>\n",
              "      <td>-2.77</td>\n",
              "      <td>56.04</td>\n",
              "      <td>58.90</td>\n",
              "      <td>624,74 M</td>\n",
              "    </tr>\n",
              "    <tr>\n",
              "      <th>79</th>\n",
              "      <td>CVCB3</td>\n",
              "      <td>2024-01-26</td>\n",
              "      <td>3.07</td>\n",
              "      <td>-4.36</td>\n",
              "      <td>-5.54</td>\n",
              "      <td>-12.29</td>\n",
              "      <td>-12.29</td>\n",
              "      <td>-36.83</td>\n",
              "      <td>3.05</td>\n",
              "      <td>3.23</td>\n",
              "      <td>101,46 M</td>\n",
              "    </tr>\n",
              "    <tr>\n",
              "      <th>80</th>\n",
              "      <td>GOLL4</td>\n",
              "      <td>2024-01-26</td>\n",
              "      <td>5.92</td>\n",
              "      <td>-8.07</td>\n",
              "      <td>-15.91</td>\n",
              "      <td>-34.00</td>\n",
              "      <td>-34.00</td>\n",
              "      <td>-25.44</td>\n",
              "      <td>5.51</td>\n",
              "      <td>6.02</td>\n",
              "      <td>154,36 M</td>\n",
              "    </tr>\n",
              "  </tbody>\n",
              "</table>\n",
              "<p>81 rows × 11 columns</p>\n",
              "</div>"
            ],
            "text/plain": [
              "    Ativo       Data  Último (R$)  Var. Dia (%)  Var. Sem. (%)  Var. Mês (%)  \\\n",
              "0   USIM5 2024-01-26         9.50          5.20          11.76          2.26   \n",
              "1   CMIN3 2024-01-26         6.82          2.40           2.40        -12.11   \n",
              "2   PETR3 2024-01-26        41.96          2.19           7.73          7.64   \n",
              "3   SUZB3 2024-01-26        52.91          2.04           2.14         -4.89   \n",
              "4   CPFE3 2024-01-26        37.10          2.03           2.49         -3.66   \n",
              "..    ...        ...          ...           ...            ...           ...   \n",
              "76  CRFB3 2024-01-26        10.71         -2.45          -9.47        -13.98   \n",
              "77  BHIA3 2024-01-26         8.70         -2.46          -6.95        -23.55   \n",
              "78  RENT3 2024-01-26        56.24         -3.63          -6.41        -11.57   \n",
              "79  CVCB3 2024-01-26         3.07         -4.36          -5.54        -12.29   \n",
              "80  GOLL4 2024-01-26         5.92         -8.07         -15.91        -34.00   \n",
              "\n",
              "    Var. Ano (%)  Var. 12M (%)  Val. Mín  Val. Máx    Volume  \n",
              "0           2.26         15.97      9.18      9.56  319,16 M  \n",
              "1         -12.11         50.56      6.66      6.86   32,65 M  \n",
              "2           7.64         77.55     40.81     42.34  436,69 M  \n",
              "3          -4.89         18.85     51.89     53.17  162,55 M  \n",
              "4          -3.66         20.70     36.37     37.32   73,42 M  \n",
              "..           ...           ...       ...       ...       ...  \n",
              "76        -13.98        -32.72     10.70     11.08   38,19 M  \n",
              "77        -23.55        -85.74      8.67      8.95   27,54 M  \n",
              "78        -11.57         -2.77     56.04     58.90  624,74 M  \n",
              "79        -12.29        -36.83      3.05      3.23  101,46 M  \n",
              "80        -34.00        -25.44      5.51      6.02  154,36 M  \n",
              "\n",
              "[81 rows x 11 columns]"
            ]
          },
          "execution_count": 31,
          "metadata": {},
          "output_type": "execute_result"
        }
      ],
      "source": [
        "df_principal = pd.read_excel(\"./acoes_pura.xlsx\", sheet_name=\"Principal\")\n",
        "df_principal"
      ]
    },
    {
      "cell_type": "code",
      "execution_count": 32,
      "metadata": {
        "colab": {
          "base_uri": "https://localhost:8080/",
          "height": 620
        },
        "id": "7v3JCYeTdQyH",
        "outputId": "8add5463-1ff1-41f2-d510-5f6f8493ed80"
      },
      "outputs": [
        {
          "data": {
            "text/html": [
              "<div>\n",
              "<style scoped>\n",
              "    .dataframe tbody tr th:only-of-type {\n",
              "        vertical-align: middle;\n",
              "    }\n",
              "\n",
              "    .dataframe tbody tr th {\n",
              "        vertical-align: top;\n",
              "    }\n",
              "\n",
              "    .dataframe thead th {\n",
              "        text-align: right;\n",
              "    }\n",
              "</style>\n",
              "<table border=\"1\" class=\"dataframe\">\n",
              "  <thead>\n",
              "    <tr style=\"text-align: right;\">\n",
              "      <th></th>\n",
              "      <th>Ativo</th>\n",
              "      <th>Data</th>\n",
              "      <th>Último (R$)</th>\n",
              "      <th>Var. Dia (%)</th>\n",
              "      <th>Var. Sem. (%)</th>\n",
              "      <th>Var. Mês (%)</th>\n",
              "      <th>Var. Ano (%)</th>\n",
              "      <th>Var. 12M (%)</th>\n",
              "      <th>Val. Mín</th>\n",
              "      <th>Val. Máx</th>\n",
              "      <th>Volume</th>\n",
              "    </tr>\n",
              "  </thead>\n",
              "  <tbody>\n",
              "    <tr>\n",
              "      <th>0</th>\n",
              "      <td>USIM5</td>\n",
              "      <td>2024-01-26</td>\n",
              "      <td>9.50</td>\n",
              "      <td>5.20</td>\n",
              "      <td>11.76</td>\n",
              "      <td>2.26</td>\n",
              "      <td>2.26</td>\n",
              "      <td>15.97</td>\n",
              "      <td>9.18</td>\n",
              "      <td>9.56</td>\n",
              "      <td>319,16 M</td>\n",
              "    </tr>\n",
              "    <tr>\n",
              "      <th>1</th>\n",
              "      <td>CMIN3</td>\n",
              "      <td>2024-01-26</td>\n",
              "      <td>6.82</td>\n",
              "      <td>2.40</td>\n",
              "      <td>2.40</td>\n",
              "      <td>-12.11</td>\n",
              "      <td>-12.11</td>\n",
              "      <td>50.56</td>\n",
              "      <td>6.66</td>\n",
              "      <td>6.86</td>\n",
              "      <td>32,65 M</td>\n",
              "    </tr>\n",
              "    <tr>\n",
              "      <th>2</th>\n",
              "      <td>PETR3</td>\n",
              "      <td>2024-01-26</td>\n",
              "      <td>41.96</td>\n",
              "      <td>2.19</td>\n",
              "      <td>7.73</td>\n",
              "      <td>7.64</td>\n",
              "      <td>7.64</td>\n",
              "      <td>77.55</td>\n",
              "      <td>40.81</td>\n",
              "      <td>42.34</td>\n",
              "      <td>436,69 M</td>\n",
              "    </tr>\n",
              "    <tr>\n",
              "      <th>3</th>\n",
              "      <td>SUZB3</td>\n",
              "      <td>2024-01-26</td>\n",
              "      <td>52.91</td>\n",
              "      <td>2.04</td>\n",
              "      <td>2.14</td>\n",
              "      <td>-4.89</td>\n",
              "      <td>-4.89</td>\n",
              "      <td>18.85</td>\n",
              "      <td>51.89</td>\n",
              "      <td>53.17</td>\n",
              "      <td>162,55 M</td>\n",
              "    </tr>\n",
              "    <tr>\n",
              "      <th>4</th>\n",
              "      <td>CPFE3</td>\n",
              "      <td>2024-01-26</td>\n",
              "      <td>37.10</td>\n",
              "      <td>2.03</td>\n",
              "      <td>2.49</td>\n",
              "      <td>-3.66</td>\n",
              "      <td>-3.66</td>\n",
              "      <td>20.70</td>\n",
              "      <td>36.37</td>\n",
              "      <td>37.32</td>\n",
              "      <td>73,42 M</td>\n",
              "    </tr>\n",
              "    <tr>\n",
              "      <th>5</th>\n",
              "      <td>PRIO3</td>\n",
              "      <td>2024-01-26</td>\n",
              "      <td>45.69</td>\n",
              "      <td>1.98</td>\n",
              "      <td>2.42</td>\n",
              "      <td>-0.78</td>\n",
              "      <td>-0.78</td>\n",
              "      <td>8.08</td>\n",
              "      <td>44.25</td>\n",
              "      <td>45.69</td>\n",
              "      <td>319,92 M</td>\n",
              "    </tr>\n",
              "    <tr>\n",
              "      <th>6</th>\n",
              "      <td>PETR4</td>\n",
              "      <td>2024-01-26</td>\n",
              "      <td>39.96</td>\n",
              "      <td>1.73</td>\n",
              "      <td>6.47</td>\n",
              "      <td>7.30</td>\n",
              "      <td>7.30</td>\n",
              "      <td>95.01</td>\n",
              "      <td>38.91</td>\n",
              "      <td>40.09</td>\n",
              "      <td>1,64 B</td>\n",
              "    </tr>\n",
              "    <tr>\n",
              "      <th>7</th>\n",
              "      <td>VALE3</td>\n",
              "      <td>2024-01-26</td>\n",
              "      <td>69.50</td>\n",
              "      <td>1.66</td>\n",
              "      <td>2.06</td>\n",
              "      <td>-9.97</td>\n",
              "      <td>-9.97</td>\n",
              "      <td>-23.49</td>\n",
              "      <td>67.50</td>\n",
              "      <td>69.81</td>\n",
              "      <td>1,89 B</td>\n",
              "    </tr>\n",
              "    <tr>\n",
              "      <th>8</th>\n",
              "      <td>MULT3</td>\n",
              "      <td>2024-01-26</td>\n",
              "      <td>28.19</td>\n",
              "      <td>1.58</td>\n",
              "      <td>2.03</td>\n",
              "      <td>-0.81</td>\n",
              "      <td>-0.81</td>\n",
              "      <td>24.02</td>\n",
              "      <td>27.71</td>\n",
              "      <td>28.36</td>\n",
              "      <td>104,16 M</td>\n",
              "    </tr>\n",
              "    <tr>\n",
              "      <th>9</th>\n",
              "      <td>ITUB4</td>\n",
              "      <td>2024-01-26</td>\n",
              "      <td>32.81</td>\n",
              "      <td>1.48</td>\n",
              "      <td>-0.39</td>\n",
              "      <td>-3.36</td>\n",
              "      <td>-3.36</td>\n",
              "      <td>34.25</td>\n",
              "      <td>32.35</td>\n",
              "      <td>32.91</td>\n",
              "      <td>473,2 M</td>\n",
              "    </tr>\n",
              "    <tr>\n",
              "      <th>10</th>\n",
              "      <td>RDOR3</td>\n",
              "      <td>2024-01-26</td>\n",
              "      <td>27.56</td>\n",
              "      <td>1.43</td>\n",
              "      <td>3.41</td>\n",
              "      <td>-4.17</td>\n",
              "      <td>-4.17</td>\n",
              "      <td>-6.01</td>\n",
              "      <td>26.90</td>\n",
              "      <td>27.91</td>\n",
              "      <td>71,62 M</td>\n",
              "    </tr>\n",
              "  </tbody>\n",
              "</table>\n",
              "</div>"
            ],
            "text/plain": [
              "    Ativo       Data  Último (R$)  Var. Dia (%)  Var. Sem. (%)  Var. Mês (%)  \\\n",
              "0   USIM5 2024-01-26         9.50          5.20          11.76          2.26   \n",
              "1   CMIN3 2024-01-26         6.82          2.40           2.40        -12.11   \n",
              "2   PETR3 2024-01-26        41.96          2.19           7.73          7.64   \n",
              "3   SUZB3 2024-01-26        52.91          2.04           2.14         -4.89   \n",
              "4   CPFE3 2024-01-26        37.10          2.03           2.49         -3.66   \n",
              "5   PRIO3 2024-01-26        45.69          1.98           2.42         -0.78   \n",
              "6   PETR4 2024-01-26        39.96          1.73           6.47          7.30   \n",
              "7   VALE3 2024-01-26        69.50          1.66           2.06         -9.97   \n",
              "8   MULT3 2024-01-26        28.19          1.58           2.03         -0.81   \n",
              "9   ITUB4 2024-01-26        32.81          1.48          -0.39         -3.36   \n",
              "10  RDOR3 2024-01-26        27.56          1.43           3.41         -4.17   \n",
              "\n",
              "    Var. Ano (%)  Var. 12M (%)  Val. Mín  Val. Máx    Volume  \n",
              "0           2.26         15.97      9.18      9.56  319,16 M  \n",
              "1         -12.11         50.56      6.66      6.86   32,65 M  \n",
              "2           7.64         77.55     40.81     42.34  436,69 M  \n",
              "3          -4.89         18.85     51.89     53.17  162,55 M  \n",
              "4          -3.66         20.70     36.37     37.32   73,42 M  \n",
              "5          -0.78          8.08     44.25     45.69  319,92 M  \n",
              "6           7.30         95.01     38.91     40.09    1,64 B  \n",
              "7          -9.97        -23.49     67.50     69.81    1,89 B  \n",
              "8          -0.81         24.02     27.71     28.36  104,16 M  \n",
              "9          -3.36         34.25     32.35     32.91   473,2 M  \n",
              "10         -4.17         -6.01     26.90     27.91   71,62 M  "
            ]
          },
          "execution_count": 32,
          "metadata": {},
          "output_type": "execute_result"
        }
      ],
      "source": [
        "df_principal.head(11)"
      ]
    },
    {
      "cell_type": "code",
      "execution_count": 33,
      "metadata": {
        "colab": {
          "base_uri": "https://localhost:8080/",
          "height": 423
        },
        "id": "9Shxd8-ndmoP",
        "outputId": "a40253e1-22bc-4dd1-e2b2-efb70349a4e2"
      },
      "outputs": [
        {
          "data": {
            "text/html": [
              "<div>\n",
              "<style scoped>\n",
              "    .dataframe tbody tr th:only-of-type {\n",
              "        vertical-align: middle;\n",
              "    }\n",
              "\n",
              "    .dataframe tbody tr th {\n",
              "        vertical-align: top;\n",
              "    }\n",
              "\n",
              "    .dataframe thead th {\n",
              "        text-align: right;\n",
              "    }\n",
              "</style>\n",
              "<table border=\"1\" class=\"dataframe\">\n",
              "  <thead>\n",
              "    <tr style=\"text-align: right;\">\n",
              "      <th></th>\n",
              "      <th>Código</th>\n",
              "      <th>Qtde. Teórica</th>\n",
              "    </tr>\n",
              "  </thead>\n",
              "  <tbody>\n",
              "    <tr>\n",
              "      <th>0</th>\n",
              "      <td>RRRP3</td>\n",
              "      <td>235665566.00</td>\n",
              "    </tr>\n",
              "    <tr>\n",
              "      <th>1</th>\n",
              "      <td>ALOS3</td>\n",
              "      <td>532616595.00</td>\n",
              "    </tr>\n",
              "    <tr>\n",
              "      <th>2</th>\n",
              "      <td>ALPA4</td>\n",
              "      <td>176733968.00</td>\n",
              "    </tr>\n",
              "    <tr>\n",
              "      <th>3</th>\n",
              "      <td>ABEV3</td>\n",
              "      <td>4394245879.00</td>\n",
              "    </tr>\n",
              "    <tr>\n",
              "      <th>4</th>\n",
              "      <td>ARZZ3</td>\n",
              "      <td>62305891.00</td>\n",
              "    </tr>\n",
              "    <tr>\n",
              "      <th>...</th>\n",
              "      <td>...</td>\n",
              "      <td>...</td>\n",
              "    </tr>\n",
              "    <tr>\n",
              "      <th>84</th>\n",
              "      <td>VBBR3</td>\n",
              "      <td>1114412532.00</td>\n",
              "    </tr>\n",
              "    <tr>\n",
              "      <th>85</th>\n",
              "      <td>WEGE3</td>\n",
              "      <td>1481593024.00</td>\n",
              "    </tr>\n",
              "    <tr>\n",
              "      <th>86</th>\n",
              "      <td>YDUQ3</td>\n",
              "      <td>289347914.00</td>\n",
              "    </tr>\n",
              "    <tr>\n",
              "      <th>87</th>\n",
              "      <td>Quantidade Teórica Total</td>\n",
              "      <td>96372098181.00</td>\n",
              "    </tr>\n",
              "    <tr>\n",
              "      <th>88</th>\n",
              "      <td>Redutor</td>\n",
              "      <td>17047850.79</td>\n",
              "    </tr>\n",
              "  </tbody>\n",
              "</table>\n",
              "<p>89 rows × 2 columns</p>\n",
              "</div>"
            ],
            "text/plain": [
              "                      Código  Qtde. Teórica\n",
              "0                      RRRP3   235665566.00\n",
              "1                      ALOS3   532616595.00\n",
              "2                      ALPA4   176733968.00\n",
              "3                      ABEV3  4394245879.00\n",
              "4                      ARZZ3    62305891.00\n",
              "..                       ...            ...\n",
              "84                     VBBR3  1114412532.00\n",
              "85                     WEGE3  1481593024.00\n",
              "86                     YDUQ3   289347914.00\n",
              "87  Quantidade Teórica Total 96372098181.00\n",
              "88                   Redutor    17047850.79\n",
              "\n",
              "[89 rows x 2 columns]"
            ]
          },
          "execution_count": 33,
          "metadata": {},
          "output_type": "execute_result"
        }
      ],
      "source": [
        "df_total_acoes = pd.read_excel(\"./acoes_pura.xlsx\", sheet_name=\"Total_de_acoes\")\n",
        "df_total_acoes"
      ]
    },
    {
      "cell_type": "code",
      "execution_count": 34,
      "metadata": {
        "colab": {
          "base_uri": "https://localhost:8080/",
          "height": 423
        },
        "id": "Dre-ZlboeCmp",
        "outputId": "0705de94-956f-4c2c-884c-bd185f02ef36"
      },
      "outputs": [
        {
          "data": {
            "text/html": [
              "<div>\n",
              "<style scoped>\n",
              "    .dataframe tbody tr th:only-of-type {\n",
              "        vertical-align: middle;\n",
              "    }\n",
              "\n",
              "    .dataframe tbody tr th {\n",
              "        vertical-align: top;\n",
              "    }\n",
              "\n",
              "    .dataframe thead th {\n",
              "        text-align: right;\n",
              "    }\n",
              "</style>\n",
              "<table border=\"1\" class=\"dataframe\">\n",
              "  <thead>\n",
              "    <tr style=\"text-align: right;\">\n",
              "      <th></th>\n",
              "      <th>Ticker</th>\n",
              "      <th>Nome</th>\n",
              "    </tr>\n",
              "  </thead>\n",
              "  <tbody>\n",
              "    <tr>\n",
              "      <th>0</th>\n",
              "      <td>MGLU3</td>\n",
              "      <td>Magazine Luiza</td>\n",
              "    </tr>\n",
              "    <tr>\n",
              "      <th>1</th>\n",
              "      <td>HAPV3</td>\n",
              "      <td>Hapvida</td>\n",
              "    </tr>\n",
              "    <tr>\n",
              "      <th>2</th>\n",
              "      <td>PETR4</td>\n",
              "      <td>Petrobras</td>\n",
              "    </tr>\n",
              "    <tr>\n",
              "      <th>3</th>\n",
              "      <td>B3SA3</td>\n",
              "      <td>B3</td>\n",
              "    </tr>\n",
              "    <tr>\n",
              "      <th>4</th>\n",
              "      <td>USIM5</td>\n",
              "      <td>Usiminas</td>\n",
              "    </tr>\n",
              "    <tr>\n",
              "      <th>...</th>\n",
              "      <td>...</td>\n",
              "      <td>...</td>\n",
              "    </tr>\n",
              "    <tr>\n",
              "      <th>530</th>\n",
              "      <td>TKNO3</td>\n",
              "      <td>Tekno</td>\n",
              "    </tr>\n",
              "    <tr>\n",
              "      <th>531</th>\n",
              "      <td>COCE6</td>\n",
              "      <td>Coelce</td>\n",
              "    </tr>\n",
              "    <tr>\n",
              "      <th>532</th>\n",
              "      <td>MGEL3</td>\n",
              "      <td>Mangels</td>\n",
              "    </tr>\n",
              "    <tr>\n",
              "      <th>533</th>\n",
              "      <td>CTSA8</td>\n",
              "      <td>Santanense</td>\n",
              "    </tr>\n",
              "    <tr>\n",
              "      <th>534</th>\n",
              "      <td>MMAQ4</td>\n",
              "      <td>Minasmáquinas</td>\n",
              "    </tr>\n",
              "  </tbody>\n",
              "</table>\n",
              "<p>535 rows × 2 columns</p>\n",
              "</div>"
            ],
            "text/plain": [
              "    Ticker            Nome\n",
              "0    MGLU3  Magazine Luiza\n",
              "1    HAPV3         Hapvida\n",
              "2    PETR4       Petrobras\n",
              "3    B3SA3              B3\n",
              "4    USIM5        Usiminas\n",
              "..     ...             ...\n",
              "530  TKNO3           Tekno\n",
              "531  COCE6          Coelce\n",
              "532  MGEL3         Mangels\n",
              "533  CTSA8      Santanense\n",
              "534  MMAQ4   Minasmáquinas\n",
              "\n",
              "[535 rows x 2 columns]"
            ]
          },
          "execution_count": 34,
          "metadata": {},
          "output_type": "execute_result"
        }
      ],
      "source": [
        "df_tickers = pd.read_excel(\"./acoes_pura.xlsx\", sheet_name=\"Ticker\")\n",
        "df_tickers"
      ]
    },
    {
      "cell_type": "code",
      "execution_count": 35,
      "metadata": {
        "colab": {
          "base_uri": "https://localhost:8080/",
          "height": 423
        },
        "id": "w6bJaQ0NeOHf",
        "outputId": "bc855430-4d8f-4c13-a4be-723d6c88a423"
      },
      "outputs": [
        {
          "data": {
            "text/html": [
              "<div>\n",
              "<style scoped>\n",
              "    .dataframe tbody tr th:only-of-type {\n",
              "        vertical-align: middle;\n",
              "    }\n",
              "\n",
              "    .dataframe tbody tr th {\n",
              "        vertical-align: top;\n",
              "    }\n",
              "\n",
              "    .dataframe thead th {\n",
              "        text-align: right;\n",
              "    }\n",
              "</style>\n",
              "<table border=\"1\" class=\"dataframe\">\n",
              "  <thead>\n",
              "    <tr style=\"text-align: right;\">\n",
              "      <th></th>\n",
              "      <th>Nome da Empresa</th>\n",
              "      <th>Segmento</th>\n",
              "      <th>Idade (anos)</th>\n",
              "    </tr>\n",
              "  </thead>\n",
              "  <tbody>\n",
              "    <tr>\n",
              "      <th>0</th>\n",
              "      <td>Usiminas</td>\n",
              "      <td>Siderurgia</td>\n",
              "      <td>60</td>\n",
              "    </tr>\n",
              "    <tr>\n",
              "      <th>1</th>\n",
              "      <td>CSN Mineração</td>\n",
              "      <td>Mineração</td>\n",
              "      <td>81</td>\n",
              "    </tr>\n",
              "    <tr>\n",
              "      <th>2</th>\n",
              "      <td>Petrobras</td>\n",
              "      <td>Petróleo e Gás</td>\n",
              "      <td>69</td>\n",
              "    </tr>\n",
              "    <tr>\n",
              "      <th>3</th>\n",
              "      <td>Suzano</td>\n",
              "      <td>Papel e Celulose</td>\n",
              "      <td>100</td>\n",
              "    </tr>\n",
              "    <tr>\n",
              "      <th>4</th>\n",
              "      <td>CPFL Energia</td>\n",
              "      <td>Energia Elétrica</td>\n",
              "      <td>110</td>\n",
              "    </tr>\n",
              "    <tr>\n",
              "      <th>...</th>\n",
              "      <td>...</td>\n",
              "      <td>...</td>\n",
              "      <td>...</td>\n",
              "    </tr>\n",
              "    <tr>\n",
              "      <th>76</th>\n",
              "      <td>Carrefour Brasil</td>\n",
              "      <td>Varejo</td>\n",
              "      <td>48</td>\n",
              "    </tr>\n",
              "    <tr>\n",
              "      <th>77</th>\n",
              "      <td>Casas Bahia</td>\n",
              "      <td>Varejo</td>\n",
              "      <td>71</td>\n",
              "    </tr>\n",
              "    <tr>\n",
              "      <th>78</th>\n",
              "      <td>Localiza</td>\n",
              "      <td>Aluguel de carros</td>\n",
              "      <td>51</td>\n",
              "    </tr>\n",
              "    <tr>\n",
              "      <th>79</th>\n",
              "      <td>CVC</td>\n",
              "      <td>Turismo</td>\n",
              "      <td>51</td>\n",
              "    </tr>\n",
              "    <tr>\n",
              "      <th>80</th>\n",
              "      <td>GOL</td>\n",
              "      <td>Transporte Aéreo</td>\n",
              "      <td>23</td>\n",
              "    </tr>\n",
              "  </tbody>\n",
              "</table>\n",
              "<p>81 rows × 3 columns</p>\n",
              "</div>"
            ],
            "text/plain": [
              "     Nome da Empresa           Segmento Idade (anos)\n",
              "0           Usiminas         Siderurgia           60\n",
              "1      CSN Mineração          Mineração           81\n",
              "2          Petrobras     Petróleo e Gás           69\n",
              "3             Suzano   Papel e Celulose          100\n",
              "4       CPFL Energia   Energia Elétrica          110\n",
              "..               ...                ...          ...\n",
              "76  Carrefour Brasil             Varejo           48\n",
              "77       Casas Bahia             Varejo           71\n",
              "78          Localiza  Aluguel de carros           51\n",
              "79               CVC            Turismo           51\n",
              "80               GOL   Transporte Aéreo           23\n",
              "\n",
              "[81 rows x 3 columns]"
            ]
          },
          "execution_count": 35,
          "metadata": {},
          "output_type": "execute_result"
        }
      ],
      "source": [
        "df_chatgpt = pd.read_excel(\"./acoes_pura.xlsx\", sheet_name=\"Chatgpt\")\n",
        "df_chatgpt"
      ]
    },
    {
      "cell_type": "code",
      "execution_count": 36,
      "metadata": {
        "colab": {
          "base_uri": "https://localhost:8080/",
          "height": 423
        },
        "id": "zx2tjhchsmFl",
        "outputId": "e2004bdf-e02f-405f-eeea-aeecb2b931db"
      },
      "outputs": [
        {
          "data": {
            "text/html": [
              "<div>\n",
              "<style scoped>\n",
              "    .dataframe tbody tr th:only-of-type {\n",
              "        vertical-align: middle;\n",
              "    }\n",
              "\n",
              "    .dataframe tbody tr th {\n",
              "        vertical-align: top;\n",
              "    }\n",
              "\n",
              "    .dataframe thead th {\n",
              "        text-align: right;\n",
              "    }\n",
              "</style>\n",
              "<table border=\"1\" class=\"dataframe\">\n",
              "  <thead>\n",
              "    <tr style=\"text-align: right;\">\n",
              "      <th></th>\n",
              "      <th>Ativo</th>\n",
              "      <th>Data</th>\n",
              "      <th>Último (R$)</th>\n",
              "      <th>Var. Dia (%)</th>\n",
              "    </tr>\n",
              "  </thead>\n",
              "  <tbody>\n",
              "    <tr>\n",
              "      <th>0</th>\n",
              "      <td>USIM5</td>\n",
              "      <td>2024-01-26</td>\n",
              "      <td>9.50</td>\n",
              "      <td>5.20</td>\n",
              "    </tr>\n",
              "    <tr>\n",
              "      <th>1</th>\n",
              "      <td>CMIN3</td>\n",
              "      <td>2024-01-26</td>\n",
              "      <td>6.82</td>\n",
              "      <td>2.40</td>\n",
              "    </tr>\n",
              "    <tr>\n",
              "      <th>2</th>\n",
              "      <td>PETR3</td>\n",
              "      <td>2024-01-26</td>\n",
              "      <td>41.96</td>\n",
              "      <td>2.19</td>\n",
              "    </tr>\n",
              "    <tr>\n",
              "      <th>3</th>\n",
              "      <td>SUZB3</td>\n",
              "      <td>2024-01-26</td>\n",
              "      <td>52.91</td>\n",
              "      <td>2.04</td>\n",
              "    </tr>\n",
              "    <tr>\n",
              "      <th>4</th>\n",
              "      <td>CPFE3</td>\n",
              "      <td>2024-01-26</td>\n",
              "      <td>37.10</td>\n",
              "      <td>2.03</td>\n",
              "    </tr>\n",
              "    <tr>\n",
              "      <th>...</th>\n",
              "      <td>...</td>\n",
              "      <td>...</td>\n",
              "      <td>...</td>\n",
              "      <td>...</td>\n",
              "    </tr>\n",
              "    <tr>\n",
              "      <th>76</th>\n",
              "      <td>CRFB3</td>\n",
              "      <td>2024-01-26</td>\n",
              "      <td>10.71</td>\n",
              "      <td>-2.45</td>\n",
              "    </tr>\n",
              "    <tr>\n",
              "      <th>77</th>\n",
              "      <td>BHIA3</td>\n",
              "      <td>2024-01-26</td>\n",
              "      <td>8.70</td>\n",
              "      <td>-2.46</td>\n",
              "    </tr>\n",
              "    <tr>\n",
              "      <th>78</th>\n",
              "      <td>RENT3</td>\n",
              "      <td>2024-01-26</td>\n",
              "      <td>56.24</td>\n",
              "      <td>-3.63</td>\n",
              "    </tr>\n",
              "    <tr>\n",
              "      <th>79</th>\n",
              "      <td>CVCB3</td>\n",
              "      <td>2024-01-26</td>\n",
              "      <td>3.07</td>\n",
              "      <td>-4.36</td>\n",
              "    </tr>\n",
              "    <tr>\n",
              "      <th>80</th>\n",
              "      <td>GOLL4</td>\n",
              "      <td>2024-01-26</td>\n",
              "      <td>5.92</td>\n",
              "      <td>-8.07</td>\n",
              "    </tr>\n",
              "  </tbody>\n",
              "</table>\n",
              "<p>81 rows × 4 columns</p>\n",
              "</div>"
            ],
            "text/plain": [
              "    Ativo       Data  Último (R$)  Var. Dia (%)\n",
              "0   USIM5 2024-01-26         9.50          5.20\n",
              "1   CMIN3 2024-01-26         6.82          2.40\n",
              "2   PETR3 2024-01-26        41.96          2.19\n",
              "3   SUZB3 2024-01-26        52.91          2.04\n",
              "4   CPFE3 2024-01-26        37.10          2.03\n",
              "..    ...        ...          ...           ...\n",
              "76  CRFB3 2024-01-26        10.71         -2.45\n",
              "77  BHIA3 2024-01-26         8.70         -2.46\n",
              "78  RENT3 2024-01-26        56.24         -3.63\n",
              "79  CVCB3 2024-01-26         3.07         -4.36\n",
              "80  GOLL4 2024-01-26         5.92         -8.07\n",
              "\n",
              "[81 rows x 4 columns]"
            ]
          },
          "execution_count": 36,
          "metadata": {},
          "output_type": "execute_result"
        }
      ],
      "source": [
        "df_principal = df_principal[['Ativo', 'Data', 'Último (R$)', 'Var. Dia (%)']].copy()\n",
        "df_principal"
      ]
    },
    {
      "cell_type": "code",
      "execution_count": 37,
      "metadata": {
        "colab": {
          "base_uri": "https://localhost:8080/",
          "height": 423
        },
        "id": "Mi_HpfIKtjAu",
        "outputId": "588bfc4b-ae0a-4460-c67c-4ededb0d926b"
      },
      "outputs": [
        {
          "data": {
            "text/html": [
              "<div>\n",
              "<style scoped>\n",
              "    .dataframe tbody tr th:only-of-type {\n",
              "        vertical-align: middle;\n",
              "    }\n",
              "\n",
              "    .dataframe tbody tr th {\n",
              "        vertical-align: top;\n",
              "    }\n",
              "\n",
              "    .dataframe thead th {\n",
              "        text-align: right;\n",
              "    }\n",
              "</style>\n",
              "<table border=\"1\" class=\"dataframe\">\n",
              "  <thead>\n",
              "    <tr style=\"text-align: right;\">\n",
              "      <th></th>\n",
              "      <th>Ativo</th>\n",
              "      <th>Data</th>\n",
              "      <th>Valor_final</th>\n",
              "      <th>Var_dia_pct</th>\n",
              "    </tr>\n",
              "  </thead>\n",
              "  <tbody>\n",
              "    <tr>\n",
              "      <th>0</th>\n",
              "      <td>USIM5</td>\n",
              "      <td>2024-01-26</td>\n",
              "      <td>9.50</td>\n",
              "      <td>5.20</td>\n",
              "    </tr>\n",
              "    <tr>\n",
              "      <th>1</th>\n",
              "      <td>CMIN3</td>\n",
              "      <td>2024-01-26</td>\n",
              "      <td>6.82</td>\n",
              "      <td>2.40</td>\n",
              "    </tr>\n",
              "    <tr>\n",
              "      <th>2</th>\n",
              "      <td>PETR3</td>\n",
              "      <td>2024-01-26</td>\n",
              "      <td>41.96</td>\n",
              "      <td>2.19</td>\n",
              "    </tr>\n",
              "    <tr>\n",
              "      <th>3</th>\n",
              "      <td>SUZB3</td>\n",
              "      <td>2024-01-26</td>\n",
              "      <td>52.91</td>\n",
              "      <td>2.04</td>\n",
              "    </tr>\n",
              "    <tr>\n",
              "      <th>4</th>\n",
              "      <td>CPFE3</td>\n",
              "      <td>2024-01-26</td>\n",
              "      <td>37.10</td>\n",
              "      <td>2.03</td>\n",
              "    </tr>\n",
              "    <tr>\n",
              "      <th>...</th>\n",
              "      <td>...</td>\n",
              "      <td>...</td>\n",
              "      <td>...</td>\n",
              "      <td>...</td>\n",
              "    </tr>\n",
              "    <tr>\n",
              "      <th>76</th>\n",
              "      <td>CRFB3</td>\n",
              "      <td>2024-01-26</td>\n",
              "      <td>10.71</td>\n",
              "      <td>-2.45</td>\n",
              "    </tr>\n",
              "    <tr>\n",
              "      <th>77</th>\n",
              "      <td>BHIA3</td>\n",
              "      <td>2024-01-26</td>\n",
              "      <td>8.70</td>\n",
              "      <td>-2.46</td>\n",
              "    </tr>\n",
              "    <tr>\n",
              "      <th>78</th>\n",
              "      <td>RENT3</td>\n",
              "      <td>2024-01-26</td>\n",
              "      <td>56.24</td>\n",
              "      <td>-3.63</td>\n",
              "    </tr>\n",
              "    <tr>\n",
              "      <th>79</th>\n",
              "      <td>CVCB3</td>\n",
              "      <td>2024-01-26</td>\n",
              "      <td>3.07</td>\n",
              "      <td>-4.36</td>\n",
              "    </tr>\n",
              "    <tr>\n",
              "      <th>80</th>\n",
              "      <td>GOLL4</td>\n",
              "      <td>2024-01-26</td>\n",
              "      <td>5.92</td>\n",
              "      <td>-8.07</td>\n",
              "    </tr>\n",
              "  </tbody>\n",
              "</table>\n",
              "<p>81 rows × 4 columns</p>\n",
              "</div>"
            ],
            "text/plain": [
              "    Ativo       Data  Valor_final  Var_dia_pct\n",
              "0   USIM5 2024-01-26         9.50         5.20\n",
              "1   CMIN3 2024-01-26         6.82         2.40\n",
              "2   PETR3 2024-01-26        41.96         2.19\n",
              "3   SUZB3 2024-01-26        52.91         2.04\n",
              "4   CPFE3 2024-01-26        37.10         2.03\n",
              "..    ...        ...          ...          ...\n",
              "76  CRFB3 2024-01-26        10.71        -2.45\n",
              "77  BHIA3 2024-01-26         8.70        -2.46\n",
              "78  RENT3 2024-01-26        56.24        -3.63\n",
              "79  CVCB3 2024-01-26         3.07        -4.36\n",
              "80  GOLL4 2024-01-26         5.92        -8.07\n",
              "\n",
              "[81 rows x 4 columns]"
            ]
          },
          "execution_count": 37,
          "metadata": {},
          "output_type": "execute_result"
        }
      ],
      "source": [
        "df_principal = df_principal.rename(columns={'Último (R$)':'Valor_final', 'Var. Dia (%)':'Var_dia_pct'}).copy()\n",
        "df_principal"
      ]
    },
    {
      "cell_type": "code",
      "execution_count": 38,
      "metadata": {
        "colab": {
          "base_uri": "https://localhost:8080/",
          "height": 423
        },
        "id": "VrLdKBlXvAHg",
        "outputId": "a00d64ae-3600-4f17-a24a-33014c3b9b00"
      },
      "outputs": [
        {
          "data": {
            "text/html": [
              "<div>\n",
              "<style scoped>\n",
              "    .dataframe tbody tr th:only-of-type {\n",
              "        vertical-align: middle;\n",
              "    }\n",
              "\n",
              "    .dataframe tbody tr th {\n",
              "        vertical-align: top;\n",
              "    }\n",
              "\n",
              "    .dataframe thead th {\n",
              "        text-align: right;\n",
              "    }\n",
              "</style>\n",
              "<table border=\"1\" class=\"dataframe\">\n",
              "  <thead>\n",
              "    <tr style=\"text-align: right;\">\n",
              "      <th></th>\n",
              "      <th>Ativo</th>\n",
              "      <th>Data</th>\n",
              "      <th>Valor_final</th>\n",
              "      <th>Var_dia_pct</th>\n",
              "      <th>Var_pct</th>\n",
              "    </tr>\n",
              "  </thead>\n",
              "  <tbody>\n",
              "    <tr>\n",
              "      <th>0</th>\n",
              "      <td>USIM5</td>\n",
              "      <td>2024-01-26</td>\n",
              "      <td>9.50</td>\n",
              "      <td>5.20</td>\n",
              "      <td>0.05</td>\n",
              "    </tr>\n",
              "    <tr>\n",
              "      <th>1</th>\n",
              "      <td>CMIN3</td>\n",
              "      <td>2024-01-26</td>\n",
              "      <td>6.82</td>\n",
              "      <td>2.40</td>\n",
              "      <td>0.02</td>\n",
              "    </tr>\n",
              "    <tr>\n",
              "      <th>2</th>\n",
              "      <td>PETR3</td>\n",
              "      <td>2024-01-26</td>\n",
              "      <td>41.96</td>\n",
              "      <td>2.19</td>\n",
              "      <td>0.02</td>\n",
              "    </tr>\n",
              "    <tr>\n",
              "      <th>3</th>\n",
              "      <td>SUZB3</td>\n",
              "      <td>2024-01-26</td>\n",
              "      <td>52.91</td>\n",
              "      <td>2.04</td>\n",
              "      <td>0.02</td>\n",
              "    </tr>\n",
              "    <tr>\n",
              "      <th>4</th>\n",
              "      <td>CPFE3</td>\n",
              "      <td>2024-01-26</td>\n",
              "      <td>37.10</td>\n",
              "      <td>2.03</td>\n",
              "      <td>0.02</td>\n",
              "    </tr>\n",
              "    <tr>\n",
              "      <th>...</th>\n",
              "      <td>...</td>\n",
              "      <td>...</td>\n",
              "      <td>...</td>\n",
              "      <td>...</td>\n",
              "      <td>...</td>\n",
              "    </tr>\n",
              "    <tr>\n",
              "      <th>76</th>\n",
              "      <td>CRFB3</td>\n",
              "      <td>2024-01-26</td>\n",
              "      <td>10.71</td>\n",
              "      <td>-2.45</td>\n",
              "      <td>-0.02</td>\n",
              "    </tr>\n",
              "    <tr>\n",
              "      <th>77</th>\n",
              "      <td>BHIA3</td>\n",
              "      <td>2024-01-26</td>\n",
              "      <td>8.70</td>\n",
              "      <td>-2.46</td>\n",
              "      <td>-0.02</td>\n",
              "    </tr>\n",
              "    <tr>\n",
              "      <th>78</th>\n",
              "      <td>RENT3</td>\n",
              "      <td>2024-01-26</td>\n",
              "      <td>56.24</td>\n",
              "      <td>-3.63</td>\n",
              "      <td>-0.04</td>\n",
              "    </tr>\n",
              "    <tr>\n",
              "      <th>79</th>\n",
              "      <td>CVCB3</td>\n",
              "      <td>2024-01-26</td>\n",
              "      <td>3.07</td>\n",
              "      <td>-4.36</td>\n",
              "      <td>-0.04</td>\n",
              "    </tr>\n",
              "    <tr>\n",
              "      <th>80</th>\n",
              "      <td>GOLL4</td>\n",
              "      <td>2024-01-26</td>\n",
              "      <td>5.92</td>\n",
              "      <td>-8.07</td>\n",
              "      <td>-0.08</td>\n",
              "    </tr>\n",
              "  </tbody>\n",
              "</table>\n",
              "<p>81 rows × 5 columns</p>\n",
              "</div>"
            ],
            "text/plain": [
              "    Ativo       Data  Valor_final  Var_dia_pct  Var_pct\n",
              "0   USIM5 2024-01-26         9.50         5.20     0.05\n",
              "1   CMIN3 2024-01-26         6.82         2.40     0.02\n",
              "2   PETR3 2024-01-26        41.96         2.19     0.02\n",
              "3   SUZB3 2024-01-26        52.91         2.04     0.02\n",
              "4   CPFE3 2024-01-26        37.10         2.03     0.02\n",
              "..    ...        ...          ...          ...      ...\n",
              "76  CRFB3 2024-01-26        10.71        -2.45    -0.02\n",
              "77  BHIA3 2024-01-26         8.70        -2.46    -0.02\n",
              "78  RENT3 2024-01-26        56.24        -3.63    -0.04\n",
              "79  CVCB3 2024-01-26         3.07        -4.36    -0.04\n",
              "80  GOLL4 2024-01-26         5.92        -8.07    -0.08\n",
              "\n",
              "[81 rows x 5 columns]"
            ]
          },
          "execution_count": 38,
          "metadata": {},
          "output_type": "execute_result"
        }
      ],
      "source": [
        "df_principal['Var_pct'] = df_principal['Var_dia_pct'] / 100\n",
        "df_principal"
      ]
    },
    {
      "cell_type": "code",
      "execution_count": 39,
      "metadata": {
        "colab": {
          "base_uri": "https://localhost:8080/",
          "height": 423
        },
        "id": "ML_gpy8FvqBK",
        "outputId": "99b646ae-f629-46f5-dff8-8ee704cd1f56"
      },
      "outputs": [
        {
          "data": {
            "text/html": [
              "<div>\n",
              "<style scoped>\n",
              "    .dataframe tbody tr th:only-of-type {\n",
              "        vertical-align: middle;\n",
              "    }\n",
              "\n",
              "    .dataframe tbody tr th {\n",
              "        vertical-align: top;\n",
              "    }\n",
              "\n",
              "    .dataframe thead th {\n",
              "        text-align: right;\n",
              "    }\n",
              "</style>\n",
              "<table border=\"1\" class=\"dataframe\">\n",
              "  <thead>\n",
              "    <tr style=\"text-align: right;\">\n",
              "      <th></th>\n",
              "      <th>Ativo</th>\n",
              "      <th>Data</th>\n",
              "      <th>Valor_final</th>\n",
              "      <th>Var_dia_pct</th>\n",
              "      <th>Var_pct</th>\n",
              "      <th>Valor_inicial</th>\n",
              "    </tr>\n",
              "  </thead>\n",
              "  <tbody>\n",
              "    <tr>\n",
              "      <th>0</th>\n",
              "      <td>USIM5</td>\n",
              "      <td>2024-01-26</td>\n",
              "      <td>9.50</td>\n",
              "      <td>5.20</td>\n",
              "      <td>0.05</td>\n",
              "      <td>9.03</td>\n",
              "    </tr>\n",
              "    <tr>\n",
              "      <th>1</th>\n",
              "      <td>CMIN3</td>\n",
              "      <td>2024-01-26</td>\n",
              "      <td>6.82</td>\n",
              "      <td>2.40</td>\n",
              "      <td>0.02</td>\n",
              "      <td>6.66</td>\n",
              "    </tr>\n",
              "    <tr>\n",
              "      <th>2</th>\n",
              "      <td>PETR3</td>\n",
              "      <td>2024-01-26</td>\n",
              "      <td>41.96</td>\n",
              "      <td>2.19</td>\n",
              "      <td>0.02</td>\n",
              "      <td>41.06</td>\n",
              "    </tr>\n",
              "    <tr>\n",
              "      <th>3</th>\n",
              "      <td>SUZB3</td>\n",
              "      <td>2024-01-26</td>\n",
              "      <td>52.91</td>\n",
              "      <td>2.04</td>\n",
              "      <td>0.02</td>\n",
              "      <td>51.85</td>\n",
              "    </tr>\n",
              "    <tr>\n",
              "      <th>4</th>\n",
              "      <td>CPFE3</td>\n",
              "      <td>2024-01-26</td>\n",
              "      <td>37.10</td>\n",
              "      <td>2.03</td>\n",
              "      <td>0.02</td>\n",
              "      <td>36.36</td>\n",
              "    </tr>\n",
              "    <tr>\n",
              "      <th>...</th>\n",
              "      <td>...</td>\n",
              "      <td>...</td>\n",
              "      <td>...</td>\n",
              "      <td>...</td>\n",
              "      <td>...</td>\n",
              "      <td>...</td>\n",
              "    </tr>\n",
              "    <tr>\n",
              "      <th>76</th>\n",
              "      <td>CRFB3</td>\n",
              "      <td>2024-01-26</td>\n",
              "      <td>10.71</td>\n",
              "      <td>-2.45</td>\n",
              "      <td>-0.02</td>\n",
              "      <td>10.98</td>\n",
              "    </tr>\n",
              "    <tr>\n",
              "      <th>77</th>\n",
              "      <td>BHIA3</td>\n",
              "      <td>2024-01-26</td>\n",
              "      <td>8.70</td>\n",
              "      <td>-2.46</td>\n",
              "      <td>-0.02</td>\n",
              "      <td>8.92</td>\n",
              "    </tr>\n",
              "    <tr>\n",
              "      <th>78</th>\n",
              "      <td>RENT3</td>\n",
              "      <td>2024-01-26</td>\n",
              "      <td>56.24</td>\n",
              "      <td>-3.63</td>\n",
              "      <td>-0.04</td>\n",
              "      <td>58.36</td>\n",
              "    </tr>\n",
              "    <tr>\n",
              "      <th>79</th>\n",
              "      <td>CVCB3</td>\n",
              "      <td>2024-01-26</td>\n",
              "      <td>3.07</td>\n",
              "      <td>-4.36</td>\n",
              "      <td>-0.04</td>\n",
              "      <td>3.21</td>\n",
              "    </tr>\n",
              "    <tr>\n",
              "      <th>80</th>\n",
              "      <td>GOLL4</td>\n",
              "      <td>2024-01-26</td>\n",
              "      <td>5.92</td>\n",
              "      <td>-8.07</td>\n",
              "      <td>-0.08</td>\n",
              "      <td>6.44</td>\n",
              "    </tr>\n",
              "  </tbody>\n",
              "</table>\n",
              "<p>81 rows × 6 columns</p>\n",
              "</div>"
            ],
            "text/plain": [
              "    Ativo       Data  Valor_final  Var_dia_pct  Var_pct  Valor_inicial\n",
              "0   USIM5 2024-01-26         9.50         5.20     0.05           9.03\n",
              "1   CMIN3 2024-01-26         6.82         2.40     0.02           6.66\n",
              "2   PETR3 2024-01-26        41.96         2.19     0.02          41.06\n",
              "3   SUZB3 2024-01-26        52.91         2.04     0.02          51.85\n",
              "4   CPFE3 2024-01-26        37.10         2.03     0.02          36.36\n",
              "..    ...        ...          ...          ...      ...            ...\n",
              "76  CRFB3 2024-01-26        10.71        -2.45    -0.02          10.98\n",
              "77  BHIA3 2024-01-26         8.70        -2.46    -0.02           8.92\n",
              "78  RENT3 2024-01-26        56.24        -3.63    -0.04          58.36\n",
              "79  CVCB3 2024-01-26         3.07        -4.36    -0.04           3.21\n",
              "80  GOLL4 2024-01-26         5.92        -8.07    -0.08           6.44\n",
              "\n",
              "[81 rows x 6 columns]"
            ]
          },
          "execution_count": 39,
          "metadata": {},
          "output_type": "execute_result"
        }
      ],
      "source": [
        "df_principal['Valor_inicial'] = df_principal['Valor_final'] / (df_principal['Var_pct'] + 1)\n",
        "df_principal"
      ]
    },
    {
      "cell_type": "code",
      "execution_count": 40,
      "metadata": {
        "colab": {
          "base_uri": "https://localhost:8080/",
          "height": 423
        },
        "id": "xhMCgWsqwNkB",
        "outputId": "49a9ecf0-e8d6-411e-ff7b-daed9d8aeebf"
      },
      "outputs": [
        {
          "data": {
            "text/html": [
              "<div>\n",
              "<style scoped>\n",
              "    .dataframe tbody tr th:only-of-type {\n",
              "        vertical-align: middle;\n",
              "    }\n",
              "\n",
              "    .dataframe tbody tr th {\n",
              "        vertical-align: top;\n",
              "    }\n",
              "\n",
              "    .dataframe thead th {\n",
              "        text-align: right;\n",
              "    }\n",
              "</style>\n",
              "<table border=\"1\" class=\"dataframe\">\n",
              "  <thead>\n",
              "    <tr style=\"text-align: right;\">\n",
              "      <th></th>\n",
              "      <th>Ativo</th>\n",
              "      <th>Data</th>\n",
              "      <th>Valor_final</th>\n",
              "      <th>Var_dia_pct</th>\n",
              "      <th>Var_pct</th>\n",
              "      <th>Valor_inicial</th>\n",
              "      <th>Código</th>\n",
              "      <th>Qtde. Teórica</th>\n",
              "    </tr>\n",
              "  </thead>\n",
              "  <tbody>\n",
              "    <tr>\n",
              "      <th>0</th>\n",
              "      <td>USIM5</td>\n",
              "      <td>2024-01-26</td>\n",
              "      <td>9.50</td>\n",
              "      <td>5.20</td>\n",
              "      <td>0.05</td>\n",
              "      <td>9.03</td>\n",
              "      <td>USIM5</td>\n",
              "      <td>515117391.00</td>\n",
              "    </tr>\n",
              "    <tr>\n",
              "      <th>1</th>\n",
              "      <td>CMIN3</td>\n",
              "      <td>2024-01-26</td>\n",
              "      <td>6.82</td>\n",
              "      <td>2.40</td>\n",
              "      <td>0.02</td>\n",
              "      <td>6.66</td>\n",
              "      <td>CMIN3</td>\n",
              "      <td>1110559345.00</td>\n",
              "    </tr>\n",
              "    <tr>\n",
              "      <th>2</th>\n",
              "      <td>PETR3</td>\n",
              "      <td>2024-01-26</td>\n",
              "      <td>41.96</td>\n",
              "      <td>2.19</td>\n",
              "      <td>0.02</td>\n",
              "      <td>41.06</td>\n",
              "      <td>PETR3</td>\n",
              "      <td>2379877655.00</td>\n",
              "    </tr>\n",
              "    <tr>\n",
              "      <th>3</th>\n",
              "      <td>SUZB3</td>\n",
              "      <td>2024-01-26</td>\n",
              "      <td>52.91</td>\n",
              "      <td>2.04</td>\n",
              "      <td>0.02</td>\n",
              "      <td>51.85</td>\n",
              "      <td>SUZB3</td>\n",
              "      <td>683452836.00</td>\n",
              "    </tr>\n",
              "    <tr>\n",
              "      <th>4</th>\n",
              "      <td>CPFE3</td>\n",
              "      <td>2024-01-26</td>\n",
              "      <td>37.10</td>\n",
              "      <td>2.03</td>\n",
              "      <td>0.02</td>\n",
              "      <td>36.36</td>\n",
              "      <td>CPFE3</td>\n",
              "      <td>187732538.00</td>\n",
              "    </tr>\n",
              "    <tr>\n",
              "      <th>...</th>\n",
              "      <td>...</td>\n",
              "      <td>...</td>\n",
              "      <td>...</td>\n",
              "      <td>...</td>\n",
              "      <td>...</td>\n",
              "      <td>...</td>\n",
              "      <td>...</td>\n",
              "      <td>...</td>\n",
              "    </tr>\n",
              "    <tr>\n",
              "      <th>76</th>\n",
              "      <td>CRFB3</td>\n",
              "      <td>2024-01-26</td>\n",
              "      <td>10.71</td>\n",
              "      <td>-2.45</td>\n",
              "      <td>-0.02</td>\n",
              "      <td>10.98</td>\n",
              "      <td>CRFB3</td>\n",
              "      <td>533990587.00</td>\n",
              "    </tr>\n",
              "    <tr>\n",
              "      <th>77</th>\n",
              "      <td>BHIA3</td>\n",
              "      <td>2024-01-26</td>\n",
              "      <td>8.70</td>\n",
              "      <td>-2.46</td>\n",
              "      <td>-0.02</td>\n",
              "      <td>8.92</td>\n",
              "      <td>BHIA3</td>\n",
              "      <td>94843047.00</td>\n",
              "    </tr>\n",
              "    <tr>\n",
              "      <th>78</th>\n",
              "      <td>RENT3</td>\n",
              "      <td>2024-01-26</td>\n",
              "      <td>56.24</td>\n",
              "      <td>-3.63</td>\n",
              "      <td>-0.04</td>\n",
              "      <td>58.36</td>\n",
              "      <td>RENT3</td>\n",
              "      <td>853202347.00</td>\n",
              "    </tr>\n",
              "    <tr>\n",
              "      <th>79</th>\n",
              "      <td>CVCB3</td>\n",
              "      <td>2024-01-26</td>\n",
              "      <td>3.07</td>\n",
              "      <td>-4.36</td>\n",
              "      <td>-0.04</td>\n",
              "      <td>3.21</td>\n",
              "      <td>CVCB3</td>\n",
              "      <td>525582771.00</td>\n",
              "    </tr>\n",
              "    <tr>\n",
              "      <th>80</th>\n",
              "      <td>GOLL4</td>\n",
              "      <td>2024-01-26</td>\n",
              "      <td>5.92</td>\n",
              "      <td>-8.07</td>\n",
              "      <td>-0.08</td>\n",
              "      <td>6.44</td>\n",
              "      <td>GOLL4</td>\n",
              "      <td>198184909.00</td>\n",
              "    </tr>\n",
              "  </tbody>\n",
              "</table>\n",
              "<p>81 rows × 8 columns</p>\n",
              "</div>"
            ],
            "text/plain": [
              "    Ativo       Data  Valor_final  Var_dia_pct  Var_pct  Valor_inicial Código  \\\n",
              "0   USIM5 2024-01-26         9.50         5.20     0.05           9.03  USIM5   \n",
              "1   CMIN3 2024-01-26         6.82         2.40     0.02           6.66  CMIN3   \n",
              "2   PETR3 2024-01-26        41.96         2.19     0.02          41.06  PETR3   \n",
              "3   SUZB3 2024-01-26        52.91         2.04     0.02          51.85  SUZB3   \n",
              "4   CPFE3 2024-01-26        37.10         2.03     0.02          36.36  CPFE3   \n",
              "..    ...        ...          ...          ...      ...            ...    ...   \n",
              "76  CRFB3 2024-01-26        10.71        -2.45    -0.02          10.98  CRFB3   \n",
              "77  BHIA3 2024-01-26         8.70        -2.46    -0.02           8.92  BHIA3   \n",
              "78  RENT3 2024-01-26        56.24        -3.63    -0.04          58.36  RENT3   \n",
              "79  CVCB3 2024-01-26         3.07        -4.36    -0.04           3.21  CVCB3   \n",
              "80  GOLL4 2024-01-26         5.92        -8.07    -0.08           6.44  GOLL4   \n",
              "\n",
              "    Qtde. Teórica  \n",
              "0    515117391.00  \n",
              "1   1110559345.00  \n",
              "2   2379877655.00  \n",
              "3    683452836.00  \n",
              "4    187732538.00  \n",
              "..            ...  \n",
              "76   533990587.00  \n",
              "77    94843047.00  \n",
              "78   853202347.00  \n",
              "79   525582771.00  \n",
              "80   198184909.00  \n",
              "\n",
              "[81 rows x 8 columns]"
            ]
          },
          "execution_count": 40,
          "metadata": {},
          "output_type": "execute_result"
        }
      ],
      "source": [
        "df_principal = df_principal.merge(df_total_acoes, left_on='Ativo', right_on='Código', how='left')\n",
        "df_principal"
      ]
    },
    {
      "cell_type": "code",
      "execution_count": 41,
      "metadata": {
        "colab": {
          "base_uri": "https://localhost:8080/",
          "height": 423
        },
        "id": "HyO-PnQJxhph",
        "outputId": "8432277b-d2f2-438a-a951-e6004e5180a7"
      },
      "outputs": [
        {
          "data": {
            "text/html": [
              "<div>\n",
              "<style scoped>\n",
              "    .dataframe tbody tr th:only-of-type {\n",
              "        vertical-align: middle;\n",
              "    }\n",
              "\n",
              "    .dataframe tbody tr th {\n",
              "        vertical-align: top;\n",
              "    }\n",
              "\n",
              "    .dataframe thead th {\n",
              "        text-align: right;\n",
              "    }\n",
              "</style>\n",
              "<table border=\"1\" class=\"dataframe\">\n",
              "  <thead>\n",
              "    <tr style=\"text-align: right;\">\n",
              "      <th></th>\n",
              "      <th>Ativo</th>\n",
              "      <th>Data</th>\n",
              "      <th>Valor_final</th>\n",
              "      <th>Var_dia_pct</th>\n",
              "      <th>Var_pct</th>\n",
              "      <th>Valor_inicial</th>\n",
              "      <th>Qtde. Teórica</th>\n",
              "    </tr>\n",
              "  </thead>\n",
              "  <tbody>\n",
              "    <tr>\n",
              "      <th>0</th>\n",
              "      <td>USIM5</td>\n",
              "      <td>2024-01-26</td>\n",
              "      <td>9.50</td>\n",
              "      <td>5.20</td>\n",
              "      <td>0.05</td>\n",
              "      <td>9.03</td>\n",
              "      <td>515117391.00</td>\n",
              "    </tr>\n",
              "    <tr>\n",
              "      <th>1</th>\n",
              "      <td>CMIN3</td>\n",
              "      <td>2024-01-26</td>\n",
              "      <td>6.82</td>\n",
              "      <td>2.40</td>\n",
              "      <td>0.02</td>\n",
              "      <td>6.66</td>\n",
              "      <td>1110559345.00</td>\n",
              "    </tr>\n",
              "    <tr>\n",
              "      <th>2</th>\n",
              "      <td>PETR3</td>\n",
              "      <td>2024-01-26</td>\n",
              "      <td>41.96</td>\n",
              "      <td>2.19</td>\n",
              "      <td>0.02</td>\n",
              "      <td>41.06</td>\n",
              "      <td>2379877655.00</td>\n",
              "    </tr>\n",
              "    <tr>\n",
              "      <th>3</th>\n",
              "      <td>SUZB3</td>\n",
              "      <td>2024-01-26</td>\n",
              "      <td>52.91</td>\n",
              "      <td>2.04</td>\n",
              "      <td>0.02</td>\n",
              "      <td>51.85</td>\n",
              "      <td>683452836.00</td>\n",
              "    </tr>\n",
              "    <tr>\n",
              "      <th>4</th>\n",
              "      <td>CPFE3</td>\n",
              "      <td>2024-01-26</td>\n",
              "      <td>37.10</td>\n",
              "      <td>2.03</td>\n",
              "      <td>0.02</td>\n",
              "      <td>36.36</td>\n",
              "      <td>187732538.00</td>\n",
              "    </tr>\n",
              "    <tr>\n",
              "      <th>...</th>\n",
              "      <td>...</td>\n",
              "      <td>...</td>\n",
              "      <td>...</td>\n",
              "      <td>...</td>\n",
              "      <td>...</td>\n",
              "      <td>...</td>\n",
              "      <td>...</td>\n",
              "    </tr>\n",
              "    <tr>\n",
              "      <th>76</th>\n",
              "      <td>CRFB3</td>\n",
              "      <td>2024-01-26</td>\n",
              "      <td>10.71</td>\n",
              "      <td>-2.45</td>\n",
              "      <td>-0.02</td>\n",
              "      <td>10.98</td>\n",
              "      <td>533990587.00</td>\n",
              "    </tr>\n",
              "    <tr>\n",
              "      <th>77</th>\n",
              "      <td>BHIA3</td>\n",
              "      <td>2024-01-26</td>\n",
              "      <td>8.70</td>\n",
              "      <td>-2.46</td>\n",
              "      <td>-0.02</td>\n",
              "      <td>8.92</td>\n",
              "      <td>94843047.00</td>\n",
              "    </tr>\n",
              "    <tr>\n",
              "      <th>78</th>\n",
              "      <td>RENT3</td>\n",
              "      <td>2024-01-26</td>\n",
              "      <td>56.24</td>\n",
              "      <td>-3.63</td>\n",
              "      <td>-0.04</td>\n",
              "      <td>58.36</td>\n",
              "      <td>853202347.00</td>\n",
              "    </tr>\n",
              "    <tr>\n",
              "      <th>79</th>\n",
              "      <td>CVCB3</td>\n",
              "      <td>2024-01-26</td>\n",
              "      <td>3.07</td>\n",
              "      <td>-4.36</td>\n",
              "      <td>-0.04</td>\n",
              "      <td>3.21</td>\n",
              "      <td>525582771.00</td>\n",
              "    </tr>\n",
              "    <tr>\n",
              "      <th>80</th>\n",
              "      <td>GOLL4</td>\n",
              "      <td>2024-01-26</td>\n",
              "      <td>5.92</td>\n",
              "      <td>-8.07</td>\n",
              "      <td>-0.08</td>\n",
              "      <td>6.44</td>\n",
              "      <td>198184909.00</td>\n",
              "    </tr>\n",
              "  </tbody>\n",
              "</table>\n",
              "<p>81 rows × 7 columns</p>\n",
              "</div>"
            ],
            "text/plain": [
              "    Ativo       Data  Valor_final  Var_dia_pct  Var_pct  Valor_inicial  \\\n",
              "0   USIM5 2024-01-26         9.50         5.20     0.05           9.03   \n",
              "1   CMIN3 2024-01-26         6.82         2.40     0.02           6.66   \n",
              "2   PETR3 2024-01-26        41.96         2.19     0.02          41.06   \n",
              "3   SUZB3 2024-01-26        52.91         2.04     0.02          51.85   \n",
              "4   CPFE3 2024-01-26        37.10         2.03     0.02          36.36   \n",
              "..    ...        ...          ...          ...      ...            ...   \n",
              "76  CRFB3 2024-01-26        10.71        -2.45    -0.02          10.98   \n",
              "77  BHIA3 2024-01-26         8.70        -2.46    -0.02           8.92   \n",
              "78  RENT3 2024-01-26        56.24        -3.63    -0.04          58.36   \n",
              "79  CVCB3 2024-01-26         3.07        -4.36    -0.04           3.21   \n",
              "80  GOLL4 2024-01-26         5.92        -8.07    -0.08           6.44   \n",
              "\n",
              "    Qtde. Teórica  \n",
              "0    515117391.00  \n",
              "1   1110559345.00  \n",
              "2   2379877655.00  \n",
              "3    683452836.00  \n",
              "4    187732538.00  \n",
              "..            ...  \n",
              "76   533990587.00  \n",
              "77    94843047.00  \n",
              "78   853202347.00  \n",
              "79   525582771.00  \n",
              "80   198184909.00  \n",
              "\n",
              "[81 rows x 7 columns]"
            ]
          },
          "execution_count": 41,
          "metadata": {},
          "output_type": "execute_result"
        }
      ],
      "source": [
        "df_principal = df_principal.drop(columns=['Código'])\n",
        "df_principal"
      ]
    },
    {
      "cell_type": "code",
      "execution_count": 42,
      "metadata": {
        "colab": {
          "base_uri": "https://localhost:8080/",
          "height": 614
        },
        "id": "Tqy8npPSyGdv",
        "outputId": "082c328d-9b1f-483e-82b7-11d7c9bede7c"
      },
      "outputs": [
        {
          "data": {
            "text/html": [
              "<div>\n",
              "<style scoped>\n",
              "    .dataframe tbody tr th:only-of-type {\n",
              "        vertical-align: middle;\n",
              "    }\n",
              "\n",
              "    .dataframe tbody tr th {\n",
              "        vertical-align: top;\n",
              "    }\n",
              "\n",
              "    .dataframe thead th {\n",
              "        text-align: right;\n",
              "    }\n",
              "</style>\n",
              "<table border=\"1\" class=\"dataframe\">\n",
              "  <thead>\n",
              "    <tr style=\"text-align: right;\">\n",
              "      <th></th>\n",
              "      <th>Ativo</th>\n",
              "      <th>Data</th>\n",
              "      <th>Valor_final</th>\n",
              "      <th>Var_dia_pct</th>\n",
              "      <th>Var_pct</th>\n",
              "      <th>Valor_inicial</th>\n",
              "      <th>Qtde. Teórica</th>\n",
              "      <th>Variacao_rs</th>\n",
              "    </tr>\n",
              "  </thead>\n",
              "  <tbody>\n",
              "    <tr>\n",
              "      <th>0</th>\n",
              "      <td>USIM5</td>\n",
              "      <td>2024-01-26</td>\n",
              "      <td>9.50</td>\n",
              "      <td>5.20</td>\n",
              "      <td>0.05</td>\n",
              "      <td>9.03</td>\n",
              "      <td>515117391.00</td>\n",
              "      <td>241889725.43</td>\n",
              "    </tr>\n",
              "    <tr>\n",
              "      <th>1</th>\n",
              "      <td>CMIN3</td>\n",
              "      <td>2024-01-26</td>\n",
              "      <td>6.82</td>\n",
              "      <td>2.40</td>\n",
              "      <td>0.02</td>\n",
              "      <td>6.66</td>\n",
              "      <td>1110559345.00</td>\n",
              "      <td>177515970.30</td>\n",
              "    </tr>\n",
              "    <tr>\n",
              "      <th>2</th>\n",
              "      <td>PETR3</td>\n",
              "      <td>2024-01-26</td>\n",
              "      <td>41.96</td>\n",
              "      <td>2.19</td>\n",
              "      <td>0.02</td>\n",
              "      <td>41.06</td>\n",
              "      <td>2379877655.00</td>\n",
              "      <td>2140059393.53</td>\n",
              "    </tr>\n",
              "    <tr>\n",
              "      <th>3</th>\n",
              "      <td>SUZB3</td>\n",
              "      <td>2024-01-26</td>\n",
              "      <td>52.91</td>\n",
              "      <td>2.04</td>\n",
              "      <td>0.02</td>\n",
              "      <td>51.85</td>\n",
              "      <td>683452836.00</td>\n",
              "      <td>722946282.71</td>\n",
              "    </tr>\n",
              "    <tr>\n",
              "      <th>4</th>\n",
              "      <td>CPFE3</td>\n",
              "      <td>2024-01-26</td>\n",
              "      <td>37.10</td>\n",
              "      <td>2.03</td>\n",
              "      <td>0.02</td>\n",
              "      <td>36.36</td>\n",
              "      <td>187732538.00</td>\n",
              "      <td>138573955.06</td>\n",
              "    </tr>\n",
              "    <tr>\n",
              "      <th>...</th>\n",
              "      <td>...</td>\n",
              "      <td>...</td>\n",
              "      <td>...</td>\n",
              "      <td>...</td>\n",
              "      <td>...</td>\n",
              "      <td>...</td>\n",
              "      <td>...</td>\n",
              "      <td>...</td>\n",
              "    </tr>\n",
              "    <tr>\n",
              "      <th>76</th>\n",
              "      <td>CRFB3</td>\n",
              "      <td>2024-01-26</td>\n",
              "      <td>10.71</td>\n",
              "      <td>-2.45</td>\n",
              "      <td>-0.02</td>\n",
              "      <td>10.98</td>\n",
              "      <td>533990587.00</td>\n",
              "      <td>-143635530.57</td>\n",
              "    </tr>\n",
              "    <tr>\n",
              "      <th>77</th>\n",
              "      <td>BHIA3</td>\n",
              "      <td>2024-01-26</td>\n",
              "      <td>8.70</td>\n",
              "      <td>-2.46</td>\n",
              "      <td>-0.02</td>\n",
              "      <td>8.92</td>\n",
              "      <td>94843047.00</td>\n",
              "      <td>-20810240.84</td>\n",
              "    </tr>\n",
              "    <tr>\n",
              "      <th>78</th>\n",
              "      <td>RENT3</td>\n",
              "      <td>2024-01-26</td>\n",
              "      <td>56.24</td>\n",
              "      <td>-3.63</td>\n",
              "      <td>-0.04</td>\n",
              "      <td>58.36</td>\n",
              "      <td>853202347.00</td>\n",
              "      <td>-1807432634.46</td>\n",
              "    </tr>\n",
              "    <tr>\n",
              "      <th>79</th>\n",
              "      <td>CVCB3</td>\n",
              "      <td>2024-01-26</td>\n",
              "      <td>3.07</td>\n",
              "      <td>-4.36</td>\n",
              "      <td>-0.04</td>\n",
              "      <td>3.21</td>\n",
              "      <td>525582771.00</td>\n",
              "      <td>-73557408.06</td>\n",
              "    </tr>\n",
              "    <tr>\n",
              "      <th>80</th>\n",
              "      <td>GOLL4</td>\n",
              "      <td>2024-01-26</td>\n",
              "      <td>5.92</td>\n",
              "      <td>-8.07</td>\n",
              "      <td>-0.08</td>\n",
              "      <td>6.44</td>\n",
              "      <td>198184909.00</td>\n",
              "      <td>-102993202.62</td>\n",
              "    </tr>\n",
              "  </tbody>\n",
              "</table>\n",
              "<p>81 rows × 8 columns</p>\n",
              "</div>"
            ],
            "text/plain": [
              "    Ativo       Data  Valor_final  Var_dia_pct  Var_pct  Valor_inicial  \\\n",
              "0   USIM5 2024-01-26         9.50         5.20     0.05           9.03   \n",
              "1   CMIN3 2024-01-26         6.82         2.40     0.02           6.66   \n",
              "2   PETR3 2024-01-26        41.96         2.19     0.02          41.06   \n",
              "3   SUZB3 2024-01-26        52.91         2.04     0.02          51.85   \n",
              "4   CPFE3 2024-01-26        37.10         2.03     0.02          36.36   \n",
              "..    ...        ...          ...          ...      ...            ...   \n",
              "76  CRFB3 2024-01-26        10.71        -2.45    -0.02          10.98   \n",
              "77  BHIA3 2024-01-26         8.70        -2.46    -0.02           8.92   \n",
              "78  RENT3 2024-01-26        56.24        -3.63    -0.04          58.36   \n",
              "79  CVCB3 2024-01-26         3.07        -4.36    -0.04           3.21   \n",
              "80  GOLL4 2024-01-26         5.92        -8.07    -0.08           6.44   \n",
              "\n",
              "    Qtde. Teórica    Variacao_rs  \n",
              "0    515117391.00   241889725.43  \n",
              "1   1110559345.00   177515970.30  \n",
              "2   2379877655.00  2140059393.53  \n",
              "3    683452836.00   722946282.71  \n",
              "4    187732538.00   138573955.06  \n",
              "..            ...            ...  \n",
              "76   533990587.00  -143635530.57  \n",
              "77    94843047.00   -20810240.84  \n",
              "78   853202347.00 -1807432634.46  \n",
              "79   525582771.00   -73557408.06  \n",
              "80   198184909.00  -102993202.62  \n",
              "\n",
              "[81 rows x 8 columns]"
            ]
          },
          "execution_count": 42,
          "metadata": {},
          "output_type": "execute_result"
        }
      ],
      "source": [
        "df_principal['Variacao_rs'] = (df_principal['Valor_final'] - df_principal['Valor_inicial']) * df_principal['Qtde. Teórica']\n",
        "df_principal"
      ]
    },
    {
      "cell_type": "code",
      "execution_count": 43,
      "metadata": {
        "colab": {
          "base_uri": "https://localhost:8080/",
          "height": 614
        },
        "id": "DMrCnhbDywTK",
        "outputId": "3664ad5e-1c47-4e4e-9ada-fb21a3753631"
      },
      "outputs": [
        {
          "data": {
            "text/html": [
              "<div>\n",
              "<style scoped>\n",
              "    .dataframe tbody tr th:only-of-type {\n",
              "        vertical-align: middle;\n",
              "    }\n",
              "\n",
              "    .dataframe tbody tr th {\n",
              "        vertical-align: top;\n",
              "    }\n",
              "\n",
              "    .dataframe thead th {\n",
              "        text-align: right;\n",
              "    }\n",
              "</style>\n",
              "<table border=\"1\" class=\"dataframe\">\n",
              "  <thead>\n",
              "    <tr style=\"text-align: right;\">\n",
              "      <th></th>\n",
              "      <th>Ativo</th>\n",
              "      <th>Data</th>\n",
              "      <th>Valor_final</th>\n",
              "      <th>Var_dia_pct</th>\n",
              "      <th>Var_pct</th>\n",
              "      <th>Valor_inicial</th>\n",
              "      <th>Qtde. Teórica</th>\n",
              "      <th>Variacao_rs</th>\n",
              "    </tr>\n",
              "  </thead>\n",
              "  <tbody>\n",
              "    <tr>\n",
              "      <th>0</th>\n",
              "      <td>USIM5</td>\n",
              "      <td>2024-01-26</td>\n",
              "      <td>9.50</td>\n",
              "      <td>5.20</td>\n",
              "      <td>0.05</td>\n",
              "      <td>9.03</td>\n",
              "      <td>515117391</td>\n",
              "      <td>241889725.43</td>\n",
              "    </tr>\n",
              "    <tr>\n",
              "      <th>1</th>\n",
              "      <td>CMIN3</td>\n",
              "      <td>2024-01-26</td>\n",
              "      <td>6.82</td>\n",
              "      <td>2.40</td>\n",
              "      <td>0.02</td>\n",
              "      <td>6.66</td>\n",
              "      <td>1110559345</td>\n",
              "      <td>177515970.30</td>\n",
              "    </tr>\n",
              "    <tr>\n",
              "      <th>2</th>\n",
              "      <td>PETR3</td>\n",
              "      <td>2024-01-26</td>\n",
              "      <td>41.96</td>\n",
              "      <td>2.19</td>\n",
              "      <td>0.02</td>\n",
              "      <td>41.06</td>\n",
              "      <td>-2147483648</td>\n",
              "      <td>2140059393.53</td>\n",
              "    </tr>\n",
              "    <tr>\n",
              "      <th>3</th>\n",
              "      <td>SUZB3</td>\n",
              "      <td>2024-01-26</td>\n",
              "      <td>52.91</td>\n",
              "      <td>2.04</td>\n",
              "      <td>0.02</td>\n",
              "      <td>51.85</td>\n",
              "      <td>683452836</td>\n",
              "      <td>722946282.71</td>\n",
              "    </tr>\n",
              "    <tr>\n",
              "      <th>4</th>\n",
              "      <td>CPFE3</td>\n",
              "      <td>2024-01-26</td>\n",
              "      <td>37.10</td>\n",
              "      <td>2.03</td>\n",
              "      <td>0.02</td>\n",
              "      <td>36.36</td>\n",
              "      <td>187732538</td>\n",
              "      <td>138573955.06</td>\n",
              "    </tr>\n",
              "    <tr>\n",
              "      <th>...</th>\n",
              "      <td>...</td>\n",
              "      <td>...</td>\n",
              "      <td>...</td>\n",
              "      <td>...</td>\n",
              "      <td>...</td>\n",
              "      <td>...</td>\n",
              "      <td>...</td>\n",
              "      <td>...</td>\n",
              "    </tr>\n",
              "    <tr>\n",
              "      <th>76</th>\n",
              "      <td>CRFB3</td>\n",
              "      <td>2024-01-26</td>\n",
              "      <td>10.71</td>\n",
              "      <td>-2.45</td>\n",
              "      <td>-0.02</td>\n",
              "      <td>10.98</td>\n",
              "      <td>533990587</td>\n",
              "      <td>-143635530.57</td>\n",
              "    </tr>\n",
              "    <tr>\n",
              "      <th>77</th>\n",
              "      <td>BHIA3</td>\n",
              "      <td>2024-01-26</td>\n",
              "      <td>8.70</td>\n",
              "      <td>-2.46</td>\n",
              "      <td>-0.02</td>\n",
              "      <td>8.92</td>\n",
              "      <td>94843047</td>\n",
              "      <td>-20810240.84</td>\n",
              "    </tr>\n",
              "    <tr>\n",
              "      <th>78</th>\n",
              "      <td>RENT3</td>\n",
              "      <td>2024-01-26</td>\n",
              "      <td>56.24</td>\n",
              "      <td>-3.63</td>\n",
              "      <td>-0.04</td>\n",
              "      <td>58.36</td>\n",
              "      <td>853202347</td>\n",
              "      <td>-1807432634.46</td>\n",
              "    </tr>\n",
              "    <tr>\n",
              "      <th>79</th>\n",
              "      <td>CVCB3</td>\n",
              "      <td>2024-01-26</td>\n",
              "      <td>3.07</td>\n",
              "      <td>-4.36</td>\n",
              "      <td>-0.04</td>\n",
              "      <td>3.21</td>\n",
              "      <td>525582771</td>\n",
              "      <td>-73557408.06</td>\n",
              "    </tr>\n",
              "    <tr>\n",
              "      <th>80</th>\n",
              "      <td>GOLL4</td>\n",
              "      <td>2024-01-26</td>\n",
              "      <td>5.92</td>\n",
              "      <td>-8.07</td>\n",
              "      <td>-0.08</td>\n",
              "      <td>6.44</td>\n",
              "      <td>198184909</td>\n",
              "      <td>-102993202.62</td>\n",
              "    </tr>\n",
              "  </tbody>\n",
              "</table>\n",
              "<p>81 rows × 8 columns</p>\n",
              "</div>"
            ],
            "text/plain": [
              "    Ativo       Data  Valor_final  Var_dia_pct  Var_pct  Valor_inicial  \\\n",
              "0   USIM5 2024-01-26         9.50         5.20     0.05           9.03   \n",
              "1   CMIN3 2024-01-26         6.82         2.40     0.02           6.66   \n",
              "2   PETR3 2024-01-26        41.96         2.19     0.02          41.06   \n",
              "3   SUZB3 2024-01-26        52.91         2.04     0.02          51.85   \n",
              "4   CPFE3 2024-01-26        37.10         2.03     0.02          36.36   \n",
              "..    ...        ...          ...          ...      ...            ...   \n",
              "76  CRFB3 2024-01-26        10.71        -2.45    -0.02          10.98   \n",
              "77  BHIA3 2024-01-26         8.70        -2.46    -0.02           8.92   \n",
              "78  RENT3 2024-01-26        56.24        -3.63    -0.04          58.36   \n",
              "79  CVCB3 2024-01-26         3.07        -4.36    -0.04           3.21   \n",
              "80  GOLL4 2024-01-26         5.92        -8.07    -0.08           6.44   \n",
              "\n",
              "    Qtde. Teórica    Variacao_rs  \n",
              "0       515117391   241889725.43  \n",
              "1      1110559345   177515970.30  \n",
              "2     -2147483648  2140059393.53  \n",
              "3       683452836   722946282.71  \n",
              "4       187732538   138573955.06  \n",
              "..            ...            ...  \n",
              "76      533990587  -143635530.57  \n",
              "77       94843047   -20810240.84  \n",
              "78      853202347 -1807432634.46  \n",
              "79      525582771   -73557408.06  \n",
              "80      198184909  -102993202.62  \n",
              "\n",
              "[81 rows x 8 columns]"
            ]
          },
          "execution_count": 43,
          "metadata": {},
          "output_type": "execute_result"
        }
      ],
      "source": [
        "pd.options.display.float_format='{:.2f}'.format\n",
        "df_principal['Qtde. Teórica'] = df_principal['Qtde. Teórica'].astype(int)\n",
        "df_principal"
      ]
    },
    {
      "cell_type": "code",
      "execution_count": 44,
      "metadata": {
        "colab": {
          "base_uri": "https://localhost:8080/",
          "height": 423
        },
        "id": "6CmyFUXNziX7",
        "outputId": "22cc1c4f-f3ce-4392-e134-016210fec79c"
      },
      "outputs": [
        {
          "data": {
            "text/html": [
              "<div>\n",
              "<style scoped>\n",
              "    .dataframe tbody tr th:only-of-type {\n",
              "        vertical-align: middle;\n",
              "    }\n",
              "\n",
              "    .dataframe tbody tr th {\n",
              "        vertical-align: top;\n",
              "    }\n",
              "\n",
              "    .dataframe thead th {\n",
              "        text-align: right;\n",
              "    }\n",
              "</style>\n",
              "<table border=\"1\" class=\"dataframe\">\n",
              "  <thead>\n",
              "    <tr style=\"text-align: right;\">\n",
              "      <th></th>\n",
              "      <th>Ativo</th>\n",
              "      <th>Data</th>\n",
              "      <th>Valor_final</th>\n",
              "      <th>Var_dia_pct</th>\n",
              "      <th>Var_pct</th>\n",
              "      <th>Valor_inicial</th>\n",
              "      <th>Qtd_teorica</th>\n",
              "      <th>Variacao_rs</th>\n",
              "    </tr>\n",
              "  </thead>\n",
              "  <tbody>\n",
              "    <tr>\n",
              "      <th>0</th>\n",
              "      <td>USIM5</td>\n",
              "      <td>2024-01-26</td>\n",
              "      <td>9.50</td>\n",
              "      <td>5.20</td>\n",
              "      <td>0.05</td>\n",
              "      <td>9.03</td>\n",
              "      <td>515117391</td>\n",
              "      <td>241889725.43</td>\n",
              "    </tr>\n",
              "    <tr>\n",
              "      <th>1</th>\n",
              "      <td>CMIN3</td>\n",
              "      <td>2024-01-26</td>\n",
              "      <td>6.82</td>\n",
              "      <td>2.40</td>\n",
              "      <td>0.02</td>\n",
              "      <td>6.66</td>\n",
              "      <td>1110559345</td>\n",
              "      <td>177515970.30</td>\n",
              "    </tr>\n",
              "    <tr>\n",
              "      <th>2</th>\n",
              "      <td>PETR3</td>\n",
              "      <td>2024-01-26</td>\n",
              "      <td>41.96</td>\n",
              "      <td>2.19</td>\n",
              "      <td>0.02</td>\n",
              "      <td>41.06</td>\n",
              "      <td>-2147483648</td>\n",
              "      <td>2140059393.53</td>\n",
              "    </tr>\n",
              "    <tr>\n",
              "      <th>3</th>\n",
              "      <td>SUZB3</td>\n",
              "      <td>2024-01-26</td>\n",
              "      <td>52.91</td>\n",
              "      <td>2.04</td>\n",
              "      <td>0.02</td>\n",
              "      <td>51.85</td>\n",
              "      <td>683452836</td>\n",
              "      <td>722946282.71</td>\n",
              "    </tr>\n",
              "    <tr>\n",
              "      <th>4</th>\n",
              "      <td>CPFE3</td>\n",
              "      <td>2024-01-26</td>\n",
              "      <td>37.10</td>\n",
              "      <td>2.03</td>\n",
              "      <td>0.02</td>\n",
              "      <td>36.36</td>\n",
              "      <td>187732538</td>\n",
              "      <td>138573955.06</td>\n",
              "    </tr>\n",
              "    <tr>\n",
              "      <th>...</th>\n",
              "      <td>...</td>\n",
              "      <td>...</td>\n",
              "      <td>...</td>\n",
              "      <td>...</td>\n",
              "      <td>...</td>\n",
              "      <td>...</td>\n",
              "      <td>...</td>\n",
              "      <td>...</td>\n",
              "    </tr>\n",
              "    <tr>\n",
              "      <th>76</th>\n",
              "      <td>CRFB3</td>\n",
              "      <td>2024-01-26</td>\n",
              "      <td>10.71</td>\n",
              "      <td>-2.45</td>\n",
              "      <td>-0.02</td>\n",
              "      <td>10.98</td>\n",
              "      <td>533990587</td>\n",
              "      <td>-143635530.57</td>\n",
              "    </tr>\n",
              "    <tr>\n",
              "      <th>77</th>\n",
              "      <td>BHIA3</td>\n",
              "      <td>2024-01-26</td>\n",
              "      <td>8.70</td>\n",
              "      <td>-2.46</td>\n",
              "      <td>-0.02</td>\n",
              "      <td>8.92</td>\n",
              "      <td>94843047</td>\n",
              "      <td>-20810240.84</td>\n",
              "    </tr>\n",
              "    <tr>\n",
              "      <th>78</th>\n",
              "      <td>RENT3</td>\n",
              "      <td>2024-01-26</td>\n",
              "      <td>56.24</td>\n",
              "      <td>-3.63</td>\n",
              "      <td>-0.04</td>\n",
              "      <td>58.36</td>\n",
              "      <td>853202347</td>\n",
              "      <td>-1807432634.46</td>\n",
              "    </tr>\n",
              "    <tr>\n",
              "      <th>79</th>\n",
              "      <td>CVCB3</td>\n",
              "      <td>2024-01-26</td>\n",
              "      <td>3.07</td>\n",
              "      <td>-4.36</td>\n",
              "      <td>-0.04</td>\n",
              "      <td>3.21</td>\n",
              "      <td>525582771</td>\n",
              "      <td>-73557408.06</td>\n",
              "    </tr>\n",
              "    <tr>\n",
              "      <th>80</th>\n",
              "      <td>GOLL4</td>\n",
              "      <td>2024-01-26</td>\n",
              "      <td>5.92</td>\n",
              "      <td>-8.07</td>\n",
              "      <td>-0.08</td>\n",
              "      <td>6.44</td>\n",
              "      <td>198184909</td>\n",
              "      <td>-102993202.62</td>\n",
              "    </tr>\n",
              "  </tbody>\n",
              "</table>\n",
              "<p>81 rows × 8 columns</p>\n",
              "</div>"
            ],
            "text/plain": [
              "    Ativo       Data  Valor_final  Var_dia_pct  Var_pct  Valor_inicial  \\\n",
              "0   USIM5 2024-01-26         9.50         5.20     0.05           9.03   \n",
              "1   CMIN3 2024-01-26         6.82         2.40     0.02           6.66   \n",
              "2   PETR3 2024-01-26        41.96         2.19     0.02          41.06   \n",
              "3   SUZB3 2024-01-26        52.91         2.04     0.02          51.85   \n",
              "4   CPFE3 2024-01-26        37.10         2.03     0.02          36.36   \n",
              "..    ...        ...          ...          ...      ...            ...   \n",
              "76  CRFB3 2024-01-26        10.71        -2.45    -0.02          10.98   \n",
              "77  BHIA3 2024-01-26         8.70        -2.46    -0.02           8.92   \n",
              "78  RENT3 2024-01-26        56.24        -3.63    -0.04          58.36   \n",
              "79  CVCB3 2024-01-26         3.07        -4.36    -0.04           3.21   \n",
              "80  GOLL4 2024-01-26         5.92        -8.07    -0.08           6.44   \n",
              "\n",
              "    Qtd_teorica    Variacao_rs  \n",
              "0     515117391   241889725.43  \n",
              "1    1110559345   177515970.30  \n",
              "2   -2147483648  2140059393.53  \n",
              "3     683452836   722946282.71  \n",
              "4     187732538   138573955.06  \n",
              "..          ...            ...  \n",
              "76    533990587  -143635530.57  \n",
              "77     94843047   -20810240.84  \n",
              "78    853202347 -1807432634.46  \n",
              "79    525582771   -73557408.06  \n",
              "80    198184909  -102993202.62  \n",
              "\n",
              "[81 rows x 8 columns]"
            ]
          },
          "execution_count": 44,
          "metadata": {},
          "output_type": "execute_result"
        }
      ],
      "source": [
        "df_principal = df_principal.rename(columns={'Qtde. Teórica':'Qtd_teorica'}).copy()\n",
        "df_principal"
      ]
    },
    {
      "cell_type": "code",
      "execution_count": 45,
      "metadata": {
        "colab": {
          "base_uri": "https://localhost:8080/",
          "height": 617
        },
        "id": "nnutGmFt0i_n",
        "outputId": "5ea91592-cba0-4715-9106-10fd2567a1b7"
      },
      "outputs": [
        {
          "data": {
            "text/html": [
              "<div>\n",
              "<style scoped>\n",
              "    .dataframe tbody tr th:only-of-type {\n",
              "        vertical-align: middle;\n",
              "    }\n",
              "\n",
              "    .dataframe tbody tr th {\n",
              "        vertical-align: top;\n",
              "    }\n",
              "\n",
              "    .dataframe thead th {\n",
              "        text-align: right;\n",
              "    }\n",
              "</style>\n",
              "<table border=\"1\" class=\"dataframe\">\n",
              "  <thead>\n",
              "    <tr style=\"text-align: right;\">\n",
              "      <th></th>\n",
              "      <th>Ativo</th>\n",
              "      <th>Data</th>\n",
              "      <th>Valor_final</th>\n",
              "      <th>Var_dia_pct</th>\n",
              "      <th>Var_pct</th>\n",
              "      <th>Valor_inicial</th>\n",
              "      <th>Qtd_teorica</th>\n",
              "      <th>Variacao_rs</th>\n",
              "      <th>Resultado</th>\n",
              "    </tr>\n",
              "  </thead>\n",
              "  <tbody>\n",
              "    <tr>\n",
              "      <th>0</th>\n",
              "      <td>USIM5</td>\n",
              "      <td>2024-01-26</td>\n",
              "      <td>9.50</td>\n",
              "      <td>5.20</td>\n",
              "      <td>0.05</td>\n",
              "      <td>9.03</td>\n",
              "      <td>515117391</td>\n",
              "      <td>241889725.43</td>\n",
              "      <td>Subiu</td>\n",
              "    </tr>\n",
              "    <tr>\n",
              "      <th>1</th>\n",
              "      <td>CMIN3</td>\n",
              "      <td>2024-01-26</td>\n",
              "      <td>6.82</td>\n",
              "      <td>2.40</td>\n",
              "      <td>0.02</td>\n",
              "      <td>6.66</td>\n",
              "      <td>1110559345</td>\n",
              "      <td>177515970.30</td>\n",
              "      <td>Subiu</td>\n",
              "    </tr>\n",
              "    <tr>\n",
              "      <th>2</th>\n",
              "      <td>PETR3</td>\n",
              "      <td>2024-01-26</td>\n",
              "      <td>41.96</td>\n",
              "      <td>2.19</td>\n",
              "      <td>0.02</td>\n",
              "      <td>41.06</td>\n",
              "      <td>-2147483648</td>\n",
              "      <td>2140059393.53</td>\n",
              "      <td>Subiu</td>\n",
              "    </tr>\n",
              "    <tr>\n",
              "      <th>3</th>\n",
              "      <td>SUZB3</td>\n",
              "      <td>2024-01-26</td>\n",
              "      <td>52.91</td>\n",
              "      <td>2.04</td>\n",
              "      <td>0.02</td>\n",
              "      <td>51.85</td>\n",
              "      <td>683452836</td>\n",
              "      <td>722946282.71</td>\n",
              "      <td>Subiu</td>\n",
              "    </tr>\n",
              "    <tr>\n",
              "      <th>4</th>\n",
              "      <td>CPFE3</td>\n",
              "      <td>2024-01-26</td>\n",
              "      <td>37.10</td>\n",
              "      <td>2.03</td>\n",
              "      <td>0.02</td>\n",
              "      <td>36.36</td>\n",
              "      <td>187732538</td>\n",
              "      <td>138573955.06</td>\n",
              "      <td>Subiu</td>\n",
              "    </tr>\n",
              "    <tr>\n",
              "      <th>...</th>\n",
              "      <td>...</td>\n",
              "      <td>...</td>\n",
              "      <td>...</td>\n",
              "      <td>...</td>\n",
              "      <td>...</td>\n",
              "      <td>...</td>\n",
              "      <td>...</td>\n",
              "      <td>...</td>\n",
              "      <td>...</td>\n",
              "    </tr>\n",
              "    <tr>\n",
              "      <th>76</th>\n",
              "      <td>CRFB3</td>\n",
              "      <td>2024-01-26</td>\n",
              "      <td>10.71</td>\n",
              "      <td>-2.45</td>\n",
              "      <td>-0.02</td>\n",
              "      <td>10.98</td>\n",
              "      <td>533990587</td>\n",
              "      <td>-143635530.57</td>\n",
              "      <td>Desceu</td>\n",
              "    </tr>\n",
              "    <tr>\n",
              "      <th>77</th>\n",
              "      <td>BHIA3</td>\n",
              "      <td>2024-01-26</td>\n",
              "      <td>8.70</td>\n",
              "      <td>-2.46</td>\n",
              "      <td>-0.02</td>\n",
              "      <td>8.92</td>\n",
              "      <td>94843047</td>\n",
              "      <td>-20810240.84</td>\n",
              "      <td>Desceu</td>\n",
              "    </tr>\n",
              "    <tr>\n",
              "      <th>78</th>\n",
              "      <td>RENT3</td>\n",
              "      <td>2024-01-26</td>\n",
              "      <td>56.24</td>\n",
              "      <td>-3.63</td>\n",
              "      <td>-0.04</td>\n",
              "      <td>58.36</td>\n",
              "      <td>853202347</td>\n",
              "      <td>-1807432634.46</td>\n",
              "      <td>Desceu</td>\n",
              "    </tr>\n",
              "    <tr>\n",
              "      <th>79</th>\n",
              "      <td>CVCB3</td>\n",
              "      <td>2024-01-26</td>\n",
              "      <td>3.07</td>\n",
              "      <td>-4.36</td>\n",
              "      <td>-0.04</td>\n",
              "      <td>3.21</td>\n",
              "      <td>525582771</td>\n",
              "      <td>-73557408.06</td>\n",
              "      <td>Desceu</td>\n",
              "    </tr>\n",
              "    <tr>\n",
              "      <th>80</th>\n",
              "      <td>GOLL4</td>\n",
              "      <td>2024-01-26</td>\n",
              "      <td>5.92</td>\n",
              "      <td>-8.07</td>\n",
              "      <td>-0.08</td>\n",
              "      <td>6.44</td>\n",
              "      <td>198184909</td>\n",
              "      <td>-102993202.62</td>\n",
              "      <td>Desceu</td>\n",
              "    </tr>\n",
              "  </tbody>\n",
              "</table>\n",
              "<p>81 rows × 9 columns</p>\n",
              "</div>"
            ],
            "text/plain": [
              "    Ativo       Data  Valor_final  Var_dia_pct  Var_pct  Valor_inicial  \\\n",
              "0   USIM5 2024-01-26         9.50         5.20     0.05           9.03   \n",
              "1   CMIN3 2024-01-26         6.82         2.40     0.02           6.66   \n",
              "2   PETR3 2024-01-26        41.96         2.19     0.02          41.06   \n",
              "3   SUZB3 2024-01-26        52.91         2.04     0.02          51.85   \n",
              "4   CPFE3 2024-01-26        37.10         2.03     0.02          36.36   \n",
              "..    ...        ...          ...          ...      ...            ...   \n",
              "76  CRFB3 2024-01-26        10.71        -2.45    -0.02          10.98   \n",
              "77  BHIA3 2024-01-26         8.70        -2.46    -0.02           8.92   \n",
              "78  RENT3 2024-01-26        56.24        -3.63    -0.04          58.36   \n",
              "79  CVCB3 2024-01-26         3.07        -4.36    -0.04           3.21   \n",
              "80  GOLL4 2024-01-26         5.92        -8.07    -0.08           6.44   \n",
              "\n",
              "    Qtd_teorica    Variacao_rs Resultado  \n",
              "0     515117391   241889725.43     Subiu  \n",
              "1    1110559345   177515970.30     Subiu  \n",
              "2   -2147483648  2140059393.53     Subiu  \n",
              "3     683452836   722946282.71     Subiu  \n",
              "4     187732538   138573955.06     Subiu  \n",
              "..          ...            ...       ...  \n",
              "76    533990587  -143635530.57    Desceu  \n",
              "77     94843047   -20810240.84    Desceu  \n",
              "78    853202347 -1807432634.46    Desceu  \n",
              "79    525582771   -73557408.06    Desceu  \n",
              "80    198184909  -102993202.62    Desceu  \n",
              "\n",
              "[81 rows x 9 columns]"
            ]
          },
          "execution_count": 45,
          "metadata": {},
          "output_type": "execute_result"
        }
      ],
      "source": [
        "df_principal['Resultado'] = df_principal['Variacao_rs'].apply(lambda x: 'Subiu' if x > 0 else ('Desceu' if x < 0 else 'Estável'))\n",
        "df_principal\n"
      ]
    },
    {
      "cell_type": "code",
      "execution_count": 46,
      "metadata": {
        "colab": {
          "base_uri": "https://localhost:8080/",
          "height": 617
        },
        "id": "a3Z0Znku1M88",
        "outputId": "a8beafc8-1e0e-4fac-a3e9-cd303c37eda3"
      },
      "outputs": [
        {
          "data": {
            "text/html": [
              "<div>\n",
              "<style scoped>\n",
              "    .dataframe tbody tr th:only-of-type {\n",
              "        vertical-align: middle;\n",
              "    }\n",
              "\n",
              "    .dataframe tbody tr th {\n",
              "        vertical-align: top;\n",
              "    }\n",
              "\n",
              "    .dataframe thead th {\n",
              "        text-align: right;\n",
              "    }\n",
              "</style>\n",
              "<table border=\"1\" class=\"dataframe\">\n",
              "  <thead>\n",
              "    <tr style=\"text-align: right;\">\n",
              "      <th></th>\n",
              "      <th>Ativo</th>\n",
              "      <th>Data</th>\n",
              "      <th>Valor_final</th>\n",
              "      <th>Var_dia_pct</th>\n",
              "      <th>Var_pct</th>\n",
              "      <th>Valor_inicial</th>\n",
              "      <th>Qtd_teorica</th>\n",
              "      <th>Variacao_rs</th>\n",
              "      <th>Resultado</th>\n",
              "      <th>Nome</th>\n",
              "    </tr>\n",
              "  </thead>\n",
              "  <tbody>\n",
              "    <tr>\n",
              "      <th>0</th>\n",
              "      <td>USIM5</td>\n",
              "      <td>2024-01-26</td>\n",
              "      <td>9.50</td>\n",
              "      <td>5.20</td>\n",
              "      <td>0.05</td>\n",
              "      <td>9.03</td>\n",
              "      <td>515117391</td>\n",
              "      <td>241889725.43</td>\n",
              "      <td>Subiu</td>\n",
              "      <td>Usiminas</td>\n",
              "    </tr>\n",
              "    <tr>\n",
              "      <th>1</th>\n",
              "      <td>CMIN3</td>\n",
              "      <td>2024-01-26</td>\n",
              "      <td>6.82</td>\n",
              "      <td>2.40</td>\n",
              "      <td>0.02</td>\n",
              "      <td>6.66</td>\n",
              "      <td>1110559345</td>\n",
              "      <td>177515970.30</td>\n",
              "      <td>Subiu</td>\n",
              "      <td>CSN Mineração</td>\n",
              "    </tr>\n",
              "    <tr>\n",
              "      <th>2</th>\n",
              "      <td>PETR3</td>\n",
              "      <td>2024-01-26</td>\n",
              "      <td>41.96</td>\n",
              "      <td>2.19</td>\n",
              "      <td>0.02</td>\n",
              "      <td>41.06</td>\n",
              "      <td>-2147483648</td>\n",
              "      <td>2140059393.53</td>\n",
              "      <td>Subiu</td>\n",
              "      <td>Petrobras</td>\n",
              "    </tr>\n",
              "    <tr>\n",
              "      <th>3</th>\n",
              "      <td>SUZB3</td>\n",
              "      <td>2024-01-26</td>\n",
              "      <td>52.91</td>\n",
              "      <td>2.04</td>\n",
              "      <td>0.02</td>\n",
              "      <td>51.85</td>\n",
              "      <td>683452836</td>\n",
              "      <td>722946282.71</td>\n",
              "      <td>Subiu</td>\n",
              "      <td>Suzano</td>\n",
              "    </tr>\n",
              "    <tr>\n",
              "      <th>4</th>\n",
              "      <td>CPFE3</td>\n",
              "      <td>2024-01-26</td>\n",
              "      <td>37.10</td>\n",
              "      <td>2.03</td>\n",
              "      <td>0.02</td>\n",
              "      <td>36.36</td>\n",
              "      <td>187732538</td>\n",
              "      <td>138573955.06</td>\n",
              "      <td>Subiu</td>\n",
              "      <td>CPFL Energia</td>\n",
              "    </tr>\n",
              "    <tr>\n",
              "      <th>...</th>\n",
              "      <td>...</td>\n",
              "      <td>...</td>\n",
              "      <td>...</td>\n",
              "      <td>...</td>\n",
              "      <td>...</td>\n",
              "      <td>...</td>\n",
              "      <td>...</td>\n",
              "      <td>...</td>\n",
              "      <td>...</td>\n",
              "      <td>...</td>\n",
              "    </tr>\n",
              "    <tr>\n",
              "      <th>76</th>\n",
              "      <td>CRFB3</td>\n",
              "      <td>2024-01-26</td>\n",
              "      <td>10.71</td>\n",
              "      <td>-2.45</td>\n",
              "      <td>-0.02</td>\n",
              "      <td>10.98</td>\n",
              "      <td>533990587</td>\n",
              "      <td>-143635530.57</td>\n",
              "      <td>Desceu</td>\n",
              "      <td>Carrefour Brasil</td>\n",
              "    </tr>\n",
              "    <tr>\n",
              "      <th>77</th>\n",
              "      <td>BHIA3</td>\n",
              "      <td>2024-01-26</td>\n",
              "      <td>8.70</td>\n",
              "      <td>-2.46</td>\n",
              "      <td>-0.02</td>\n",
              "      <td>8.92</td>\n",
              "      <td>94843047</td>\n",
              "      <td>-20810240.84</td>\n",
              "      <td>Desceu</td>\n",
              "      <td>Casas Bahia</td>\n",
              "    </tr>\n",
              "    <tr>\n",
              "      <th>78</th>\n",
              "      <td>RENT3</td>\n",
              "      <td>2024-01-26</td>\n",
              "      <td>56.24</td>\n",
              "      <td>-3.63</td>\n",
              "      <td>-0.04</td>\n",
              "      <td>58.36</td>\n",
              "      <td>853202347</td>\n",
              "      <td>-1807432634.46</td>\n",
              "      <td>Desceu</td>\n",
              "      <td>Localiza</td>\n",
              "    </tr>\n",
              "    <tr>\n",
              "      <th>79</th>\n",
              "      <td>CVCB3</td>\n",
              "      <td>2024-01-26</td>\n",
              "      <td>3.07</td>\n",
              "      <td>-4.36</td>\n",
              "      <td>-0.04</td>\n",
              "      <td>3.21</td>\n",
              "      <td>525582771</td>\n",
              "      <td>-73557408.06</td>\n",
              "      <td>Desceu</td>\n",
              "      <td>CVC</td>\n",
              "    </tr>\n",
              "    <tr>\n",
              "      <th>80</th>\n",
              "      <td>GOLL4</td>\n",
              "      <td>2024-01-26</td>\n",
              "      <td>5.92</td>\n",
              "      <td>-8.07</td>\n",
              "      <td>-0.08</td>\n",
              "      <td>6.44</td>\n",
              "      <td>198184909</td>\n",
              "      <td>-102993202.62</td>\n",
              "      <td>Desceu</td>\n",
              "      <td>GOL</td>\n",
              "    </tr>\n",
              "  </tbody>\n",
              "</table>\n",
              "<p>81 rows × 10 columns</p>\n",
              "</div>"
            ],
            "text/plain": [
              "    Ativo       Data  Valor_final  Var_dia_pct  Var_pct  Valor_inicial  \\\n",
              "0   USIM5 2024-01-26         9.50         5.20     0.05           9.03   \n",
              "1   CMIN3 2024-01-26         6.82         2.40     0.02           6.66   \n",
              "2   PETR3 2024-01-26        41.96         2.19     0.02          41.06   \n",
              "3   SUZB3 2024-01-26        52.91         2.04     0.02          51.85   \n",
              "4   CPFE3 2024-01-26        37.10         2.03     0.02          36.36   \n",
              "..    ...        ...          ...          ...      ...            ...   \n",
              "76  CRFB3 2024-01-26        10.71        -2.45    -0.02          10.98   \n",
              "77  BHIA3 2024-01-26         8.70        -2.46    -0.02           8.92   \n",
              "78  RENT3 2024-01-26        56.24        -3.63    -0.04          58.36   \n",
              "79  CVCB3 2024-01-26         3.07        -4.36    -0.04           3.21   \n",
              "80  GOLL4 2024-01-26         5.92        -8.07    -0.08           6.44   \n",
              "\n",
              "    Qtd_teorica    Variacao_rs Resultado              Nome  \n",
              "0     515117391   241889725.43     Subiu          Usiminas  \n",
              "1    1110559345   177515970.30     Subiu     CSN Mineração  \n",
              "2   -2147483648  2140059393.53     Subiu         Petrobras  \n",
              "3     683452836   722946282.71     Subiu            Suzano  \n",
              "4     187732538   138573955.06     Subiu      CPFL Energia  \n",
              "..          ...            ...       ...               ...  \n",
              "76    533990587  -143635530.57    Desceu  Carrefour Brasil  \n",
              "77     94843047   -20810240.84    Desceu       Casas Bahia  \n",
              "78    853202347 -1807432634.46    Desceu          Localiza  \n",
              "79    525582771   -73557408.06    Desceu               CVC  \n",
              "80    198184909  -102993202.62    Desceu               GOL  \n",
              "\n",
              "[81 rows x 10 columns]"
            ]
          },
          "execution_count": 46,
          "metadata": {},
          "output_type": "execute_result"
        }
      ],
      "source": [
        "df_principal = df_principal.merge(df_tickers, left_on='Ativo', right_on='Ticker', how='left')\n",
        "df_principal = df_principal.drop(columns=['Ticker'])\n",
        "df_principal"
      ]
    },
    {
      "cell_type": "code",
      "execution_count": 47,
      "metadata": {
        "colab": {
          "base_uri": "https://localhost:8080/",
          "height": 634
        },
        "id": "YH31SEla3xxb",
        "outputId": "d6fdda53-ae99-4cc6-9196-6bb7af1aaa28"
      },
      "outputs": [
        {
          "data": {
            "text/html": [
              "<div>\n",
              "<style scoped>\n",
              "    .dataframe tbody tr th:only-of-type {\n",
              "        vertical-align: middle;\n",
              "    }\n",
              "\n",
              "    .dataframe tbody tr th {\n",
              "        vertical-align: top;\n",
              "    }\n",
              "\n",
              "    .dataframe thead th {\n",
              "        text-align: right;\n",
              "    }\n",
              "</style>\n",
              "<table border=\"1\" class=\"dataframe\">\n",
              "  <thead>\n",
              "    <tr style=\"text-align: right;\">\n",
              "      <th></th>\n",
              "      <th>Ativo</th>\n",
              "      <th>Data</th>\n",
              "      <th>Valor_final</th>\n",
              "      <th>Var_dia_pct</th>\n",
              "      <th>Var_pct</th>\n",
              "      <th>Valor_inicial</th>\n",
              "      <th>Qtd_teorica</th>\n",
              "      <th>Variacao_rs</th>\n",
              "      <th>Resultado</th>\n",
              "      <th>Nome</th>\n",
              "      <th>Segmento</th>\n",
              "      <th>Idade (anos)</th>\n",
              "    </tr>\n",
              "  </thead>\n",
              "  <tbody>\n",
              "    <tr>\n",
              "      <th>0</th>\n",
              "      <td>USIM5</td>\n",
              "      <td>2024-01-26</td>\n",
              "      <td>9.50</td>\n",
              "      <td>5.20</td>\n",
              "      <td>0.05</td>\n",
              "      <td>9.03</td>\n",
              "      <td>515117391</td>\n",
              "      <td>241889725.43</td>\n",
              "      <td>Subiu</td>\n",
              "      <td>Usiminas</td>\n",
              "      <td>Siderurgia</td>\n",
              "      <td>60</td>\n",
              "    </tr>\n",
              "    <tr>\n",
              "      <th>1</th>\n",
              "      <td>CMIN3</td>\n",
              "      <td>2024-01-26</td>\n",
              "      <td>6.82</td>\n",
              "      <td>2.40</td>\n",
              "      <td>0.02</td>\n",
              "      <td>6.66</td>\n",
              "      <td>1110559345</td>\n",
              "      <td>177515970.30</td>\n",
              "      <td>Subiu</td>\n",
              "      <td>CSN Mineração</td>\n",
              "      <td>Mineração</td>\n",
              "      <td>81</td>\n",
              "    </tr>\n",
              "    <tr>\n",
              "      <th>2</th>\n",
              "      <td>PETR3</td>\n",
              "      <td>2024-01-26</td>\n",
              "      <td>41.96</td>\n",
              "      <td>2.19</td>\n",
              "      <td>0.02</td>\n",
              "      <td>41.06</td>\n",
              "      <td>-2147483648</td>\n",
              "      <td>2140059393.53</td>\n",
              "      <td>Subiu</td>\n",
              "      <td>Petrobras</td>\n",
              "      <td>Petróleo e Gás</td>\n",
              "      <td>69</td>\n",
              "    </tr>\n",
              "    <tr>\n",
              "      <th>3</th>\n",
              "      <td>PETR3</td>\n",
              "      <td>2024-01-26</td>\n",
              "      <td>41.96</td>\n",
              "      <td>2.19</td>\n",
              "      <td>0.02</td>\n",
              "      <td>41.06</td>\n",
              "      <td>-2147483648</td>\n",
              "      <td>2140059393.53</td>\n",
              "      <td>Subiu</td>\n",
              "      <td>Petrobras</td>\n",
              "      <td>Petróleo e Gás</td>\n",
              "      <td>69</td>\n",
              "    </tr>\n",
              "    <tr>\n",
              "      <th>4</th>\n",
              "      <td>SUZB3</td>\n",
              "      <td>2024-01-26</td>\n",
              "      <td>52.91</td>\n",
              "      <td>2.04</td>\n",
              "      <td>0.02</td>\n",
              "      <td>51.85</td>\n",
              "      <td>683452836</td>\n",
              "      <td>722946282.71</td>\n",
              "      <td>Subiu</td>\n",
              "      <td>Suzano</td>\n",
              "      <td>Papel e Celulose</td>\n",
              "      <td>100</td>\n",
              "    </tr>\n",
              "    <tr>\n",
              "      <th>...</th>\n",
              "      <td>...</td>\n",
              "      <td>...</td>\n",
              "      <td>...</td>\n",
              "      <td>...</td>\n",
              "      <td>...</td>\n",
              "      <td>...</td>\n",
              "      <td>...</td>\n",
              "      <td>...</td>\n",
              "      <td>...</td>\n",
              "      <td>...</td>\n",
              "      <td>...</td>\n",
              "      <td>...</td>\n",
              "    </tr>\n",
              "    <tr>\n",
              "      <th>82</th>\n",
              "      <td>CRFB3</td>\n",
              "      <td>2024-01-26</td>\n",
              "      <td>10.71</td>\n",
              "      <td>-2.45</td>\n",
              "      <td>-0.02</td>\n",
              "      <td>10.98</td>\n",
              "      <td>533990587</td>\n",
              "      <td>-143635530.57</td>\n",
              "      <td>Desceu</td>\n",
              "      <td>Carrefour Brasil</td>\n",
              "      <td>Varejo</td>\n",
              "      <td>48</td>\n",
              "    </tr>\n",
              "    <tr>\n",
              "      <th>83</th>\n",
              "      <td>BHIA3</td>\n",
              "      <td>2024-01-26</td>\n",
              "      <td>8.70</td>\n",
              "      <td>-2.46</td>\n",
              "      <td>-0.02</td>\n",
              "      <td>8.92</td>\n",
              "      <td>94843047</td>\n",
              "      <td>-20810240.84</td>\n",
              "      <td>Desceu</td>\n",
              "      <td>Casas Bahia</td>\n",
              "      <td>Varejo</td>\n",
              "      <td>71</td>\n",
              "    </tr>\n",
              "    <tr>\n",
              "      <th>84</th>\n",
              "      <td>RENT3</td>\n",
              "      <td>2024-01-26</td>\n",
              "      <td>56.24</td>\n",
              "      <td>-3.63</td>\n",
              "      <td>-0.04</td>\n",
              "      <td>58.36</td>\n",
              "      <td>853202347</td>\n",
              "      <td>-1807432634.46</td>\n",
              "      <td>Desceu</td>\n",
              "      <td>Localiza</td>\n",
              "      <td>Aluguel de carros</td>\n",
              "      <td>51</td>\n",
              "    </tr>\n",
              "    <tr>\n",
              "      <th>85</th>\n",
              "      <td>CVCB3</td>\n",
              "      <td>2024-01-26</td>\n",
              "      <td>3.07</td>\n",
              "      <td>-4.36</td>\n",
              "      <td>-0.04</td>\n",
              "      <td>3.21</td>\n",
              "      <td>525582771</td>\n",
              "      <td>-73557408.06</td>\n",
              "      <td>Desceu</td>\n",
              "      <td>CVC</td>\n",
              "      <td>Turismo</td>\n",
              "      <td>51</td>\n",
              "    </tr>\n",
              "    <tr>\n",
              "      <th>86</th>\n",
              "      <td>GOLL4</td>\n",
              "      <td>2024-01-26</td>\n",
              "      <td>5.92</td>\n",
              "      <td>-8.07</td>\n",
              "      <td>-0.08</td>\n",
              "      <td>6.44</td>\n",
              "      <td>198184909</td>\n",
              "      <td>-102993202.62</td>\n",
              "      <td>Desceu</td>\n",
              "      <td>GOL</td>\n",
              "      <td>Transporte Aéreo</td>\n",
              "      <td>23</td>\n",
              "    </tr>\n",
              "  </tbody>\n",
              "</table>\n",
              "<p>87 rows × 12 columns</p>\n",
              "</div>"
            ],
            "text/plain": [
              "    Ativo       Data  Valor_final  Var_dia_pct  Var_pct  Valor_inicial  \\\n",
              "0   USIM5 2024-01-26         9.50         5.20     0.05           9.03   \n",
              "1   CMIN3 2024-01-26         6.82         2.40     0.02           6.66   \n",
              "2   PETR3 2024-01-26        41.96         2.19     0.02          41.06   \n",
              "3   PETR3 2024-01-26        41.96         2.19     0.02          41.06   \n",
              "4   SUZB3 2024-01-26        52.91         2.04     0.02          51.85   \n",
              "..    ...        ...          ...          ...      ...            ...   \n",
              "82  CRFB3 2024-01-26        10.71        -2.45    -0.02          10.98   \n",
              "83  BHIA3 2024-01-26         8.70        -2.46    -0.02           8.92   \n",
              "84  RENT3 2024-01-26        56.24        -3.63    -0.04          58.36   \n",
              "85  CVCB3 2024-01-26         3.07        -4.36    -0.04           3.21   \n",
              "86  GOLL4 2024-01-26         5.92        -8.07    -0.08           6.44   \n",
              "\n",
              "    Qtd_teorica    Variacao_rs Resultado              Nome           Segmento  \\\n",
              "0     515117391   241889725.43     Subiu          Usiminas         Siderurgia   \n",
              "1    1110559345   177515970.30     Subiu     CSN Mineração          Mineração   \n",
              "2   -2147483648  2140059393.53     Subiu         Petrobras     Petróleo e Gás   \n",
              "3   -2147483648  2140059393.53     Subiu         Petrobras     Petróleo e Gás   \n",
              "4     683452836   722946282.71     Subiu            Suzano   Papel e Celulose   \n",
              "..          ...            ...       ...               ...                ...   \n",
              "82    533990587  -143635530.57    Desceu  Carrefour Brasil             Varejo   \n",
              "83     94843047   -20810240.84    Desceu       Casas Bahia             Varejo   \n",
              "84    853202347 -1807432634.46    Desceu          Localiza  Aluguel de carros   \n",
              "85    525582771   -73557408.06    Desceu               CVC            Turismo   \n",
              "86    198184909  -102993202.62    Desceu               GOL   Transporte Aéreo   \n",
              "\n",
              "   Idade (anos)  \n",
              "0            60  \n",
              "1            81  \n",
              "2            69  \n",
              "3            69  \n",
              "4           100  \n",
              "..          ...  \n",
              "82           48  \n",
              "83           71  \n",
              "84           51  \n",
              "85           51  \n",
              "86           23  \n",
              "\n",
              "[87 rows x 12 columns]"
            ]
          },
          "execution_count": 47,
          "metadata": {},
          "output_type": "execute_result"
        }
      ],
      "source": [
        "df_principal = df_principal.merge(df_chatgpt, left_on='Nome', right_on='Nome da Empresa', how='left')\n",
        "df_principal = df_principal.drop(columns=['Nome da Empresa'])\n",
        "df_principal"
      ]
    },
    {
      "cell_type": "code",
      "execution_count": 48,
      "metadata": {
        "colab": {
          "base_uri": "https://localhost:8080/",
          "height": 617
        },
        "id": "3FPvW0X25Cw7",
        "outputId": "bd41a515-8618-4a01-f8f2-eadc1d24fe53"
      },
      "outputs": [
        {
          "data": {
            "text/html": [
              "<div>\n",
              "<style scoped>\n",
              "    .dataframe tbody tr th:only-of-type {\n",
              "        vertical-align: middle;\n",
              "    }\n",
              "\n",
              "    .dataframe tbody tr th {\n",
              "        vertical-align: top;\n",
              "    }\n",
              "\n",
              "    .dataframe thead th {\n",
              "        text-align: right;\n",
              "    }\n",
              "</style>\n",
              "<table border=\"1\" class=\"dataframe\">\n",
              "  <thead>\n",
              "    <tr style=\"text-align: right;\">\n",
              "      <th></th>\n",
              "      <th>Ativo</th>\n",
              "      <th>Data</th>\n",
              "      <th>Valor_final</th>\n",
              "      <th>Var_dia_pct</th>\n",
              "      <th>Var_pct</th>\n",
              "      <th>Valor_inicial</th>\n",
              "      <th>Qtd_teorica</th>\n",
              "      <th>Variacao_rs</th>\n",
              "      <th>Resultado</th>\n",
              "      <th>Nome</th>\n",
              "      <th>Segmento</th>\n",
              "      <th>Idade_anos</th>\n",
              "    </tr>\n",
              "  </thead>\n",
              "  <tbody>\n",
              "    <tr>\n",
              "      <th>0</th>\n",
              "      <td>USIM5</td>\n",
              "      <td>2024-01-26</td>\n",
              "      <td>9.50</td>\n",
              "      <td>5.20</td>\n",
              "      <td>0.05</td>\n",
              "      <td>9.03</td>\n",
              "      <td>515117391</td>\n",
              "      <td>241889725.43</td>\n",
              "      <td>Subiu</td>\n",
              "      <td>Usiminas</td>\n",
              "      <td>Siderurgia</td>\n",
              "      <td>60</td>\n",
              "    </tr>\n",
              "    <tr>\n",
              "      <th>1</th>\n",
              "      <td>CMIN3</td>\n",
              "      <td>2024-01-26</td>\n",
              "      <td>6.82</td>\n",
              "      <td>2.40</td>\n",
              "      <td>0.02</td>\n",
              "      <td>6.66</td>\n",
              "      <td>1110559345</td>\n",
              "      <td>177515970.30</td>\n",
              "      <td>Subiu</td>\n",
              "      <td>CSN Mineração</td>\n",
              "      <td>Mineração</td>\n",
              "      <td>81</td>\n",
              "    </tr>\n",
              "    <tr>\n",
              "      <th>2</th>\n",
              "      <td>PETR3</td>\n",
              "      <td>2024-01-26</td>\n",
              "      <td>41.96</td>\n",
              "      <td>2.19</td>\n",
              "      <td>0.02</td>\n",
              "      <td>41.06</td>\n",
              "      <td>-2147483648</td>\n",
              "      <td>2140059393.53</td>\n",
              "      <td>Subiu</td>\n",
              "      <td>Petrobras</td>\n",
              "      <td>Petróleo e Gás</td>\n",
              "      <td>69</td>\n",
              "    </tr>\n",
              "    <tr>\n",
              "      <th>3</th>\n",
              "      <td>PETR3</td>\n",
              "      <td>2024-01-26</td>\n",
              "      <td>41.96</td>\n",
              "      <td>2.19</td>\n",
              "      <td>0.02</td>\n",
              "      <td>41.06</td>\n",
              "      <td>-2147483648</td>\n",
              "      <td>2140059393.53</td>\n",
              "      <td>Subiu</td>\n",
              "      <td>Petrobras</td>\n",
              "      <td>Petróleo e Gás</td>\n",
              "      <td>69</td>\n",
              "    </tr>\n",
              "    <tr>\n",
              "      <th>4</th>\n",
              "      <td>SUZB3</td>\n",
              "      <td>2024-01-26</td>\n",
              "      <td>52.91</td>\n",
              "      <td>2.04</td>\n",
              "      <td>0.02</td>\n",
              "      <td>51.85</td>\n",
              "      <td>683452836</td>\n",
              "      <td>722946282.71</td>\n",
              "      <td>Subiu</td>\n",
              "      <td>Suzano</td>\n",
              "      <td>Papel e Celulose</td>\n",
              "      <td>100</td>\n",
              "    </tr>\n",
              "    <tr>\n",
              "      <th>...</th>\n",
              "      <td>...</td>\n",
              "      <td>...</td>\n",
              "      <td>...</td>\n",
              "      <td>...</td>\n",
              "      <td>...</td>\n",
              "      <td>...</td>\n",
              "      <td>...</td>\n",
              "      <td>...</td>\n",
              "      <td>...</td>\n",
              "      <td>...</td>\n",
              "      <td>...</td>\n",
              "      <td>...</td>\n",
              "    </tr>\n",
              "    <tr>\n",
              "      <th>82</th>\n",
              "      <td>CRFB3</td>\n",
              "      <td>2024-01-26</td>\n",
              "      <td>10.71</td>\n",
              "      <td>-2.45</td>\n",
              "      <td>-0.02</td>\n",
              "      <td>10.98</td>\n",
              "      <td>533990587</td>\n",
              "      <td>-143635530.57</td>\n",
              "      <td>Desceu</td>\n",
              "      <td>Carrefour Brasil</td>\n",
              "      <td>Varejo</td>\n",
              "      <td>48</td>\n",
              "    </tr>\n",
              "    <tr>\n",
              "      <th>83</th>\n",
              "      <td>BHIA3</td>\n",
              "      <td>2024-01-26</td>\n",
              "      <td>8.70</td>\n",
              "      <td>-2.46</td>\n",
              "      <td>-0.02</td>\n",
              "      <td>8.92</td>\n",
              "      <td>94843047</td>\n",
              "      <td>-20810240.84</td>\n",
              "      <td>Desceu</td>\n",
              "      <td>Casas Bahia</td>\n",
              "      <td>Varejo</td>\n",
              "      <td>71</td>\n",
              "    </tr>\n",
              "    <tr>\n",
              "      <th>84</th>\n",
              "      <td>RENT3</td>\n",
              "      <td>2024-01-26</td>\n",
              "      <td>56.24</td>\n",
              "      <td>-3.63</td>\n",
              "      <td>-0.04</td>\n",
              "      <td>58.36</td>\n",
              "      <td>853202347</td>\n",
              "      <td>-1807432634.46</td>\n",
              "      <td>Desceu</td>\n",
              "      <td>Localiza</td>\n",
              "      <td>Aluguel de carros</td>\n",
              "      <td>51</td>\n",
              "    </tr>\n",
              "    <tr>\n",
              "      <th>85</th>\n",
              "      <td>CVCB3</td>\n",
              "      <td>2024-01-26</td>\n",
              "      <td>3.07</td>\n",
              "      <td>-4.36</td>\n",
              "      <td>-0.04</td>\n",
              "      <td>3.21</td>\n",
              "      <td>525582771</td>\n",
              "      <td>-73557408.06</td>\n",
              "      <td>Desceu</td>\n",
              "      <td>CVC</td>\n",
              "      <td>Turismo</td>\n",
              "      <td>51</td>\n",
              "    </tr>\n",
              "    <tr>\n",
              "      <th>86</th>\n",
              "      <td>GOLL4</td>\n",
              "      <td>2024-01-26</td>\n",
              "      <td>5.92</td>\n",
              "      <td>-8.07</td>\n",
              "      <td>-0.08</td>\n",
              "      <td>6.44</td>\n",
              "      <td>198184909</td>\n",
              "      <td>-102993202.62</td>\n",
              "      <td>Desceu</td>\n",
              "      <td>GOL</td>\n",
              "      <td>Transporte Aéreo</td>\n",
              "      <td>23</td>\n",
              "    </tr>\n",
              "  </tbody>\n",
              "</table>\n",
              "<p>87 rows × 12 columns</p>\n",
              "</div>"
            ],
            "text/plain": [
              "    Ativo       Data  Valor_final  Var_dia_pct  Var_pct  Valor_inicial  \\\n",
              "0   USIM5 2024-01-26         9.50         5.20     0.05           9.03   \n",
              "1   CMIN3 2024-01-26         6.82         2.40     0.02           6.66   \n",
              "2   PETR3 2024-01-26        41.96         2.19     0.02          41.06   \n",
              "3   PETR3 2024-01-26        41.96         2.19     0.02          41.06   \n",
              "4   SUZB3 2024-01-26        52.91         2.04     0.02          51.85   \n",
              "..    ...        ...          ...          ...      ...            ...   \n",
              "82  CRFB3 2024-01-26        10.71        -2.45    -0.02          10.98   \n",
              "83  BHIA3 2024-01-26         8.70        -2.46    -0.02           8.92   \n",
              "84  RENT3 2024-01-26        56.24        -3.63    -0.04          58.36   \n",
              "85  CVCB3 2024-01-26         3.07        -4.36    -0.04           3.21   \n",
              "86  GOLL4 2024-01-26         5.92        -8.07    -0.08           6.44   \n",
              "\n",
              "    Qtd_teorica    Variacao_rs Resultado              Nome           Segmento  \\\n",
              "0     515117391   241889725.43     Subiu          Usiminas         Siderurgia   \n",
              "1    1110559345   177515970.30     Subiu     CSN Mineração          Mineração   \n",
              "2   -2147483648  2140059393.53     Subiu         Petrobras     Petróleo e Gás   \n",
              "3   -2147483648  2140059393.53     Subiu         Petrobras     Petróleo e Gás   \n",
              "4     683452836   722946282.71     Subiu            Suzano   Papel e Celulose   \n",
              "..          ...            ...       ...               ...                ...   \n",
              "82    533990587  -143635530.57    Desceu  Carrefour Brasil             Varejo   \n",
              "83     94843047   -20810240.84    Desceu       Casas Bahia             Varejo   \n",
              "84    853202347 -1807432634.46    Desceu          Localiza  Aluguel de carros   \n",
              "85    525582771   -73557408.06    Desceu               CVC            Turismo   \n",
              "86    198184909  -102993202.62    Desceu               GOL   Transporte Aéreo   \n",
              "\n",
              "   Idade_anos  \n",
              "0          60  \n",
              "1          81  \n",
              "2          69  \n",
              "3          69  \n",
              "4         100  \n",
              "..        ...  \n",
              "82         48  \n",
              "83         71  \n",
              "84         51  \n",
              "85         51  \n",
              "86         23  \n",
              "\n",
              "[87 rows x 12 columns]"
            ]
          },
          "execution_count": 48,
          "metadata": {},
          "output_type": "execute_result"
        }
      ],
      "source": [
        "df_principal = df_principal.rename(columns={'Idade (anos)':'Idade_anos'}).copy()\n",
        "df_principal"
      ]
    },
    {
      "cell_type": "code",
      "execution_count": 49,
      "metadata": {
        "id": "My37qAw57VMy"
      },
      "outputs": [],
      "source": [
        "df_principal['Idade_anos'] = pd.to_numeric(df_principal['Idade_anos'], errors='coerce')\n",
        "df_principal.dropna(subset=['Idade_anos'], inplace=True)\n"
      ]
    },
    {
      "cell_type": "code",
      "execution_count": 50,
      "metadata": {
        "colab": {
          "base_uri": "https://localhost:8080/",
          "height": 617
        },
        "id": "Jvvmy1ba5ZpL",
        "outputId": "df267d2f-7595-4a91-d160-d7ce8b2740ed"
      },
      "outputs": [
        {
          "data": {
            "text/html": [
              "<div>\n",
              "<style scoped>\n",
              "    .dataframe tbody tr th:only-of-type {\n",
              "        vertical-align: middle;\n",
              "    }\n",
              "\n",
              "    .dataframe tbody tr th {\n",
              "        vertical-align: top;\n",
              "    }\n",
              "\n",
              "    .dataframe thead th {\n",
              "        text-align: right;\n",
              "    }\n",
              "</style>\n",
              "<table border=\"1\" class=\"dataframe\">\n",
              "  <thead>\n",
              "    <tr style=\"text-align: right;\">\n",
              "      <th></th>\n",
              "      <th>Ativo</th>\n",
              "      <th>Data</th>\n",
              "      <th>Valor_final</th>\n",
              "      <th>Var_dia_pct</th>\n",
              "      <th>Var_pct</th>\n",
              "      <th>Valor_inicial</th>\n",
              "      <th>Qtd_teorica</th>\n",
              "      <th>Variacao_rs</th>\n",
              "      <th>Resultado</th>\n",
              "      <th>Nome</th>\n",
              "      <th>Segmento</th>\n",
              "      <th>Idade_anos</th>\n",
              "      <th>Cat_idade</th>\n",
              "    </tr>\n",
              "  </thead>\n",
              "  <tbody>\n",
              "    <tr>\n",
              "      <th>0</th>\n",
              "      <td>USIM5</td>\n",
              "      <td>2024-01-26</td>\n",
              "      <td>9.50</td>\n",
              "      <td>5.20</td>\n",
              "      <td>0.05</td>\n",
              "      <td>9.03</td>\n",
              "      <td>515117391</td>\n",
              "      <td>241889725.43</td>\n",
              "      <td>Subiu</td>\n",
              "      <td>Usiminas</td>\n",
              "      <td>Siderurgia</td>\n",
              "      <td>60</td>\n",
              "      <td>Entre 50 e 100</td>\n",
              "    </tr>\n",
              "    <tr>\n",
              "      <th>1</th>\n",
              "      <td>CMIN3</td>\n",
              "      <td>2024-01-26</td>\n",
              "      <td>6.82</td>\n",
              "      <td>2.40</td>\n",
              "      <td>0.02</td>\n",
              "      <td>6.66</td>\n",
              "      <td>1110559345</td>\n",
              "      <td>177515970.30</td>\n",
              "      <td>Subiu</td>\n",
              "      <td>CSN Mineração</td>\n",
              "      <td>Mineração</td>\n",
              "      <td>81</td>\n",
              "      <td>Entre 50 e 100</td>\n",
              "    </tr>\n",
              "    <tr>\n",
              "      <th>2</th>\n",
              "      <td>PETR3</td>\n",
              "      <td>2024-01-26</td>\n",
              "      <td>41.96</td>\n",
              "      <td>2.19</td>\n",
              "      <td>0.02</td>\n",
              "      <td>41.06</td>\n",
              "      <td>-2147483648</td>\n",
              "      <td>2140059393.53</td>\n",
              "      <td>Subiu</td>\n",
              "      <td>Petrobras</td>\n",
              "      <td>Petróleo e Gás</td>\n",
              "      <td>69</td>\n",
              "      <td>Entre 50 e 100</td>\n",
              "    </tr>\n",
              "    <tr>\n",
              "      <th>3</th>\n",
              "      <td>PETR3</td>\n",
              "      <td>2024-01-26</td>\n",
              "      <td>41.96</td>\n",
              "      <td>2.19</td>\n",
              "      <td>0.02</td>\n",
              "      <td>41.06</td>\n",
              "      <td>-2147483648</td>\n",
              "      <td>2140059393.53</td>\n",
              "      <td>Subiu</td>\n",
              "      <td>Petrobras</td>\n",
              "      <td>Petróleo e Gás</td>\n",
              "      <td>69</td>\n",
              "      <td>Entre 50 e 100</td>\n",
              "    </tr>\n",
              "    <tr>\n",
              "      <th>4</th>\n",
              "      <td>SUZB3</td>\n",
              "      <td>2024-01-26</td>\n",
              "      <td>52.91</td>\n",
              "      <td>2.04</td>\n",
              "      <td>0.02</td>\n",
              "      <td>51.85</td>\n",
              "      <td>683452836</td>\n",
              "      <td>722946282.71</td>\n",
              "      <td>Subiu</td>\n",
              "      <td>Suzano</td>\n",
              "      <td>Papel e Celulose</td>\n",
              "      <td>100</td>\n",
              "      <td>Entre 50 e 100</td>\n",
              "    </tr>\n",
              "    <tr>\n",
              "      <th>...</th>\n",
              "      <td>...</td>\n",
              "      <td>...</td>\n",
              "      <td>...</td>\n",
              "      <td>...</td>\n",
              "      <td>...</td>\n",
              "      <td>...</td>\n",
              "      <td>...</td>\n",
              "      <td>...</td>\n",
              "      <td>...</td>\n",
              "      <td>...</td>\n",
              "      <td>...</td>\n",
              "      <td>...</td>\n",
              "      <td>...</td>\n",
              "    </tr>\n",
              "    <tr>\n",
              "      <th>82</th>\n",
              "      <td>CRFB3</td>\n",
              "      <td>2024-01-26</td>\n",
              "      <td>10.71</td>\n",
              "      <td>-2.45</td>\n",
              "      <td>-0.02</td>\n",
              "      <td>10.98</td>\n",
              "      <td>533990587</td>\n",
              "      <td>-143635530.57</td>\n",
              "      <td>Desceu</td>\n",
              "      <td>Carrefour Brasil</td>\n",
              "      <td>Varejo</td>\n",
              "      <td>48</td>\n",
              "      <td>Menos de 50</td>\n",
              "    </tr>\n",
              "    <tr>\n",
              "      <th>83</th>\n",
              "      <td>BHIA3</td>\n",
              "      <td>2024-01-26</td>\n",
              "      <td>8.70</td>\n",
              "      <td>-2.46</td>\n",
              "      <td>-0.02</td>\n",
              "      <td>8.92</td>\n",
              "      <td>94843047</td>\n",
              "      <td>-20810240.84</td>\n",
              "      <td>Desceu</td>\n",
              "      <td>Casas Bahia</td>\n",
              "      <td>Varejo</td>\n",
              "      <td>71</td>\n",
              "      <td>Entre 50 e 100</td>\n",
              "    </tr>\n",
              "    <tr>\n",
              "      <th>84</th>\n",
              "      <td>RENT3</td>\n",
              "      <td>2024-01-26</td>\n",
              "      <td>56.24</td>\n",
              "      <td>-3.63</td>\n",
              "      <td>-0.04</td>\n",
              "      <td>58.36</td>\n",
              "      <td>853202347</td>\n",
              "      <td>-1807432634.46</td>\n",
              "      <td>Desceu</td>\n",
              "      <td>Localiza</td>\n",
              "      <td>Aluguel de carros</td>\n",
              "      <td>51</td>\n",
              "      <td>Entre 50 e 100</td>\n",
              "    </tr>\n",
              "    <tr>\n",
              "      <th>85</th>\n",
              "      <td>CVCB3</td>\n",
              "      <td>2024-01-26</td>\n",
              "      <td>3.07</td>\n",
              "      <td>-4.36</td>\n",
              "      <td>-0.04</td>\n",
              "      <td>3.21</td>\n",
              "      <td>525582771</td>\n",
              "      <td>-73557408.06</td>\n",
              "      <td>Desceu</td>\n",
              "      <td>CVC</td>\n",
              "      <td>Turismo</td>\n",
              "      <td>51</td>\n",
              "      <td>Entre 50 e 100</td>\n",
              "    </tr>\n",
              "    <tr>\n",
              "      <th>86</th>\n",
              "      <td>GOLL4</td>\n",
              "      <td>2024-01-26</td>\n",
              "      <td>5.92</td>\n",
              "      <td>-8.07</td>\n",
              "      <td>-0.08</td>\n",
              "      <td>6.44</td>\n",
              "      <td>198184909</td>\n",
              "      <td>-102993202.62</td>\n",
              "      <td>Desceu</td>\n",
              "      <td>GOL</td>\n",
              "      <td>Transporte Aéreo</td>\n",
              "      <td>23</td>\n",
              "      <td>Menos de 50</td>\n",
              "    </tr>\n",
              "  </tbody>\n",
              "</table>\n",
              "<p>86 rows × 13 columns</p>\n",
              "</div>"
            ],
            "text/plain": [
              "    Ativo       Data  Valor_final  Var_dia_pct  Var_pct  Valor_inicial  \\\n",
              "0   USIM5 2024-01-26         9.50         5.20     0.05           9.03   \n",
              "1   CMIN3 2024-01-26         6.82         2.40     0.02           6.66   \n",
              "2   PETR3 2024-01-26        41.96         2.19     0.02          41.06   \n",
              "3   PETR3 2024-01-26        41.96         2.19     0.02          41.06   \n",
              "4   SUZB3 2024-01-26        52.91         2.04     0.02          51.85   \n",
              "..    ...        ...          ...          ...      ...            ...   \n",
              "82  CRFB3 2024-01-26        10.71        -2.45    -0.02          10.98   \n",
              "83  BHIA3 2024-01-26         8.70        -2.46    -0.02           8.92   \n",
              "84  RENT3 2024-01-26        56.24        -3.63    -0.04          58.36   \n",
              "85  CVCB3 2024-01-26         3.07        -4.36    -0.04           3.21   \n",
              "86  GOLL4 2024-01-26         5.92        -8.07    -0.08           6.44   \n",
              "\n",
              "    Qtd_teorica    Variacao_rs Resultado              Nome           Segmento  \\\n",
              "0     515117391   241889725.43     Subiu          Usiminas         Siderurgia   \n",
              "1    1110559345   177515970.30     Subiu     CSN Mineração          Mineração   \n",
              "2   -2147483648  2140059393.53     Subiu         Petrobras     Petróleo e Gás   \n",
              "3   -2147483648  2140059393.53     Subiu         Petrobras     Petróleo e Gás   \n",
              "4     683452836   722946282.71     Subiu            Suzano   Papel e Celulose   \n",
              "..          ...            ...       ...               ...                ...   \n",
              "82    533990587  -143635530.57    Desceu  Carrefour Brasil             Varejo   \n",
              "83     94843047   -20810240.84    Desceu       Casas Bahia             Varejo   \n",
              "84    853202347 -1807432634.46    Desceu          Localiza  Aluguel de carros   \n",
              "85    525582771   -73557408.06    Desceu               CVC            Turismo   \n",
              "86    198184909  -102993202.62    Desceu               GOL   Transporte Aéreo   \n",
              "\n",
              "    Idade_anos       Cat_idade  \n",
              "0           60  Entre 50 e 100  \n",
              "1           81  Entre 50 e 100  \n",
              "2           69  Entre 50 e 100  \n",
              "3           69  Entre 50 e 100  \n",
              "4          100  Entre 50 e 100  \n",
              "..         ...             ...  \n",
              "82          48     Menos de 50  \n",
              "83          71  Entre 50 e 100  \n",
              "84          51  Entre 50 e 100  \n",
              "85          51  Entre 50 e 100  \n",
              "86          23     Menos de 50  \n",
              "\n",
              "[86 rows x 13 columns]"
            ]
          },
          "execution_count": 50,
          "metadata": {},
          "output_type": "execute_result"
        }
      ],
      "source": [
        "df_principal['Cat_idade'] = df_principal['Idade_anos'].apply(lambda x: 'Mais de 100' if x > 100 else ('Menos de 50' if x < 50 else 'Entre 50 e 100'))\n",
        "df_principal['Idade_anos'] = df_principal['Idade_anos'].astype(int)\n",
        "df_principal"
      ]
    },
    {
      "cell_type": "markdown",
      "metadata": {
        "id": "F3l4dLnQ8PRS"
      },
      "source": [
        "# Começando as análises"
      ]
    },
    {
      "cell_type": "code",
      "execution_count": 51,
      "metadata": {
        "colab": {
          "base_uri": "https://localhost:8080/"
        },
        "id": "jnVLRjcL8ToN",
        "outputId": "ad403fac-924e-42da-9d91-f2463a3eb12b"
      },
      "outputs": [
        {
          "name": "stdout",
          "output_type": "stream",
          "text": [
            "Maior\tR$4,762,926,995.25\n",
            "Menor\tR$-1,807,432,634.46\n",
            "Média\tR$220,333,787.30\n",
            "Média de quem subiu\tR$549,798,344.57\n",
            "Média de quem desceu\tR$-186,265,310.46\n"
          ]
        }
      ],
      "source": [
        "maior = df_principal['Variacao_rs'].max()\n",
        "\n",
        "menor = df_principal['Variacao_rs'].min()\n",
        "\n",
        "media = df_principal['Variacao_rs'].mean()\n",
        "\n",
        "media_subiu = df_principal[df_principal['Resultado'] == 'Subiu']['Variacao_rs'].mean()\n",
        "\n",
        "media_desceu = df_principal[df_principal['Resultado'] == 'Desceu']['Variacao_rs'].mean()\n",
        "\n",
        "print(f'Maior\\tR${maior:,.2f}')\n",
        "print(f'Menor\\tR${menor:,.2f}')\n",
        "print(f'Média\\tR${media:,.2f}')\n",
        "print(f'Média de quem subiu\\tR${media_subiu:,.2f}')\n",
        "print(f'Média de quem desceu\\tR${media_desceu:,.2f}')"
      ]
    },
    {
      "cell_type": "code",
      "execution_count": 52,
      "metadata": {
        "colab": {
          "base_uri": "https://localhost:8080/",
          "height": 1000
        },
        "id": "ohqIMfYqh29Y",
        "outputId": "5a421213-5394-4545-f5e8-3ac3732bfdf8"
      },
      "outputs": [
        {
          "data": {
            "text/html": [
              "<div>\n",
              "<style scoped>\n",
              "    .dataframe tbody tr th:only-of-type {\n",
              "        vertical-align: middle;\n",
              "    }\n",
              "\n",
              "    .dataframe tbody tr th {\n",
              "        vertical-align: top;\n",
              "    }\n",
              "\n",
              "    .dataframe thead th {\n",
              "        text-align: right;\n",
              "    }\n",
              "</style>\n",
              "<table border=\"1\" class=\"dataframe\">\n",
              "  <thead>\n",
              "    <tr style=\"text-align: right;\">\n",
              "      <th></th>\n",
              "      <th>Ativo</th>\n",
              "      <th>Data</th>\n",
              "      <th>Valor_final</th>\n",
              "      <th>Var_dia_pct</th>\n",
              "      <th>Var_pct</th>\n",
              "      <th>Valor_inicial</th>\n",
              "      <th>Qtd_teorica</th>\n",
              "      <th>Variacao_rs</th>\n",
              "      <th>Resultado</th>\n",
              "      <th>Nome</th>\n",
              "      <th>Segmento</th>\n",
              "      <th>Idade_anos</th>\n",
              "      <th>Cat_idade</th>\n",
              "    </tr>\n",
              "  </thead>\n",
              "  <tbody>\n",
              "    <tr>\n",
              "      <th>0</th>\n",
              "      <td>USIM5</td>\n",
              "      <td>2024-01-26</td>\n",
              "      <td>9.50</td>\n",
              "      <td>5.20</td>\n",
              "      <td>0.05</td>\n",
              "      <td>9.03</td>\n",
              "      <td>515117391</td>\n",
              "      <td>241889725.43</td>\n",
              "      <td>Subiu</td>\n",
              "      <td>Usiminas</td>\n",
              "      <td>Siderurgia</td>\n",
              "      <td>60</td>\n",
              "      <td>Entre 50 e 100</td>\n",
              "    </tr>\n",
              "    <tr>\n",
              "      <th>1</th>\n",
              "      <td>CMIN3</td>\n",
              "      <td>2024-01-26</td>\n",
              "      <td>6.82</td>\n",
              "      <td>2.40</td>\n",
              "      <td>0.02</td>\n",
              "      <td>6.66</td>\n",
              "      <td>1110559345</td>\n",
              "      <td>177515970.30</td>\n",
              "      <td>Subiu</td>\n",
              "      <td>CSN Mineração</td>\n",
              "      <td>Mineração</td>\n",
              "      <td>81</td>\n",
              "      <td>Entre 50 e 100</td>\n",
              "    </tr>\n",
              "    <tr>\n",
              "      <th>2</th>\n",
              "      <td>PETR3</td>\n",
              "      <td>2024-01-26</td>\n",
              "      <td>41.96</td>\n",
              "      <td>2.19</td>\n",
              "      <td>0.02</td>\n",
              "      <td>41.06</td>\n",
              "      <td>-2147483648</td>\n",
              "      <td>2140059393.53</td>\n",
              "      <td>Subiu</td>\n",
              "      <td>Petrobras</td>\n",
              "      <td>Petróleo e Gás</td>\n",
              "      <td>69</td>\n",
              "      <td>Entre 50 e 100</td>\n",
              "    </tr>\n",
              "    <tr>\n",
              "      <th>3</th>\n",
              "      <td>PETR3</td>\n",
              "      <td>2024-01-26</td>\n",
              "      <td>41.96</td>\n",
              "      <td>2.19</td>\n",
              "      <td>0.02</td>\n",
              "      <td>41.06</td>\n",
              "      <td>-2147483648</td>\n",
              "      <td>2140059393.53</td>\n",
              "      <td>Subiu</td>\n",
              "      <td>Petrobras</td>\n",
              "      <td>Petróleo e Gás</td>\n",
              "      <td>69</td>\n",
              "      <td>Entre 50 e 100</td>\n",
              "    </tr>\n",
              "    <tr>\n",
              "      <th>4</th>\n",
              "      <td>SUZB3</td>\n",
              "      <td>2024-01-26</td>\n",
              "      <td>52.91</td>\n",
              "      <td>2.04</td>\n",
              "      <td>0.02</td>\n",
              "      <td>51.85</td>\n",
              "      <td>683452836</td>\n",
              "      <td>722946282.71</td>\n",
              "      <td>Subiu</td>\n",
              "      <td>Suzano</td>\n",
              "      <td>Papel e Celulose</td>\n",
              "      <td>100</td>\n",
              "      <td>Entre 50 e 100</td>\n",
              "    </tr>\n",
              "  </tbody>\n",
              "</table>\n",
              "</div>"
            ],
            "text/plain": [
              "   Ativo       Data  Valor_final  Var_dia_pct  Var_pct  Valor_inicial  \\\n",
              "0  USIM5 2024-01-26         9.50         5.20     0.05           9.03   \n",
              "1  CMIN3 2024-01-26         6.82         2.40     0.02           6.66   \n",
              "2  PETR3 2024-01-26        41.96         2.19     0.02          41.06   \n",
              "3  PETR3 2024-01-26        41.96         2.19     0.02          41.06   \n",
              "4  SUZB3 2024-01-26        52.91         2.04     0.02          51.85   \n",
              "\n",
              "   Qtd_teorica   Variacao_rs Resultado           Nome          Segmento  \\\n",
              "0    515117391  241889725.43     Subiu       Usiminas        Siderurgia   \n",
              "1   1110559345  177515970.30     Subiu  CSN Mineração         Mineração   \n",
              "2  -2147483648 2140059393.53     Subiu      Petrobras    Petróleo e Gás   \n",
              "3  -2147483648 2140059393.53     Subiu      Petrobras    Petróleo e Gás   \n",
              "4    683452836  722946282.71     Subiu         Suzano  Papel e Celulose   \n",
              "\n",
              "   Idade_anos       Cat_idade  \n",
              "0          60  Entre 50 e 100  \n",
              "1          81  Entre 50 e 100  \n",
              "2          69  Entre 50 e 100  \n",
              "3          69  Entre 50 e 100  \n",
              "4         100  Entre 50 e 100  "
            ]
          },
          "execution_count": 52,
          "metadata": {},
          "output_type": "execute_result"
        }
      ],
      "source": [
        "df_principal_subiu = df_principal[df_principal['Resultado'] == 'Subiu']\n",
        "df_principal_subiu.head()"
      ]
    },
    {
      "cell_type": "code",
      "execution_count": 53,
      "metadata": {
        "colab": {
          "base_uri": "https://localhost:8080/",
          "height": 739
        },
        "id": "kjes55JbiXxn",
        "outputId": "56cb3a9a-9f5f-4c95-a173-952e2000769d"
      },
      "outputs": [
        {
          "data": {
            "text/html": [
              "<div>\n",
              "<style scoped>\n",
              "    .dataframe tbody tr th:only-of-type {\n",
              "        vertical-align: middle;\n",
              "    }\n",
              "\n",
              "    .dataframe tbody tr th {\n",
              "        vertical-align: top;\n",
              "    }\n",
              "\n",
              "    .dataframe thead th {\n",
              "        text-align: right;\n",
              "    }\n",
              "</style>\n",
              "<table border=\"1\" class=\"dataframe\">\n",
              "  <thead>\n",
              "    <tr style=\"text-align: right;\">\n",
              "      <th></th>\n",
              "      <th>Segmento</th>\n",
              "      <th>Variacao_rs</th>\n",
              "    </tr>\n",
              "  </thead>\n",
              "  <tbody>\n",
              "    <tr>\n",
              "      <th>0</th>\n",
              "      <td>Alimentos</td>\n",
              "      <td>R$407,833,683.09</td>\n",
              "    </tr>\n",
              "    <tr>\n",
              "      <th>1</th>\n",
              "      <td>Bancário</td>\n",
              "      <td>R$4,636,679,965.25</td>\n",
              "    </tr>\n",
              "    <tr>\n",
              "      <th>2</th>\n",
              "      <td>Calçados</td>\n",
              "      <td>R$41,021,792.09</td>\n",
              "    </tr>\n",
              "    <tr>\n",
              "      <th>3</th>\n",
              "      <td>Construção</td>\n",
              "      <td>R$37,525,872.38</td>\n",
              "    </tr>\n",
              "    <tr>\n",
              "      <th>4</th>\n",
              "      <td>Educação</td>\n",
              "      <td>R$72,295,838.99</td>\n",
              "    </tr>\n",
              "    <tr>\n",
              "      <th>5</th>\n",
              "      <td>Energia</td>\n",
              "      <td>R$559,575,773.06</td>\n",
              "    </tr>\n",
              "    <tr>\n",
              "      <th>6</th>\n",
              "      <td>Energia Elétrica</td>\n",
              "      <td>R$650,245,850.51</td>\n",
              "    </tr>\n",
              "    <tr>\n",
              "      <th>7</th>\n",
              "      <td>Holding</td>\n",
              "      <td>R$373,853,994.88</td>\n",
              "    </tr>\n",
              "    <tr>\n",
              "      <th>8</th>\n",
              "      <td>Investimentos</td>\n",
              "      <td>R$42,238,249.54</td>\n",
              "    </tr>\n",
              "    <tr>\n",
              "      <th>9</th>\n",
              "      <td>Logística</td>\n",
              "      <td>R$233,902,674.79</td>\n",
              "    </tr>\n",
              "    <tr>\n",
              "      <th>10</th>\n",
              "      <td>Mineração</td>\n",
              "      <td>R$4,940,442,965.55</td>\n",
              "    </tr>\n",
              "    <tr>\n",
              "      <th>11</th>\n",
              "      <td>Papel e Celulose</td>\n",
              "      <td>R$722,946,282.71</td>\n",
              "    </tr>\n",
              "    <tr>\n",
              "      <th>12</th>\n",
              "      <td>Petróleo e Gás</td>\n",
              "      <td>R$11,336,484,517.00</td>\n",
              "    </tr>\n",
              "    <tr>\n",
              "      <th>13</th>\n",
              "      <td>Química</td>\n",
              "      <td>R$69,054,317.64</td>\n",
              "    </tr>\n",
              "    <tr>\n",
              "      <th>14</th>\n",
              "      <td>Saúde</td>\n",
              "      <td>R$453,917,907.01</td>\n",
              "    </tr>\n",
              "    <tr>\n",
              "      <th>15</th>\n",
              "      <td>Serviços Financeiros</td>\n",
              "      <td>R$43,657,683.38</td>\n",
              "    </tr>\n",
              "    <tr>\n",
              "      <th>16</th>\n",
              "      <td>Shopping Centers</td>\n",
              "      <td>R$117,732,680.08</td>\n",
              "    </tr>\n",
              "    <tr>\n",
              "      <th>17</th>\n",
              "      <td>Siderurgia</td>\n",
              "      <td>R$489,935,930.93</td>\n",
              "    </tr>\n",
              "    <tr>\n",
              "      <th>18</th>\n",
              "      <td>Tecnologia</td>\n",
              "      <td>R$15,598,886.65</td>\n",
              "    </tr>\n",
              "    <tr>\n",
              "      <th>19</th>\n",
              "      <td>Telecomunicações</td>\n",
              "      <td>R$292,938,114.42</td>\n",
              "    </tr>\n",
              "    <tr>\n",
              "      <th>20</th>\n",
              "      <td>Transporte Aéreo</td>\n",
              "      <td>R$65,452,205.55</td>\n",
              "    </tr>\n",
              "    <tr>\n",
              "      <th>21</th>\n",
              "      <td>Varejo</td>\n",
              "      <td>R$237,187,009.24</td>\n",
              "    </tr>\n",
              "  </tbody>\n",
              "</table>\n",
              "</div>"
            ],
            "text/plain": [
              "                Segmento          Variacao_rs\n",
              "0              Alimentos     R$407,833,683.09\n",
              "1               Bancário   R$4,636,679,965.25\n",
              "2               Calçados      R$41,021,792.09\n",
              "3             Construção      R$37,525,872.38\n",
              "4               Educação      R$72,295,838.99\n",
              "5                Energia     R$559,575,773.06\n",
              "6       Energia Elétrica     R$650,245,850.51\n",
              "7                Holding     R$373,853,994.88\n",
              "8          Investimentos      R$42,238,249.54\n",
              "9              Logística     R$233,902,674.79\n",
              "10             Mineração   R$4,940,442,965.55\n",
              "11      Papel e Celulose     R$722,946,282.71\n",
              "12        Petróleo e Gás  R$11,336,484,517.00\n",
              "13               Química      R$69,054,317.64\n",
              "14                 Saúde     R$453,917,907.01\n",
              "15  Serviços Financeiros      R$43,657,683.38\n",
              "16      Shopping Centers     R$117,732,680.08\n",
              "17            Siderurgia     R$489,935,930.93\n",
              "18            Tecnologia      R$15,598,886.65\n",
              "19      Telecomunicações     R$292,938,114.42\n",
              "20      Transporte Aéreo      R$65,452,205.55\n",
              "21                Varejo     R$237,187,009.24"
            ]
          },
          "execution_count": 53,
          "metadata": {},
          "output_type": "execute_result"
        }
      ],
      "source": [
        "df_analise_segmento = df_principal_subiu.groupby('Segmento')['Variacao_rs'].sum().reset_index()\n",
        "df_analise_segmento['Variacao_rs'] = df_analise_segmento['Variacao_rs'].apply(lambda x: f'R${x:,.2f}')\n",
        "df_analise_segmento"
      ]
    },
    {
      "cell_type": "code",
      "execution_count": 54,
      "metadata": {
        "colab": {
          "base_uri": "https://localhost:8080/",
          "height": 143
        },
        "id": "QyqN3mwAi5Np",
        "outputId": "86439c5d-afcf-4581-eb78-716fd76059c3"
      },
      "outputs": [
        {
          "data": {
            "text/html": [
              "<div>\n",
              "<style scoped>\n",
              "    .dataframe tbody tr th:only-of-type {\n",
              "        vertical-align: middle;\n",
              "    }\n",
              "\n",
              "    .dataframe tbody tr th {\n",
              "        vertical-align: top;\n",
              "    }\n",
              "\n",
              "    .dataframe thead th {\n",
              "        text-align: right;\n",
              "    }\n",
              "</style>\n",
              "<table border=\"1\" class=\"dataframe\">\n",
              "  <thead>\n",
              "    <tr style=\"text-align: right;\">\n",
              "      <th></th>\n",
              "      <th>Resultado</th>\n",
              "      <th>Variacao_rs</th>\n",
              "    </tr>\n",
              "  </thead>\n",
              "  <tbody>\n",
              "    <tr>\n",
              "      <th>0</th>\n",
              "      <td>Desceu</td>\n",
              "      <td>-6891816486.99</td>\n",
              "    </tr>\n",
              "    <tr>\n",
              "      <th>1</th>\n",
              "      <td>Estável</td>\n",
              "      <td>0.00</td>\n",
              "    </tr>\n",
              "    <tr>\n",
              "      <th>2</th>\n",
              "      <td>Subiu</td>\n",
              "      <td>25840522194.74</td>\n",
              "    </tr>\n",
              "  </tbody>\n",
              "</table>\n",
              "</div>"
            ],
            "text/plain": [
              "  Resultado    Variacao_rs\n",
              "0    Desceu -6891816486.99\n",
              "1   Estável           0.00\n",
              "2     Subiu 25840522194.74"
            ]
          },
          "execution_count": 54,
          "metadata": {},
          "output_type": "execute_result"
        }
      ],
      "source": [
        "df_analise_saldo = df_principal.groupby('Resultado')['Variacao_rs'].sum().reset_index()\n",
        "df_analise_saldo"
      ]
    },
    {
      "cell_type": "code",
      "execution_count": 55,
      "metadata": {
        "colab": {
          "base_uri": "https://localhost:8080/",
          "height": 542
        },
        "id": "csgvxklyjNtb",
        "outputId": "dacca692-5d49-46d9-85a4-49195bf606ba"
      },
      "outputs": [
        {
          "data": {
            "application/vnd.plotly.v1+json": {
              "config": {
                "plotlyServerURL": "https://plot.ly"
              },
              "data": [
                {
                  "alignmentgroup": "True",
                  "hovertemplate": "Resultado=%{x}<br>Variacao_rs=%{text}<extra></extra>",
                  "legendgroup": "",
                  "marker": {
                    "color": "#636efa",
                    "pattern": {
                      "shape": ""
                    }
                  },
                  "name": "",
                  "offsetgroup": "",
                  "orientation": "v",
                  "showlegend": false,
                  "text": [
                    -6891816486.985515,
                    0,
                    25840522194.737595
                  ],
                  "textposition": "auto",
                  "type": "bar",
                  "x": [
                    "Desceu",
                    "Estável",
                    "Subiu"
                  ],
                  "xaxis": "x",
                  "y": [
                    -6891816486.985515,
                    0,
                    25840522194.737595
                  ],
                  "yaxis": "y"
                }
              ],
              "layout": {
                "barmode": "relative",
                "legend": {
                  "tracegroupgap": 0
                },
                "template": {
                  "data": {
                    "bar": [
                      {
                        "error_x": {
                          "color": "#2a3f5f"
                        },
                        "error_y": {
                          "color": "#2a3f5f"
                        },
                        "marker": {
                          "line": {
                            "color": "#E5ECF6",
                            "width": 0.5
                          },
                          "pattern": {
                            "fillmode": "overlay",
                            "size": 10,
                            "solidity": 0.2
                          }
                        },
                        "type": "bar"
                      }
                    ],
                    "barpolar": [
                      {
                        "marker": {
                          "line": {
                            "color": "#E5ECF6",
                            "width": 0.5
                          },
                          "pattern": {
                            "fillmode": "overlay",
                            "size": 10,
                            "solidity": 0.2
                          }
                        },
                        "type": "barpolar"
                      }
                    ],
                    "carpet": [
                      {
                        "aaxis": {
                          "endlinecolor": "#2a3f5f",
                          "gridcolor": "white",
                          "linecolor": "white",
                          "minorgridcolor": "white",
                          "startlinecolor": "#2a3f5f"
                        },
                        "baxis": {
                          "endlinecolor": "#2a3f5f",
                          "gridcolor": "white",
                          "linecolor": "white",
                          "minorgridcolor": "white",
                          "startlinecolor": "#2a3f5f"
                        },
                        "type": "carpet"
                      }
                    ],
                    "choropleth": [
                      {
                        "colorbar": {
                          "outlinewidth": 0,
                          "ticks": ""
                        },
                        "type": "choropleth"
                      }
                    ],
                    "contour": [
                      {
                        "colorbar": {
                          "outlinewidth": 0,
                          "ticks": ""
                        },
                        "colorscale": [
                          [
                            0,
                            "#0d0887"
                          ],
                          [
                            0.1111111111111111,
                            "#46039f"
                          ],
                          [
                            0.2222222222222222,
                            "#7201a8"
                          ],
                          [
                            0.3333333333333333,
                            "#9c179e"
                          ],
                          [
                            0.4444444444444444,
                            "#bd3786"
                          ],
                          [
                            0.5555555555555556,
                            "#d8576b"
                          ],
                          [
                            0.6666666666666666,
                            "#ed7953"
                          ],
                          [
                            0.7777777777777778,
                            "#fb9f3a"
                          ],
                          [
                            0.8888888888888888,
                            "#fdca26"
                          ],
                          [
                            1,
                            "#f0f921"
                          ]
                        ],
                        "type": "contour"
                      }
                    ],
                    "contourcarpet": [
                      {
                        "colorbar": {
                          "outlinewidth": 0,
                          "ticks": ""
                        },
                        "type": "contourcarpet"
                      }
                    ],
                    "heatmap": [
                      {
                        "colorbar": {
                          "outlinewidth": 0,
                          "ticks": ""
                        },
                        "colorscale": [
                          [
                            0,
                            "#0d0887"
                          ],
                          [
                            0.1111111111111111,
                            "#46039f"
                          ],
                          [
                            0.2222222222222222,
                            "#7201a8"
                          ],
                          [
                            0.3333333333333333,
                            "#9c179e"
                          ],
                          [
                            0.4444444444444444,
                            "#bd3786"
                          ],
                          [
                            0.5555555555555556,
                            "#d8576b"
                          ],
                          [
                            0.6666666666666666,
                            "#ed7953"
                          ],
                          [
                            0.7777777777777778,
                            "#fb9f3a"
                          ],
                          [
                            0.8888888888888888,
                            "#fdca26"
                          ],
                          [
                            1,
                            "#f0f921"
                          ]
                        ],
                        "type": "heatmap"
                      }
                    ],
                    "heatmapgl": [
                      {
                        "colorbar": {
                          "outlinewidth": 0,
                          "ticks": ""
                        },
                        "colorscale": [
                          [
                            0,
                            "#0d0887"
                          ],
                          [
                            0.1111111111111111,
                            "#46039f"
                          ],
                          [
                            0.2222222222222222,
                            "#7201a8"
                          ],
                          [
                            0.3333333333333333,
                            "#9c179e"
                          ],
                          [
                            0.4444444444444444,
                            "#bd3786"
                          ],
                          [
                            0.5555555555555556,
                            "#d8576b"
                          ],
                          [
                            0.6666666666666666,
                            "#ed7953"
                          ],
                          [
                            0.7777777777777778,
                            "#fb9f3a"
                          ],
                          [
                            0.8888888888888888,
                            "#fdca26"
                          ],
                          [
                            1,
                            "#f0f921"
                          ]
                        ],
                        "type": "heatmapgl"
                      }
                    ],
                    "histogram": [
                      {
                        "marker": {
                          "pattern": {
                            "fillmode": "overlay",
                            "size": 10,
                            "solidity": 0.2
                          }
                        },
                        "type": "histogram"
                      }
                    ],
                    "histogram2d": [
                      {
                        "colorbar": {
                          "outlinewidth": 0,
                          "ticks": ""
                        },
                        "colorscale": [
                          [
                            0,
                            "#0d0887"
                          ],
                          [
                            0.1111111111111111,
                            "#46039f"
                          ],
                          [
                            0.2222222222222222,
                            "#7201a8"
                          ],
                          [
                            0.3333333333333333,
                            "#9c179e"
                          ],
                          [
                            0.4444444444444444,
                            "#bd3786"
                          ],
                          [
                            0.5555555555555556,
                            "#d8576b"
                          ],
                          [
                            0.6666666666666666,
                            "#ed7953"
                          ],
                          [
                            0.7777777777777778,
                            "#fb9f3a"
                          ],
                          [
                            0.8888888888888888,
                            "#fdca26"
                          ],
                          [
                            1,
                            "#f0f921"
                          ]
                        ],
                        "type": "histogram2d"
                      }
                    ],
                    "histogram2dcontour": [
                      {
                        "colorbar": {
                          "outlinewidth": 0,
                          "ticks": ""
                        },
                        "colorscale": [
                          [
                            0,
                            "#0d0887"
                          ],
                          [
                            0.1111111111111111,
                            "#46039f"
                          ],
                          [
                            0.2222222222222222,
                            "#7201a8"
                          ],
                          [
                            0.3333333333333333,
                            "#9c179e"
                          ],
                          [
                            0.4444444444444444,
                            "#bd3786"
                          ],
                          [
                            0.5555555555555556,
                            "#d8576b"
                          ],
                          [
                            0.6666666666666666,
                            "#ed7953"
                          ],
                          [
                            0.7777777777777778,
                            "#fb9f3a"
                          ],
                          [
                            0.8888888888888888,
                            "#fdca26"
                          ],
                          [
                            1,
                            "#f0f921"
                          ]
                        ],
                        "type": "histogram2dcontour"
                      }
                    ],
                    "mesh3d": [
                      {
                        "colorbar": {
                          "outlinewidth": 0,
                          "ticks": ""
                        },
                        "type": "mesh3d"
                      }
                    ],
                    "parcoords": [
                      {
                        "line": {
                          "colorbar": {
                            "outlinewidth": 0,
                            "ticks": ""
                          }
                        },
                        "type": "parcoords"
                      }
                    ],
                    "pie": [
                      {
                        "automargin": true,
                        "type": "pie"
                      }
                    ],
                    "scatter": [
                      {
                        "fillpattern": {
                          "fillmode": "overlay",
                          "size": 10,
                          "solidity": 0.2
                        },
                        "type": "scatter"
                      }
                    ],
                    "scatter3d": [
                      {
                        "line": {
                          "colorbar": {
                            "outlinewidth": 0,
                            "ticks": ""
                          }
                        },
                        "marker": {
                          "colorbar": {
                            "outlinewidth": 0,
                            "ticks": ""
                          }
                        },
                        "type": "scatter3d"
                      }
                    ],
                    "scattercarpet": [
                      {
                        "marker": {
                          "colorbar": {
                            "outlinewidth": 0,
                            "ticks": ""
                          }
                        },
                        "type": "scattercarpet"
                      }
                    ],
                    "scattergeo": [
                      {
                        "marker": {
                          "colorbar": {
                            "outlinewidth": 0,
                            "ticks": ""
                          }
                        },
                        "type": "scattergeo"
                      }
                    ],
                    "scattergl": [
                      {
                        "marker": {
                          "colorbar": {
                            "outlinewidth": 0,
                            "ticks": ""
                          }
                        },
                        "type": "scattergl"
                      }
                    ],
                    "scattermapbox": [
                      {
                        "marker": {
                          "colorbar": {
                            "outlinewidth": 0,
                            "ticks": ""
                          }
                        },
                        "type": "scattermapbox"
                      }
                    ],
                    "scatterpolar": [
                      {
                        "marker": {
                          "colorbar": {
                            "outlinewidth": 0,
                            "ticks": ""
                          }
                        },
                        "type": "scatterpolar"
                      }
                    ],
                    "scatterpolargl": [
                      {
                        "marker": {
                          "colorbar": {
                            "outlinewidth": 0,
                            "ticks": ""
                          }
                        },
                        "type": "scatterpolargl"
                      }
                    ],
                    "scatterternary": [
                      {
                        "marker": {
                          "colorbar": {
                            "outlinewidth": 0,
                            "ticks": ""
                          }
                        },
                        "type": "scatterternary"
                      }
                    ],
                    "surface": [
                      {
                        "colorbar": {
                          "outlinewidth": 0,
                          "ticks": ""
                        },
                        "colorscale": [
                          [
                            0,
                            "#0d0887"
                          ],
                          [
                            0.1111111111111111,
                            "#46039f"
                          ],
                          [
                            0.2222222222222222,
                            "#7201a8"
                          ],
                          [
                            0.3333333333333333,
                            "#9c179e"
                          ],
                          [
                            0.4444444444444444,
                            "#bd3786"
                          ],
                          [
                            0.5555555555555556,
                            "#d8576b"
                          ],
                          [
                            0.6666666666666666,
                            "#ed7953"
                          ],
                          [
                            0.7777777777777778,
                            "#fb9f3a"
                          ],
                          [
                            0.8888888888888888,
                            "#fdca26"
                          ],
                          [
                            1,
                            "#f0f921"
                          ]
                        ],
                        "type": "surface"
                      }
                    ],
                    "table": [
                      {
                        "cells": {
                          "fill": {
                            "color": "#EBF0F8"
                          },
                          "line": {
                            "color": "white"
                          }
                        },
                        "header": {
                          "fill": {
                            "color": "#C8D4E3"
                          },
                          "line": {
                            "color": "white"
                          }
                        },
                        "type": "table"
                      }
                    ]
                  },
                  "layout": {
                    "annotationdefaults": {
                      "arrowcolor": "#2a3f5f",
                      "arrowhead": 0,
                      "arrowwidth": 1
                    },
                    "autotypenumbers": "strict",
                    "coloraxis": {
                      "colorbar": {
                        "outlinewidth": 0,
                        "ticks": ""
                      }
                    },
                    "colorscale": {
                      "diverging": [
                        [
                          0,
                          "#8e0152"
                        ],
                        [
                          0.1,
                          "#c51b7d"
                        ],
                        [
                          0.2,
                          "#de77ae"
                        ],
                        [
                          0.3,
                          "#f1b6da"
                        ],
                        [
                          0.4,
                          "#fde0ef"
                        ],
                        [
                          0.5,
                          "#f7f7f7"
                        ],
                        [
                          0.6,
                          "#e6f5d0"
                        ],
                        [
                          0.7,
                          "#b8e186"
                        ],
                        [
                          0.8,
                          "#7fbc41"
                        ],
                        [
                          0.9,
                          "#4d9221"
                        ],
                        [
                          1,
                          "#276419"
                        ]
                      ],
                      "sequential": [
                        [
                          0,
                          "#0d0887"
                        ],
                        [
                          0.1111111111111111,
                          "#46039f"
                        ],
                        [
                          0.2222222222222222,
                          "#7201a8"
                        ],
                        [
                          0.3333333333333333,
                          "#9c179e"
                        ],
                        [
                          0.4444444444444444,
                          "#bd3786"
                        ],
                        [
                          0.5555555555555556,
                          "#d8576b"
                        ],
                        [
                          0.6666666666666666,
                          "#ed7953"
                        ],
                        [
                          0.7777777777777778,
                          "#fb9f3a"
                        ],
                        [
                          0.8888888888888888,
                          "#fdca26"
                        ],
                        [
                          1,
                          "#f0f921"
                        ]
                      ],
                      "sequentialminus": [
                        [
                          0,
                          "#0d0887"
                        ],
                        [
                          0.1111111111111111,
                          "#46039f"
                        ],
                        [
                          0.2222222222222222,
                          "#7201a8"
                        ],
                        [
                          0.3333333333333333,
                          "#9c179e"
                        ],
                        [
                          0.4444444444444444,
                          "#bd3786"
                        ],
                        [
                          0.5555555555555556,
                          "#d8576b"
                        ],
                        [
                          0.6666666666666666,
                          "#ed7953"
                        ],
                        [
                          0.7777777777777778,
                          "#fb9f3a"
                        ],
                        [
                          0.8888888888888888,
                          "#fdca26"
                        ],
                        [
                          1,
                          "#f0f921"
                        ]
                      ]
                    },
                    "colorway": [
                      "#636efa",
                      "#EF553B",
                      "#00cc96",
                      "#ab63fa",
                      "#FFA15A",
                      "#19d3f3",
                      "#FF6692",
                      "#B6E880",
                      "#FF97FF",
                      "#FECB52"
                    ],
                    "font": {
                      "color": "#2a3f5f"
                    },
                    "geo": {
                      "bgcolor": "white",
                      "lakecolor": "white",
                      "landcolor": "#E5ECF6",
                      "showlakes": true,
                      "showland": true,
                      "subunitcolor": "white"
                    },
                    "hoverlabel": {
                      "align": "left"
                    },
                    "hovermode": "closest",
                    "mapbox": {
                      "style": "light"
                    },
                    "paper_bgcolor": "white",
                    "plot_bgcolor": "#E5ECF6",
                    "polar": {
                      "angularaxis": {
                        "gridcolor": "white",
                        "linecolor": "white",
                        "ticks": ""
                      },
                      "bgcolor": "#E5ECF6",
                      "radialaxis": {
                        "gridcolor": "white",
                        "linecolor": "white",
                        "ticks": ""
                      }
                    },
                    "scene": {
                      "xaxis": {
                        "backgroundcolor": "#E5ECF6",
                        "gridcolor": "white",
                        "gridwidth": 2,
                        "linecolor": "white",
                        "showbackground": true,
                        "ticks": "",
                        "zerolinecolor": "white"
                      },
                      "yaxis": {
                        "backgroundcolor": "#E5ECF6",
                        "gridcolor": "white",
                        "gridwidth": 2,
                        "linecolor": "white",
                        "showbackground": true,
                        "ticks": "",
                        "zerolinecolor": "white"
                      },
                      "zaxis": {
                        "backgroundcolor": "#E5ECF6",
                        "gridcolor": "white",
                        "gridwidth": 2,
                        "linecolor": "white",
                        "showbackground": true,
                        "ticks": "",
                        "zerolinecolor": "white"
                      }
                    },
                    "shapedefaults": {
                      "line": {
                        "color": "#2a3f5f"
                      }
                    },
                    "ternary": {
                      "aaxis": {
                        "gridcolor": "white",
                        "linecolor": "white",
                        "ticks": ""
                      },
                      "baxis": {
                        "gridcolor": "white",
                        "linecolor": "white",
                        "ticks": ""
                      },
                      "bgcolor": "#E5ECF6",
                      "caxis": {
                        "gridcolor": "white",
                        "linecolor": "white",
                        "ticks": ""
                      }
                    },
                    "title": {
                      "x": 0.05
                    },
                    "xaxis": {
                      "automargin": true,
                      "gridcolor": "white",
                      "linecolor": "white",
                      "ticks": "",
                      "title": {
                        "standoff": 15
                      },
                      "zerolinecolor": "white",
                      "zerolinewidth": 2
                    },
                    "yaxis": {
                      "automargin": true,
                      "gridcolor": "white",
                      "linecolor": "white",
                      "ticks": "",
                      "title": {
                        "standoff": 15
                      },
                      "zerolinecolor": "white",
                      "zerolinewidth": 2
                    }
                  }
                },
                "title": {
                  "text": "Variação em R$ por resultado"
                },
                "xaxis": {
                  "anchor": "y",
                  "domain": [
                    0,
                    1
                  ],
                  "title": {
                    "text": "Resultado"
                  }
                },
                "yaxis": {
                  "anchor": "x",
                  "domain": [
                    0,
                    1
                  ],
                  "title": {
                    "text": "Variacao_rs"
                  }
                }
              }
            }
          },
          "metadata": {},
          "output_type": "display_data"
        }
      ],
      "source": [
        "fig = px.bar(df_analise_saldo, x = 'Resultado', y = 'Variacao_rs', text = 'Variacao_rs', title = 'Variação em R$ por resultado')\n",
        "fig.show()"
      ]
    },
    {
      "cell_type": "code",
      "execution_count": 60,
      "metadata": {
        "colab": {
          "base_uri": "https://localhost:8080/",
          "height": 542
        },
        "id": "nH-IhCu_0kCY",
        "outputId": "514959fc-dd08-45ae-a0e4-e3fa70bf2a62"
      },
      "outputs": [
        {
          "data": {
            "application/vnd.plotly.v1+json": {
              "config": {
                "plotlyServerURL": "https://plot.ly"
              },
              "data": [
                {
                  "domain": {
                    "x": [
                      0,
                      1
                    ],
                    "y": [
                      0,
                      1
                    ]
                  },
                  "hovertemplate": "Segmento=%{label}<br>Variacao_rs=%{value}<extra></extra>",
                  "labels": [
                    "Alimentos",
                    "Bancário",
                    "Calçados",
                    "Construção",
                    "Educação",
                    "Energia",
                    "Energia Elétrica",
                    "Holding",
                    "Investimentos",
                    "Logística",
                    "Mineração",
                    "Papel e Celulose",
                    "Petróleo e Gás",
                    "Química",
                    "Saúde",
                    "Serviços Financeiros",
                    "Shopping Centers",
                    "Siderurgia",
                    "Tecnologia",
                    "Telecomunicações",
                    "Transporte Aéreo",
                    "Varejo"
                  ],
                  "legendgroup": "",
                  "name": "",
                  "showlegend": true,
                  "type": "pie",
                  "values": [
                    "R$407,833,683.09",
                    "R$4,636,679,965.25",
                    "R$41,021,792.09",
                    "R$37,525,872.38",
                    "R$72,295,838.99",
                    "R$559,575,773.06",
                    "R$650,245,850.51",
                    "R$373,853,994.88",
                    "R$42,238,249.54",
                    "R$233,902,674.79",
                    "R$4,940,442,965.55",
                    "R$722,946,282.71",
                    "R$11,336,484,517.00",
                    "R$69,054,317.64",
                    "R$453,917,907.01",
                    "R$43,657,683.38",
                    "R$117,732,680.08",
                    "R$489,935,930.93",
                    "R$15,598,886.65",
                    "R$292,938,114.42",
                    "R$65,452,205.55",
                    "R$237,187,009.24"
                  ]
                }
              ],
              "layout": {
                "legend": {
                  "tracegroupgap": 0
                },
                "template": {
                  "data": {
                    "bar": [
                      {
                        "error_x": {
                          "color": "#2a3f5f"
                        },
                        "error_y": {
                          "color": "#2a3f5f"
                        },
                        "marker": {
                          "line": {
                            "color": "#E5ECF6",
                            "width": 0.5
                          },
                          "pattern": {
                            "fillmode": "overlay",
                            "size": 10,
                            "solidity": 0.2
                          }
                        },
                        "type": "bar"
                      }
                    ],
                    "barpolar": [
                      {
                        "marker": {
                          "line": {
                            "color": "#E5ECF6",
                            "width": 0.5
                          },
                          "pattern": {
                            "fillmode": "overlay",
                            "size": 10,
                            "solidity": 0.2
                          }
                        },
                        "type": "barpolar"
                      }
                    ],
                    "carpet": [
                      {
                        "aaxis": {
                          "endlinecolor": "#2a3f5f",
                          "gridcolor": "white",
                          "linecolor": "white",
                          "minorgridcolor": "white",
                          "startlinecolor": "#2a3f5f"
                        },
                        "baxis": {
                          "endlinecolor": "#2a3f5f",
                          "gridcolor": "white",
                          "linecolor": "white",
                          "minorgridcolor": "white",
                          "startlinecolor": "#2a3f5f"
                        },
                        "type": "carpet"
                      }
                    ],
                    "choropleth": [
                      {
                        "colorbar": {
                          "outlinewidth": 0,
                          "ticks": ""
                        },
                        "type": "choropleth"
                      }
                    ],
                    "contour": [
                      {
                        "colorbar": {
                          "outlinewidth": 0,
                          "ticks": ""
                        },
                        "colorscale": [
                          [
                            0,
                            "#0d0887"
                          ],
                          [
                            0.1111111111111111,
                            "#46039f"
                          ],
                          [
                            0.2222222222222222,
                            "#7201a8"
                          ],
                          [
                            0.3333333333333333,
                            "#9c179e"
                          ],
                          [
                            0.4444444444444444,
                            "#bd3786"
                          ],
                          [
                            0.5555555555555556,
                            "#d8576b"
                          ],
                          [
                            0.6666666666666666,
                            "#ed7953"
                          ],
                          [
                            0.7777777777777778,
                            "#fb9f3a"
                          ],
                          [
                            0.8888888888888888,
                            "#fdca26"
                          ],
                          [
                            1,
                            "#f0f921"
                          ]
                        ],
                        "type": "contour"
                      }
                    ],
                    "contourcarpet": [
                      {
                        "colorbar": {
                          "outlinewidth": 0,
                          "ticks": ""
                        },
                        "type": "contourcarpet"
                      }
                    ],
                    "heatmap": [
                      {
                        "colorbar": {
                          "outlinewidth": 0,
                          "ticks": ""
                        },
                        "colorscale": [
                          [
                            0,
                            "#0d0887"
                          ],
                          [
                            0.1111111111111111,
                            "#46039f"
                          ],
                          [
                            0.2222222222222222,
                            "#7201a8"
                          ],
                          [
                            0.3333333333333333,
                            "#9c179e"
                          ],
                          [
                            0.4444444444444444,
                            "#bd3786"
                          ],
                          [
                            0.5555555555555556,
                            "#d8576b"
                          ],
                          [
                            0.6666666666666666,
                            "#ed7953"
                          ],
                          [
                            0.7777777777777778,
                            "#fb9f3a"
                          ],
                          [
                            0.8888888888888888,
                            "#fdca26"
                          ],
                          [
                            1,
                            "#f0f921"
                          ]
                        ],
                        "type": "heatmap"
                      }
                    ],
                    "heatmapgl": [
                      {
                        "colorbar": {
                          "outlinewidth": 0,
                          "ticks": ""
                        },
                        "colorscale": [
                          [
                            0,
                            "#0d0887"
                          ],
                          [
                            0.1111111111111111,
                            "#46039f"
                          ],
                          [
                            0.2222222222222222,
                            "#7201a8"
                          ],
                          [
                            0.3333333333333333,
                            "#9c179e"
                          ],
                          [
                            0.4444444444444444,
                            "#bd3786"
                          ],
                          [
                            0.5555555555555556,
                            "#d8576b"
                          ],
                          [
                            0.6666666666666666,
                            "#ed7953"
                          ],
                          [
                            0.7777777777777778,
                            "#fb9f3a"
                          ],
                          [
                            0.8888888888888888,
                            "#fdca26"
                          ],
                          [
                            1,
                            "#f0f921"
                          ]
                        ],
                        "type": "heatmapgl"
                      }
                    ],
                    "histogram": [
                      {
                        "marker": {
                          "pattern": {
                            "fillmode": "overlay",
                            "size": 10,
                            "solidity": 0.2
                          }
                        },
                        "type": "histogram"
                      }
                    ],
                    "histogram2d": [
                      {
                        "colorbar": {
                          "outlinewidth": 0,
                          "ticks": ""
                        },
                        "colorscale": [
                          [
                            0,
                            "#0d0887"
                          ],
                          [
                            0.1111111111111111,
                            "#46039f"
                          ],
                          [
                            0.2222222222222222,
                            "#7201a8"
                          ],
                          [
                            0.3333333333333333,
                            "#9c179e"
                          ],
                          [
                            0.4444444444444444,
                            "#bd3786"
                          ],
                          [
                            0.5555555555555556,
                            "#d8576b"
                          ],
                          [
                            0.6666666666666666,
                            "#ed7953"
                          ],
                          [
                            0.7777777777777778,
                            "#fb9f3a"
                          ],
                          [
                            0.8888888888888888,
                            "#fdca26"
                          ],
                          [
                            1,
                            "#f0f921"
                          ]
                        ],
                        "type": "histogram2d"
                      }
                    ],
                    "histogram2dcontour": [
                      {
                        "colorbar": {
                          "outlinewidth": 0,
                          "ticks": ""
                        },
                        "colorscale": [
                          [
                            0,
                            "#0d0887"
                          ],
                          [
                            0.1111111111111111,
                            "#46039f"
                          ],
                          [
                            0.2222222222222222,
                            "#7201a8"
                          ],
                          [
                            0.3333333333333333,
                            "#9c179e"
                          ],
                          [
                            0.4444444444444444,
                            "#bd3786"
                          ],
                          [
                            0.5555555555555556,
                            "#d8576b"
                          ],
                          [
                            0.6666666666666666,
                            "#ed7953"
                          ],
                          [
                            0.7777777777777778,
                            "#fb9f3a"
                          ],
                          [
                            0.8888888888888888,
                            "#fdca26"
                          ],
                          [
                            1,
                            "#f0f921"
                          ]
                        ],
                        "type": "histogram2dcontour"
                      }
                    ],
                    "mesh3d": [
                      {
                        "colorbar": {
                          "outlinewidth": 0,
                          "ticks": ""
                        },
                        "type": "mesh3d"
                      }
                    ],
                    "parcoords": [
                      {
                        "line": {
                          "colorbar": {
                            "outlinewidth": 0,
                            "ticks": ""
                          }
                        },
                        "type": "parcoords"
                      }
                    ],
                    "pie": [
                      {
                        "automargin": true,
                        "type": "pie"
                      }
                    ],
                    "scatter": [
                      {
                        "fillpattern": {
                          "fillmode": "overlay",
                          "size": 10,
                          "solidity": 0.2
                        },
                        "type": "scatter"
                      }
                    ],
                    "scatter3d": [
                      {
                        "line": {
                          "colorbar": {
                            "outlinewidth": 0,
                            "ticks": ""
                          }
                        },
                        "marker": {
                          "colorbar": {
                            "outlinewidth": 0,
                            "ticks": ""
                          }
                        },
                        "type": "scatter3d"
                      }
                    ],
                    "scattercarpet": [
                      {
                        "marker": {
                          "colorbar": {
                            "outlinewidth": 0,
                            "ticks": ""
                          }
                        },
                        "type": "scattercarpet"
                      }
                    ],
                    "scattergeo": [
                      {
                        "marker": {
                          "colorbar": {
                            "outlinewidth": 0,
                            "ticks": ""
                          }
                        },
                        "type": "scattergeo"
                      }
                    ],
                    "scattergl": [
                      {
                        "marker": {
                          "colorbar": {
                            "outlinewidth": 0,
                            "ticks": ""
                          }
                        },
                        "type": "scattergl"
                      }
                    ],
                    "scattermapbox": [
                      {
                        "marker": {
                          "colorbar": {
                            "outlinewidth": 0,
                            "ticks": ""
                          }
                        },
                        "type": "scattermapbox"
                      }
                    ],
                    "scatterpolar": [
                      {
                        "marker": {
                          "colorbar": {
                            "outlinewidth": 0,
                            "ticks": ""
                          }
                        },
                        "type": "scatterpolar"
                      }
                    ],
                    "scatterpolargl": [
                      {
                        "marker": {
                          "colorbar": {
                            "outlinewidth": 0,
                            "ticks": ""
                          }
                        },
                        "type": "scatterpolargl"
                      }
                    ],
                    "scatterternary": [
                      {
                        "marker": {
                          "colorbar": {
                            "outlinewidth": 0,
                            "ticks": ""
                          }
                        },
                        "type": "scatterternary"
                      }
                    ],
                    "surface": [
                      {
                        "colorbar": {
                          "outlinewidth": 0,
                          "ticks": ""
                        },
                        "colorscale": [
                          [
                            0,
                            "#0d0887"
                          ],
                          [
                            0.1111111111111111,
                            "#46039f"
                          ],
                          [
                            0.2222222222222222,
                            "#7201a8"
                          ],
                          [
                            0.3333333333333333,
                            "#9c179e"
                          ],
                          [
                            0.4444444444444444,
                            "#bd3786"
                          ],
                          [
                            0.5555555555555556,
                            "#d8576b"
                          ],
                          [
                            0.6666666666666666,
                            "#ed7953"
                          ],
                          [
                            0.7777777777777778,
                            "#fb9f3a"
                          ],
                          [
                            0.8888888888888888,
                            "#fdca26"
                          ],
                          [
                            1,
                            "#f0f921"
                          ]
                        ],
                        "type": "surface"
                      }
                    ],
                    "table": [
                      {
                        "cells": {
                          "fill": {
                            "color": "#EBF0F8"
                          },
                          "line": {
                            "color": "white"
                          }
                        },
                        "header": {
                          "fill": {
                            "color": "#C8D4E3"
                          },
                          "line": {
                            "color": "white"
                          }
                        },
                        "type": "table"
                      }
                    ]
                  },
                  "layout": {
                    "annotationdefaults": {
                      "arrowcolor": "#2a3f5f",
                      "arrowhead": 0,
                      "arrowwidth": 1
                    },
                    "autotypenumbers": "strict",
                    "coloraxis": {
                      "colorbar": {
                        "outlinewidth": 0,
                        "ticks": ""
                      }
                    },
                    "colorscale": {
                      "diverging": [
                        [
                          0,
                          "#8e0152"
                        ],
                        [
                          0.1,
                          "#c51b7d"
                        ],
                        [
                          0.2,
                          "#de77ae"
                        ],
                        [
                          0.3,
                          "#f1b6da"
                        ],
                        [
                          0.4,
                          "#fde0ef"
                        ],
                        [
                          0.5,
                          "#f7f7f7"
                        ],
                        [
                          0.6,
                          "#e6f5d0"
                        ],
                        [
                          0.7,
                          "#b8e186"
                        ],
                        [
                          0.8,
                          "#7fbc41"
                        ],
                        [
                          0.9,
                          "#4d9221"
                        ],
                        [
                          1,
                          "#276419"
                        ]
                      ],
                      "sequential": [
                        [
                          0,
                          "#0d0887"
                        ],
                        [
                          0.1111111111111111,
                          "#46039f"
                        ],
                        [
                          0.2222222222222222,
                          "#7201a8"
                        ],
                        [
                          0.3333333333333333,
                          "#9c179e"
                        ],
                        [
                          0.4444444444444444,
                          "#bd3786"
                        ],
                        [
                          0.5555555555555556,
                          "#d8576b"
                        ],
                        [
                          0.6666666666666666,
                          "#ed7953"
                        ],
                        [
                          0.7777777777777778,
                          "#fb9f3a"
                        ],
                        [
                          0.8888888888888888,
                          "#fdca26"
                        ],
                        [
                          1,
                          "#f0f921"
                        ]
                      ],
                      "sequentialminus": [
                        [
                          0,
                          "#0d0887"
                        ],
                        [
                          0.1111111111111111,
                          "#46039f"
                        ],
                        [
                          0.2222222222222222,
                          "#7201a8"
                        ],
                        [
                          0.3333333333333333,
                          "#9c179e"
                        ],
                        [
                          0.4444444444444444,
                          "#bd3786"
                        ],
                        [
                          0.5555555555555556,
                          "#d8576b"
                        ],
                        [
                          0.6666666666666666,
                          "#ed7953"
                        ],
                        [
                          0.7777777777777778,
                          "#fb9f3a"
                        ],
                        [
                          0.8888888888888888,
                          "#fdca26"
                        ],
                        [
                          1,
                          "#f0f921"
                        ]
                      ]
                    },
                    "colorway": [
                      "#636efa",
                      "#EF553B",
                      "#00cc96",
                      "#ab63fa",
                      "#FFA15A",
                      "#19d3f3",
                      "#FF6692",
                      "#B6E880",
                      "#FF97FF",
                      "#FECB52"
                    ],
                    "font": {
                      "color": "#2a3f5f"
                    },
                    "geo": {
                      "bgcolor": "white",
                      "lakecolor": "white",
                      "landcolor": "#E5ECF6",
                      "showlakes": true,
                      "showland": true,
                      "subunitcolor": "white"
                    },
                    "hoverlabel": {
                      "align": "left"
                    },
                    "hovermode": "closest",
                    "mapbox": {
                      "style": "light"
                    },
                    "paper_bgcolor": "white",
                    "plot_bgcolor": "#E5ECF6",
                    "polar": {
                      "angularaxis": {
                        "gridcolor": "white",
                        "linecolor": "white",
                        "ticks": ""
                      },
                      "bgcolor": "#E5ECF6",
                      "radialaxis": {
                        "gridcolor": "white",
                        "linecolor": "white",
                        "ticks": ""
                      }
                    },
                    "scene": {
                      "xaxis": {
                        "backgroundcolor": "#E5ECF6",
                        "gridcolor": "white",
                        "gridwidth": 2,
                        "linecolor": "white",
                        "showbackground": true,
                        "ticks": "",
                        "zerolinecolor": "white"
                      },
                      "yaxis": {
                        "backgroundcolor": "#E5ECF6",
                        "gridcolor": "white",
                        "gridwidth": 2,
                        "linecolor": "white",
                        "showbackground": true,
                        "ticks": "",
                        "zerolinecolor": "white"
                      },
                      "zaxis": {
                        "backgroundcolor": "#E5ECF6",
                        "gridcolor": "white",
                        "gridwidth": 2,
                        "linecolor": "white",
                        "showbackground": true,
                        "ticks": "",
                        "zerolinecolor": "white"
                      }
                    },
                    "shapedefaults": {
                      "line": {
                        "color": "#2a3f5f"
                      }
                    },
                    "ternary": {
                      "aaxis": {
                        "gridcolor": "white",
                        "linecolor": "white",
                        "ticks": ""
                      },
                      "baxis": {
                        "gridcolor": "white",
                        "linecolor": "white",
                        "ticks": ""
                      },
                      "bgcolor": "#E5ECF6",
                      "caxis": {
                        "gridcolor": "white",
                        "linecolor": "white",
                        "ticks": ""
                      }
                    },
                    "title": {
                      "x": 0.05
                    },
                    "xaxis": {
                      "automargin": true,
                      "gridcolor": "white",
                      "linecolor": "white",
                      "ticks": "",
                      "title": {
                        "standoff": 15
                      },
                      "zerolinecolor": "white",
                      "zerolinewidth": 2
                    },
                    "yaxis": {
                      "automargin": true,
                      "gridcolor": "white",
                      "linecolor": "white",
                      "ticks": "",
                      "title": {
                        "standoff": 15
                      },
                      "zerolinecolor": "white",
                      "zerolinewidth": 2
                    }
                  }
                },
                "title": {
                  "text": "Variação em R$ por segmento"
                }
              }
            }
          },
          "metadata": {},
          "output_type": "display_data"
        }
      ],
      "source": [
        "fig = px.pie(df_analise_segmento, names = 'Segmento', values = 'Variacao_rs', title = 'Variação em R$ por segmento')\n",
        "fig.show()"
      ]
    },
    {
      "cell_type": "code",
      "execution_count": 57,
      "metadata": {
        "colab": {
          "base_uri": "https://localhost:8080/",
          "height": 143
        },
        "id": "AGAiI0Qf1Q_b",
        "outputId": "7e2aba39-c2c9-41cb-cd55-641d49fb8cff"
      },
      "outputs": [
        {
          "data": {
            "text/html": [
              "<div>\n",
              "<style scoped>\n",
              "    .dataframe tbody tr th:only-of-type {\n",
              "        vertical-align: middle;\n",
              "    }\n",
              "\n",
              "    .dataframe tbody tr th {\n",
              "        vertical-align: top;\n",
              "    }\n",
              "\n",
              "    .dataframe thead th {\n",
              "        text-align: right;\n",
              "    }\n",
              "</style>\n",
              "<table border=\"1\" class=\"dataframe\">\n",
              "  <thead>\n",
              "    <tr style=\"text-align: right;\">\n",
              "      <th></th>\n",
              "      <th>Cat_idade</th>\n",
              "      <th>Variacao_rs</th>\n",
              "    </tr>\n",
              "  </thead>\n",
              "  <tbody>\n",
              "    <tr>\n",
              "      <th>0</th>\n",
              "      <td>Entre 50 e 100</td>\n",
              "      <td>16109623509.36</td>\n",
              "    </tr>\n",
              "    <tr>\n",
              "      <th>1</th>\n",
              "      <td>Mais de 100</td>\n",
              "      <td>619545989.86</td>\n",
              "    </tr>\n",
              "    <tr>\n",
              "      <th>2</th>\n",
              "      <td>Menos de 50</td>\n",
              "      <td>2219536208.53</td>\n",
              "    </tr>\n",
              "  </tbody>\n",
              "</table>\n",
              "</div>"
            ],
            "text/plain": [
              "        Cat_idade    Variacao_rs\n",
              "0  Entre 50 e 100 16109623509.36\n",
              "1     Mais de 100   619545989.86\n",
              "2     Menos de 50  2219536208.53"
            ]
          },
          "execution_count": 57,
          "metadata": {},
          "output_type": "execute_result"
        }
      ],
      "source": [
        "df_analise_cat_idade = df_principal.groupby('Cat_idade')['Variacao_rs'].sum().reset_index()\n",
        "df_analise_cat_idade"
      ]
    },
    {
      "cell_type": "code",
      "execution_count": 58,
      "metadata": {
        "colab": {
          "base_uri": "https://localhost:8080/",
          "height": 542
        },
        "id": "8CbzhlMb1c6X",
        "outputId": "8c7ecff3-897c-45ab-f5e6-1167b75c37ee"
      },
      "outputs": [
        {
          "data": {
            "application/vnd.plotly.v1+json": {
              "config": {
                "plotlyServerURL": "https://plot.ly"
              },
              "data": [
                {
                  "alignmentgroup": "True",
                  "hovertemplate": "Cat_idade=%{x}<br>Variacao_rs=%{text}<extra></extra>",
                  "legendgroup": "",
                  "marker": {
                    "color": "#636efa",
                    "pattern": {
                      "shape": ""
                    }
                  },
                  "name": "",
                  "offsetgroup": "",
                  "orientation": "v",
                  "showlegend": false,
                  "text": [
                    16109623509.362316,
                    619545989.855691,
                    2219536208.5340734
                  ],
                  "textposition": "auto",
                  "type": "bar",
                  "x": [
                    "Entre 50 e 100",
                    "Mais de 100",
                    "Menos de 50"
                  ],
                  "xaxis": "x",
                  "y": [
                    16109623509.362316,
                    619545989.855691,
                    2219536208.5340734
                  ],
                  "yaxis": "y"
                }
              ],
              "layout": {
                "barmode": "relative",
                "legend": {
                  "tracegroupgap": 0
                },
                "template": {
                  "data": {
                    "bar": [
                      {
                        "error_x": {
                          "color": "#2a3f5f"
                        },
                        "error_y": {
                          "color": "#2a3f5f"
                        },
                        "marker": {
                          "line": {
                            "color": "#E5ECF6",
                            "width": 0.5
                          },
                          "pattern": {
                            "fillmode": "overlay",
                            "size": 10,
                            "solidity": 0.2
                          }
                        },
                        "type": "bar"
                      }
                    ],
                    "barpolar": [
                      {
                        "marker": {
                          "line": {
                            "color": "#E5ECF6",
                            "width": 0.5
                          },
                          "pattern": {
                            "fillmode": "overlay",
                            "size": 10,
                            "solidity": 0.2
                          }
                        },
                        "type": "barpolar"
                      }
                    ],
                    "carpet": [
                      {
                        "aaxis": {
                          "endlinecolor": "#2a3f5f",
                          "gridcolor": "white",
                          "linecolor": "white",
                          "minorgridcolor": "white",
                          "startlinecolor": "#2a3f5f"
                        },
                        "baxis": {
                          "endlinecolor": "#2a3f5f",
                          "gridcolor": "white",
                          "linecolor": "white",
                          "minorgridcolor": "white",
                          "startlinecolor": "#2a3f5f"
                        },
                        "type": "carpet"
                      }
                    ],
                    "choropleth": [
                      {
                        "colorbar": {
                          "outlinewidth": 0,
                          "ticks": ""
                        },
                        "type": "choropleth"
                      }
                    ],
                    "contour": [
                      {
                        "colorbar": {
                          "outlinewidth": 0,
                          "ticks": ""
                        },
                        "colorscale": [
                          [
                            0,
                            "#0d0887"
                          ],
                          [
                            0.1111111111111111,
                            "#46039f"
                          ],
                          [
                            0.2222222222222222,
                            "#7201a8"
                          ],
                          [
                            0.3333333333333333,
                            "#9c179e"
                          ],
                          [
                            0.4444444444444444,
                            "#bd3786"
                          ],
                          [
                            0.5555555555555556,
                            "#d8576b"
                          ],
                          [
                            0.6666666666666666,
                            "#ed7953"
                          ],
                          [
                            0.7777777777777778,
                            "#fb9f3a"
                          ],
                          [
                            0.8888888888888888,
                            "#fdca26"
                          ],
                          [
                            1,
                            "#f0f921"
                          ]
                        ],
                        "type": "contour"
                      }
                    ],
                    "contourcarpet": [
                      {
                        "colorbar": {
                          "outlinewidth": 0,
                          "ticks": ""
                        },
                        "type": "contourcarpet"
                      }
                    ],
                    "heatmap": [
                      {
                        "colorbar": {
                          "outlinewidth": 0,
                          "ticks": ""
                        },
                        "colorscale": [
                          [
                            0,
                            "#0d0887"
                          ],
                          [
                            0.1111111111111111,
                            "#46039f"
                          ],
                          [
                            0.2222222222222222,
                            "#7201a8"
                          ],
                          [
                            0.3333333333333333,
                            "#9c179e"
                          ],
                          [
                            0.4444444444444444,
                            "#bd3786"
                          ],
                          [
                            0.5555555555555556,
                            "#d8576b"
                          ],
                          [
                            0.6666666666666666,
                            "#ed7953"
                          ],
                          [
                            0.7777777777777778,
                            "#fb9f3a"
                          ],
                          [
                            0.8888888888888888,
                            "#fdca26"
                          ],
                          [
                            1,
                            "#f0f921"
                          ]
                        ],
                        "type": "heatmap"
                      }
                    ],
                    "heatmapgl": [
                      {
                        "colorbar": {
                          "outlinewidth": 0,
                          "ticks": ""
                        },
                        "colorscale": [
                          [
                            0,
                            "#0d0887"
                          ],
                          [
                            0.1111111111111111,
                            "#46039f"
                          ],
                          [
                            0.2222222222222222,
                            "#7201a8"
                          ],
                          [
                            0.3333333333333333,
                            "#9c179e"
                          ],
                          [
                            0.4444444444444444,
                            "#bd3786"
                          ],
                          [
                            0.5555555555555556,
                            "#d8576b"
                          ],
                          [
                            0.6666666666666666,
                            "#ed7953"
                          ],
                          [
                            0.7777777777777778,
                            "#fb9f3a"
                          ],
                          [
                            0.8888888888888888,
                            "#fdca26"
                          ],
                          [
                            1,
                            "#f0f921"
                          ]
                        ],
                        "type": "heatmapgl"
                      }
                    ],
                    "histogram": [
                      {
                        "marker": {
                          "pattern": {
                            "fillmode": "overlay",
                            "size": 10,
                            "solidity": 0.2
                          }
                        },
                        "type": "histogram"
                      }
                    ],
                    "histogram2d": [
                      {
                        "colorbar": {
                          "outlinewidth": 0,
                          "ticks": ""
                        },
                        "colorscale": [
                          [
                            0,
                            "#0d0887"
                          ],
                          [
                            0.1111111111111111,
                            "#46039f"
                          ],
                          [
                            0.2222222222222222,
                            "#7201a8"
                          ],
                          [
                            0.3333333333333333,
                            "#9c179e"
                          ],
                          [
                            0.4444444444444444,
                            "#bd3786"
                          ],
                          [
                            0.5555555555555556,
                            "#d8576b"
                          ],
                          [
                            0.6666666666666666,
                            "#ed7953"
                          ],
                          [
                            0.7777777777777778,
                            "#fb9f3a"
                          ],
                          [
                            0.8888888888888888,
                            "#fdca26"
                          ],
                          [
                            1,
                            "#f0f921"
                          ]
                        ],
                        "type": "histogram2d"
                      }
                    ],
                    "histogram2dcontour": [
                      {
                        "colorbar": {
                          "outlinewidth": 0,
                          "ticks": ""
                        },
                        "colorscale": [
                          [
                            0,
                            "#0d0887"
                          ],
                          [
                            0.1111111111111111,
                            "#46039f"
                          ],
                          [
                            0.2222222222222222,
                            "#7201a8"
                          ],
                          [
                            0.3333333333333333,
                            "#9c179e"
                          ],
                          [
                            0.4444444444444444,
                            "#bd3786"
                          ],
                          [
                            0.5555555555555556,
                            "#d8576b"
                          ],
                          [
                            0.6666666666666666,
                            "#ed7953"
                          ],
                          [
                            0.7777777777777778,
                            "#fb9f3a"
                          ],
                          [
                            0.8888888888888888,
                            "#fdca26"
                          ],
                          [
                            1,
                            "#f0f921"
                          ]
                        ],
                        "type": "histogram2dcontour"
                      }
                    ],
                    "mesh3d": [
                      {
                        "colorbar": {
                          "outlinewidth": 0,
                          "ticks": ""
                        },
                        "type": "mesh3d"
                      }
                    ],
                    "parcoords": [
                      {
                        "line": {
                          "colorbar": {
                            "outlinewidth": 0,
                            "ticks": ""
                          }
                        },
                        "type": "parcoords"
                      }
                    ],
                    "pie": [
                      {
                        "automargin": true,
                        "type": "pie"
                      }
                    ],
                    "scatter": [
                      {
                        "fillpattern": {
                          "fillmode": "overlay",
                          "size": 10,
                          "solidity": 0.2
                        },
                        "type": "scatter"
                      }
                    ],
                    "scatter3d": [
                      {
                        "line": {
                          "colorbar": {
                            "outlinewidth": 0,
                            "ticks": ""
                          }
                        },
                        "marker": {
                          "colorbar": {
                            "outlinewidth": 0,
                            "ticks": ""
                          }
                        },
                        "type": "scatter3d"
                      }
                    ],
                    "scattercarpet": [
                      {
                        "marker": {
                          "colorbar": {
                            "outlinewidth": 0,
                            "ticks": ""
                          }
                        },
                        "type": "scattercarpet"
                      }
                    ],
                    "scattergeo": [
                      {
                        "marker": {
                          "colorbar": {
                            "outlinewidth": 0,
                            "ticks": ""
                          }
                        },
                        "type": "scattergeo"
                      }
                    ],
                    "scattergl": [
                      {
                        "marker": {
                          "colorbar": {
                            "outlinewidth": 0,
                            "ticks": ""
                          }
                        },
                        "type": "scattergl"
                      }
                    ],
                    "scattermapbox": [
                      {
                        "marker": {
                          "colorbar": {
                            "outlinewidth": 0,
                            "ticks": ""
                          }
                        },
                        "type": "scattermapbox"
                      }
                    ],
                    "scatterpolar": [
                      {
                        "marker": {
                          "colorbar": {
                            "outlinewidth": 0,
                            "ticks": ""
                          }
                        },
                        "type": "scatterpolar"
                      }
                    ],
                    "scatterpolargl": [
                      {
                        "marker": {
                          "colorbar": {
                            "outlinewidth": 0,
                            "ticks": ""
                          }
                        },
                        "type": "scatterpolargl"
                      }
                    ],
                    "scatterternary": [
                      {
                        "marker": {
                          "colorbar": {
                            "outlinewidth": 0,
                            "ticks": ""
                          }
                        },
                        "type": "scatterternary"
                      }
                    ],
                    "surface": [
                      {
                        "colorbar": {
                          "outlinewidth": 0,
                          "ticks": ""
                        },
                        "colorscale": [
                          [
                            0,
                            "#0d0887"
                          ],
                          [
                            0.1111111111111111,
                            "#46039f"
                          ],
                          [
                            0.2222222222222222,
                            "#7201a8"
                          ],
                          [
                            0.3333333333333333,
                            "#9c179e"
                          ],
                          [
                            0.4444444444444444,
                            "#bd3786"
                          ],
                          [
                            0.5555555555555556,
                            "#d8576b"
                          ],
                          [
                            0.6666666666666666,
                            "#ed7953"
                          ],
                          [
                            0.7777777777777778,
                            "#fb9f3a"
                          ],
                          [
                            0.8888888888888888,
                            "#fdca26"
                          ],
                          [
                            1,
                            "#f0f921"
                          ]
                        ],
                        "type": "surface"
                      }
                    ],
                    "table": [
                      {
                        "cells": {
                          "fill": {
                            "color": "#EBF0F8"
                          },
                          "line": {
                            "color": "white"
                          }
                        },
                        "header": {
                          "fill": {
                            "color": "#C8D4E3"
                          },
                          "line": {
                            "color": "white"
                          }
                        },
                        "type": "table"
                      }
                    ]
                  },
                  "layout": {
                    "annotationdefaults": {
                      "arrowcolor": "#2a3f5f",
                      "arrowhead": 0,
                      "arrowwidth": 1
                    },
                    "autotypenumbers": "strict",
                    "coloraxis": {
                      "colorbar": {
                        "outlinewidth": 0,
                        "ticks": ""
                      }
                    },
                    "colorscale": {
                      "diverging": [
                        [
                          0,
                          "#8e0152"
                        ],
                        [
                          0.1,
                          "#c51b7d"
                        ],
                        [
                          0.2,
                          "#de77ae"
                        ],
                        [
                          0.3,
                          "#f1b6da"
                        ],
                        [
                          0.4,
                          "#fde0ef"
                        ],
                        [
                          0.5,
                          "#f7f7f7"
                        ],
                        [
                          0.6,
                          "#e6f5d0"
                        ],
                        [
                          0.7,
                          "#b8e186"
                        ],
                        [
                          0.8,
                          "#7fbc41"
                        ],
                        [
                          0.9,
                          "#4d9221"
                        ],
                        [
                          1,
                          "#276419"
                        ]
                      ],
                      "sequential": [
                        [
                          0,
                          "#0d0887"
                        ],
                        [
                          0.1111111111111111,
                          "#46039f"
                        ],
                        [
                          0.2222222222222222,
                          "#7201a8"
                        ],
                        [
                          0.3333333333333333,
                          "#9c179e"
                        ],
                        [
                          0.4444444444444444,
                          "#bd3786"
                        ],
                        [
                          0.5555555555555556,
                          "#d8576b"
                        ],
                        [
                          0.6666666666666666,
                          "#ed7953"
                        ],
                        [
                          0.7777777777777778,
                          "#fb9f3a"
                        ],
                        [
                          0.8888888888888888,
                          "#fdca26"
                        ],
                        [
                          1,
                          "#f0f921"
                        ]
                      ],
                      "sequentialminus": [
                        [
                          0,
                          "#0d0887"
                        ],
                        [
                          0.1111111111111111,
                          "#46039f"
                        ],
                        [
                          0.2222222222222222,
                          "#7201a8"
                        ],
                        [
                          0.3333333333333333,
                          "#9c179e"
                        ],
                        [
                          0.4444444444444444,
                          "#bd3786"
                        ],
                        [
                          0.5555555555555556,
                          "#d8576b"
                        ],
                        [
                          0.6666666666666666,
                          "#ed7953"
                        ],
                        [
                          0.7777777777777778,
                          "#fb9f3a"
                        ],
                        [
                          0.8888888888888888,
                          "#fdca26"
                        ],
                        [
                          1,
                          "#f0f921"
                        ]
                      ]
                    },
                    "colorway": [
                      "#636efa",
                      "#EF553B",
                      "#00cc96",
                      "#ab63fa",
                      "#FFA15A",
                      "#19d3f3",
                      "#FF6692",
                      "#B6E880",
                      "#FF97FF",
                      "#FECB52"
                    ],
                    "font": {
                      "color": "#2a3f5f"
                    },
                    "geo": {
                      "bgcolor": "white",
                      "lakecolor": "white",
                      "landcolor": "#E5ECF6",
                      "showlakes": true,
                      "showland": true,
                      "subunitcolor": "white"
                    },
                    "hoverlabel": {
                      "align": "left"
                    },
                    "hovermode": "closest",
                    "mapbox": {
                      "style": "light"
                    },
                    "paper_bgcolor": "white",
                    "plot_bgcolor": "#E5ECF6",
                    "polar": {
                      "angularaxis": {
                        "gridcolor": "white",
                        "linecolor": "white",
                        "ticks": ""
                      },
                      "bgcolor": "#E5ECF6",
                      "radialaxis": {
                        "gridcolor": "white",
                        "linecolor": "white",
                        "ticks": ""
                      }
                    },
                    "scene": {
                      "xaxis": {
                        "backgroundcolor": "#E5ECF6",
                        "gridcolor": "white",
                        "gridwidth": 2,
                        "linecolor": "white",
                        "showbackground": true,
                        "ticks": "",
                        "zerolinecolor": "white"
                      },
                      "yaxis": {
                        "backgroundcolor": "#E5ECF6",
                        "gridcolor": "white",
                        "gridwidth": 2,
                        "linecolor": "white",
                        "showbackground": true,
                        "ticks": "",
                        "zerolinecolor": "white"
                      },
                      "zaxis": {
                        "backgroundcolor": "#E5ECF6",
                        "gridcolor": "white",
                        "gridwidth": 2,
                        "linecolor": "white",
                        "showbackground": true,
                        "ticks": "",
                        "zerolinecolor": "white"
                      }
                    },
                    "shapedefaults": {
                      "line": {
                        "color": "#2a3f5f"
                      }
                    },
                    "ternary": {
                      "aaxis": {
                        "gridcolor": "white",
                        "linecolor": "white",
                        "ticks": ""
                      },
                      "baxis": {
                        "gridcolor": "white",
                        "linecolor": "white",
                        "ticks": ""
                      },
                      "bgcolor": "#E5ECF6",
                      "caxis": {
                        "gridcolor": "white",
                        "linecolor": "white",
                        "ticks": ""
                      }
                    },
                    "title": {
                      "x": 0.05
                    },
                    "xaxis": {
                      "automargin": true,
                      "gridcolor": "white",
                      "linecolor": "white",
                      "ticks": "",
                      "title": {
                        "standoff": 15
                      },
                      "zerolinecolor": "white",
                      "zerolinewidth": 2
                    },
                    "yaxis": {
                      "automargin": true,
                      "gridcolor": "white",
                      "linecolor": "white",
                      "ticks": "",
                      "title": {
                        "standoff": 15
                      },
                      "zerolinecolor": "white",
                      "zerolinewidth": 2
                    }
                  }
                },
                "title": {
                  "text": "Variação em R$ por categoria idade"
                },
                "xaxis": {
                  "anchor": "y",
                  "domain": [
                    0,
                    1
                  ],
                  "title": {
                    "text": "Cat_idade"
                  }
                },
                "yaxis": {
                  "anchor": "x",
                  "domain": [
                    0,
                    1
                  ],
                  "title": {
                    "text": "Variacao_rs"
                  }
                }
              }
            }
          },
          "metadata": {},
          "output_type": "display_data"
        }
      ],
      "source": [
        "fig = px.bar(df_analise_cat_idade, x = 'Cat_idade', y = 'Variacao_rs', text = 'Variacao_rs', title = 'Variação em R$ por categoria idade')\n",
        "fig.show()"
      ]
    }
  ],
  "metadata": {
    "colab": {
      "provenance": []
    },
    "kernelspec": {
      "display_name": "Python 3",
      "name": "python3"
    },
    "language_info": {
      "codemirror_mode": {
        "name": "ipython",
        "version": 3
      },
      "file_extension": ".py",
      "mimetype": "text/x-python",
      "name": "python",
      "nbconvert_exporter": "python",
      "pygments_lexer": "ipython3",
      "version": "3.12.2"
    }
  },
  "nbformat": 4,
  "nbformat_minor": 0
}
